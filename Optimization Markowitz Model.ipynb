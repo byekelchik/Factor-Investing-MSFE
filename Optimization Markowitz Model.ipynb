{
 "cells": [
  {
   "cell_type": "code",
   "execution_count": 12,
   "id": "efficient-feedback",
   "metadata": {},
   "outputs": [],
   "source": [
    "import numpy as np\n",
    "import pandas as pd\n",
    "#import matplotlib.pyplot as plt\n",
    "#from scipy.stats import norm\n",
    "#from scipy.stats import linregress\n",
    "#import statsmodels.formula.api as smf\n",
    "import csv\n",
    "import scipy.optimize as opt\n",
    "import pandas_datareader as pdr\n",
    "from datetime import datetime\n"
   ]
  },
  {
   "cell_type": "code",
   "execution_count": 2,
   "id": "sharing-edition",
   "metadata": {},
   "outputs": [],
   "source": [
    "# function to read in data from a csv\n",
    "def readPricesCSV(file):\n",
    "    df = pd.read_csv(file)\n",
    "    dfPrices = df[\"Close\"]\n",
    "    return dfPrices"
   ]
  },
  {
   "cell_type": "code",
   "execution_count": 17,
   "id": "complex-temple",
   "metadata": {},
   "outputs": [],
   "source": [
    "# function to read in stock prices from yahoo finance in real time\n",
    "def readPricesYF(start_date, end_date, tickers):\n",
    "    stockPrices = pdr.get_data_yahoo(tickers, start=start_date, end=end_date)   # read in the data\n",
    "    stockPrices = stockPrices.filter(like='Adj Close')   # tickers are columns and data values are adjusted closing prices with the date as the index\n",
    "    stockPrices.columns = tickers   # change column names to be their tickers\n",
    "    stockPrices = stockPrices.stack().swaplevel().sort_index().reset_index()    # make the data tall and clean it up so it is easier to perform analysis on\n",
    "    stockPrices.columns = ['Firm','Date','Adj Close']     # rename the columns\n",
    "#    stockPrices['Return'] = stockPrices.groupby('Firm')['Adj Close'].pct_change()    # get the daily returns for each ticker\n",
    "    return stockPrices\n"
   ]
  },
  {
   "cell_type": "code",
   "execution_count": 16,
   "id": "based-trigger",
   "metadata": {},
   "outputs": [],
   "source": [
    "# the objective function\n",
    "def obj(weights, means, risk_level, covMatr):\n",
    "    \n",
    "    #get the return measure given by the weights and mean\n",
    "    for weight,mean in weights,means:\n",
    "        sum_return += weight*mean\n",
    "    num_stocks = len(means)\n",
    "    \n",
    "    #get the risk measure given by the weights\n",
    "    risk_measure = np.matmul(np.matmul(np.transpose(np.array(weights)), covMatr), np.array(weights))\n",
    "\n",
    "    #return the objective function value\n",
    "    return -(sum_return - (risk_level * risk_measure))\n"
   ]
  },
  {
   "cell_type": "code",
   "execution_count": 206,
   "id": "tested-distinction",
   "metadata": {},
   "outputs": [],
   "source": [
    "#choose which stocks to include in the optimization of the portfolio (list the tickers)\n",
    "tickers = ['MSFT', 'AAPL', 'AMZN', 'NFLX']\n",
    "tickers = sorted(tickers)\n",
    "\n",
    "#set the start and end dates- choose last six months in this case\n",
    "start_date = datetime(2019, 10, 30) #year, month, day\n",
    "end_date = datetime(2020,10,29) #year, month, day\n",
    "\n",
    "stockPrices = readPricesYF(start_date, end_date, tickers)    # use the function defined above to get data from Yahoo Finance\n"
   ]
  },
  {
   "cell_type": "code",
   "execution_count": 207,
   "id": "proud-stage",
   "metadata": {},
   "outputs": [
    {
     "data": {
      "text/html": [
       "<div>\n",
       "<style scoped>\n",
       "    .dataframe tbody tr th:only-of-type {\n",
       "        vertical-align: middle;\n",
       "    }\n",
       "\n",
       "    .dataframe tbody tr th {\n",
       "        vertical-align: top;\n",
       "    }\n",
       "\n",
       "    .dataframe thead th {\n",
       "        text-align: right;\n",
       "    }\n",
       "</style>\n",
       "<table border=\"1\" class=\"dataframe\">\n",
       "  <thead>\n",
       "    <tr style=\"text-align: right;\">\n",
       "      <th></th>\n",
       "      <th>Firm</th>\n",
       "      <th>Date</th>\n",
       "      <th>Adj Close</th>\n",
       "    </tr>\n",
       "  </thead>\n",
       "  <tbody>\n",
       "    <tr>\n",
       "      <th>0</th>\n",
       "      <td>AAPL</td>\n",
       "      <td>2019-10-30</td>\n",
       "      <td>60.024124</td>\n",
       "    </tr>\n",
       "    <tr>\n",
       "      <th>1</th>\n",
       "      <td>AAPL</td>\n",
       "      <td>2019-10-31</td>\n",
       "      <td>61.381241</td>\n",
       "    </tr>\n",
       "    <tr>\n",
       "      <th>2</th>\n",
       "      <td>AAPL</td>\n",
       "      <td>2019-11-01</td>\n",
       "      <td>63.123295</td>\n",
       "    </tr>\n",
       "    <tr>\n",
       "      <th>3</th>\n",
       "      <td>AAPL</td>\n",
       "      <td>2019-11-04</td>\n",
       "      <td>63.537827</td>\n",
       "    </tr>\n",
       "    <tr>\n",
       "      <th>4</th>\n",
       "      <td>AAPL</td>\n",
       "      <td>2019-11-05</td>\n",
       "      <td>63.446533</td>\n",
       "    </tr>\n",
       "    <tr>\n",
       "      <th>...</th>\n",
       "      <td>...</td>\n",
       "      <td>...</td>\n",
       "      <td>...</td>\n",
       "    </tr>\n",
       "    <tr>\n",
       "      <th>1007</th>\n",
       "      <td>NFLX</td>\n",
       "      <td>2020-10-23</td>\n",
       "      <td>488.279999</td>\n",
       "    </tr>\n",
       "    <tr>\n",
       "      <th>1008</th>\n",
       "      <td>NFLX</td>\n",
       "      <td>2020-10-26</td>\n",
       "      <td>488.239990</td>\n",
       "    </tr>\n",
       "    <tr>\n",
       "      <th>1009</th>\n",
       "      <td>NFLX</td>\n",
       "      <td>2020-10-27</td>\n",
       "      <td>488.929993</td>\n",
       "    </tr>\n",
       "    <tr>\n",
       "      <th>1010</th>\n",
       "      <td>NFLX</td>\n",
       "      <td>2020-10-28</td>\n",
       "      <td>486.239990</td>\n",
       "    </tr>\n",
       "    <tr>\n",
       "      <th>1011</th>\n",
       "      <td>NFLX</td>\n",
       "      <td>2020-10-29</td>\n",
       "      <td>504.209991</td>\n",
       "    </tr>\n",
       "  </tbody>\n",
       "</table>\n",
       "<p>1012 rows × 3 columns</p>\n",
       "</div>"
      ],
      "text/plain": [
       "      Firm       Date   Adj Close\n",
       "0     AAPL 2019-10-30   60.024124\n",
       "1     AAPL 2019-10-31   61.381241\n",
       "2     AAPL 2019-11-01   63.123295\n",
       "3     AAPL 2019-11-04   63.537827\n",
       "4     AAPL 2019-11-05   63.446533\n",
       "...    ...        ...         ...\n",
       "1007  NFLX 2020-10-23  488.279999\n",
       "1008  NFLX 2020-10-26  488.239990\n",
       "1009  NFLX 2020-10-27  488.929993\n",
       "1010  NFLX 2020-10-28  486.239990\n",
       "1011  NFLX 2020-10-29  504.209991\n",
       "\n",
       "[1012 rows x 3 columns]"
      ]
     },
     "execution_count": 207,
     "metadata": {},
     "output_type": "execute_result"
    }
   ],
   "source": [
    "stockPrices"
   ]
  },
  {
   "cell_type": "code",
   "execution_count": 210,
   "id": "posted-intensity",
   "metadata": {},
   "outputs": [
    {
     "data": {
      "text/plain": [
       "array([[  60.02412415,   61.38124084,   63.12329483, ...,  116.22550964,\n",
       "         110.84284973,  114.94961548],\n",
       "       [1779.98999023, 1776.66003418, 1791.43994141, ..., 3286.33007812,\n",
       "        3162.7800293 , 3211.01000977],\n",
       "       [ 142.28117371,  141.06111145,  141.40550232, ...,  212.204422  ,\n",
       "         201.68623352,  203.7162323 ],\n",
       "       [ 291.45001221,  287.41000366,  286.80999756, ...,  488.92999268,\n",
       "         486.23999023,  504.20999146]])"
      ]
     },
     "execution_count": 210,
     "metadata": {},
     "output_type": "execute_result"
    }
   ],
   "source": [
    "# get the optimization ready\n",
    "\n",
    "num_stocks = len(tickers)\n",
    "stock_prices_format = stockPrices.set_index(['Date', 'Firm']).unstack()  #.T\n",
    "stock_prices_format.reset_index()\n",
    "#stock_prices_format.iloc[:,[0,1,2,3]]\n",
    "#stock_prices_format.iloc[:,[0]]\n",
    "#prices = stock_prices_format.iloc[:,[0,1,2,3]]\n",
    "#prices = stockPrices.reset_index().drop(['Date','index'], axis=1).set_index('Firm').unstack()   #.drop('index', axis=1)\n",
    "#prices\n",
    "\n",
    "prices_per_stock = stock_prices_format.shape\n",
    "\n",
    "#np.array(stock_prices_format.iloc[:,[0,1,2,3]].reset_index().drop('Date', axis=1)[0:])#.reshape(prices_per_stock, num_stocks)\n",
    "\n",
    "#prices = stock_prices_format.drop('Date', axis=1)\n",
    "\n",
    "np.array(stock_prices_format.iloc[:,[0,1,2,3]]) #.flatten()#.reshape([prices_per_stock, num_stocks])\n",
    "\n",
    "#cov_matr = np.cov(np.array(stock_prices_format.iloc[:,[0,1,2,3]]))\n",
    "#cov_matr\n",
    "\n",
    "stockPrices.drop('Date', axis=1).set_index('Firm').stack()\n",
    "\n",
    "np.array(stock_prices_format.iloc[:,[0,1,2,3]].T)"
   ]
  }
 ],
 "metadata": {
  "kernelspec": {
   "display_name": "Python 3",
   "language": "python",
   "name": "python3"
  },
  "language_info": {
   "codemirror_mode": {
    "name": "ipython",
    "version": 3
   },
   "file_extension": ".py",
   "mimetype": "text/x-python",
   "name": "python",
   "nbconvert_exporter": "python",
   "pygments_lexer": "ipython3",
   "version": "3.8.5"
  }
 },
 "nbformat": 4,
 "nbformat_minor": 5
}
