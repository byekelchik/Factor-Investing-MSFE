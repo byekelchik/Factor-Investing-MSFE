{
 "cells": [
  {
   "cell_type": "code",
   "execution_count": 86,
   "metadata": {},
   "outputs": [],
   "source": [
    "import pandas as pd\n",
    "import numpy as np\n",
    "import datetime as dt\n",
    "import statsmodels.api as sm\n",
    "from statsmodels.formula.api import ols #more advanced than scikit-learn\n",
    "from statsmodels.tsa.stattools import adfuller #?\n",
    "from sklearn import linear_model\n",
    "from sklearn.metrics import mean_squared_error, r2_score #haven't implemented the r2_score yet\n",
    "from sklearn.linear_model import LinearRegression #haven't implemented yet\n",
    "from sklearn.datasets import make_regression\n",
    "from sklearn.model_selection import train_test_split #haven't implemented yet\n",
    "from scipy.optimize import least_squares\n",
    "from scipy.optimize import curve_fit\n",
    "from math import sqrt\n",
    "import seaborn as sns\n",
    "import pandas_datareader.data as reader\n",
    "import math\n",
    "import matplotlib.pyplot as plt\n",
    "\n",
    "import pandas_datareader as pdr "
   ]
  },
  {
   "cell_type": "code",
   "execution_count": 138,
   "metadata": {},
   "outputs": [
    {
     "data": {
      "text/html": [
       "<div>\n",
       "<style scoped>\n",
       "    .dataframe tbody tr th:only-of-type {\n",
       "        vertical-align: middle;\n",
       "    }\n",
       "\n",
       "    .dataframe tbody tr th {\n",
       "        vertical-align: top;\n",
       "    }\n",
       "\n",
       "    .dataframe thead th {\n",
       "        text-align: right;\n",
       "    }\n",
       "</style>\n",
       "<table border=\"1\" class=\"dataframe\">\n",
       "  <thead>\n",
       "    <tr style=\"text-align: right;\">\n",
       "      <th></th>\n",
       "      <th>Adj Close</th>\n",
       "      <th>VIVAX ret_daily</th>\n",
       "      <th>VIVAX log_ret_daily</th>\n",
       "    </tr>\n",
       "    <tr>\n",
       "      <th>Date</th>\n",
       "      <th></th>\n",
       "      <th></th>\n",
       "      <th></th>\n",
       "    </tr>\n",
       "  </thead>\n",
       "  <tbody>\n",
       "    <tr>\n",
       "      <th>2020-01-03</th>\n",
       "      <td>45.058971</td>\n",
       "      <td>-0.007450</td>\n",
       "      <td>-0.007478</td>\n",
       "    </tr>\n",
       "    <tr>\n",
       "      <th>2020-01-06</th>\n",
       "      <td>45.107285</td>\n",
       "      <td>0.001072</td>\n",
       "      <td>0.001072</td>\n",
       "    </tr>\n",
       "    <tr>\n",
       "      <th>2020-01-07</th>\n",
       "      <td>44.923683</td>\n",
       "      <td>-0.004070</td>\n",
       "      <td>-0.004079</td>\n",
       "    </tr>\n",
       "    <tr>\n",
       "      <th>2020-01-08</th>\n",
       "      <td>45.039642</td>\n",
       "      <td>0.002581</td>\n",
       "      <td>0.002578</td>\n",
       "    </tr>\n",
       "    <tr>\n",
       "      <th>2020-01-09</th>\n",
       "      <td>45.242569</td>\n",
       "      <td>0.004506</td>\n",
       "      <td>0.004495</td>\n",
       "    </tr>\n",
       "    <tr>\n",
       "      <th>...</th>\n",
       "      <td>...</td>\n",
       "      <td>...</td>\n",
       "      <td>...</td>\n",
       "    </tr>\n",
       "    <tr>\n",
       "      <th>2020-09-25</th>\n",
       "      <td>39.675629</td>\n",
       "      <td>0.010829</td>\n",
       "      <td>0.010770</td>\n",
       "    </tr>\n",
       "    <tr>\n",
       "      <th>2020-09-28</th>\n",
       "      <td>40.268692</td>\n",
       "      <td>0.014948</td>\n",
       "      <td>0.014837</td>\n",
       "    </tr>\n",
       "    <tr>\n",
       "      <th>2020-09-29</th>\n",
       "      <td>39.962276</td>\n",
       "      <td>-0.007609</td>\n",
       "      <td>-0.007638</td>\n",
       "    </tr>\n",
       "    <tr>\n",
       "      <th>2020-09-30</th>\n",
       "      <td>40.337879</td>\n",
       "      <td>0.009399</td>\n",
       "      <td>0.009355</td>\n",
       "    </tr>\n",
       "    <tr>\n",
       "      <th>2020-10-01</th>\n",
       "      <td>40.327995</td>\n",
       "      <td>-0.000245</td>\n",
       "      <td>-0.000245</td>\n",
       "    </tr>\n",
       "  </tbody>\n",
       "</table>\n",
       "<p>189 rows × 3 columns</p>\n",
       "</div>"
      ],
      "text/plain": [
       "            Adj Close  VIVAX ret_daily  VIVAX log_ret_daily\n",
       "Date                                                       \n",
       "2020-01-03  45.058971        -0.007450            -0.007478\n",
       "2020-01-06  45.107285         0.001072             0.001072\n",
       "2020-01-07  44.923683        -0.004070            -0.004079\n",
       "2020-01-08  45.039642         0.002581             0.002578\n",
       "2020-01-09  45.242569         0.004506             0.004495\n",
       "...               ...              ...                  ...\n",
       "2020-09-25  39.675629         0.010829             0.010770\n",
       "2020-09-28  40.268692         0.014948             0.014837\n",
       "2020-09-29  39.962276        -0.007609            -0.007638\n",
       "2020-09-30  40.337879         0.009399             0.009355\n",
       "2020-10-01  40.327995        -0.000245            -0.000245\n",
       "\n",
       "[189 rows x 3 columns]"
      ]
     },
     "execution_count": 138,
     "metadata": {},
     "output_type": "execute_result"
    }
   ],
   "source": [
    "end = dt.date(2020,10,1)\n",
    "start = dt.date(2020,1,1)\n",
    "#portfolio = 'SIZE' #SMART BETA FUND, Globalex ETF FACTOR FUND (MIN_VOLITILITY,MOM,VALUE)\n",
    "\n",
    "fund = 'VIVAX' #Vanguard Value index \n",
    "fund_returns = pdr.get_data_yahoo(fund,start,end)      #['Adj Close'].pct_change()\n",
    "\n",
    "fund_returns = fund_returns.filter(like='Adj Close')\n",
    "#stock_prices.columns = stock # put their tickers as column name\n",
    "fund_returns.reset_index() # print\n",
    "fund_returns.columns = ['Adj Close']\n",
    "fund_returns.reset_index()\n",
    "\n",
    "fund_returns[fund + ' ret_daily'] = fund_returns['Adj Close'].pct_change() #currently in decimal format\n",
    "fund_returns[fund + ' log_ret_daily'] = np.log(1 + fund_returns[fund + ' ret_daily']) #daily log returns \n",
    "\n",
    "fund_returns = fund_returns[1:] #don't include first day so we have all return values \n",
    "fund_returns.reset_index()\n",
    "fund_returns\n",
    "\n",
    "#fund_returns = fund_returns.resample('M').agg(lambda x:(x+1).prod()-1) #monthly returns axis by month \n",
    "#fund_returns_mt = fund_returns_mt[:-1] #have an error message in next chunk when this is not commented out \n",
    "#fund_returns_mt.plot()\n",
    "\n",
    "#fund_returns.plot()\n",
    "fund_returns\n"
   ]
  },
  {
   "cell_type": "code",
   "execution_count": 139,
   "metadata": {},
   "outputs": [
    {
     "data": {
      "text/html": [
       "<div>\n",
       "<style scoped>\n",
       "    .dataframe tbody tr th:only-of-type {\n",
       "        vertical-align: middle;\n",
       "    }\n",
       "\n",
       "    .dataframe tbody tr th {\n",
       "        vertical-align: top;\n",
       "    }\n",
       "\n",
       "    .dataframe thead th {\n",
       "        text-align: right;\n",
       "    }\n",
       "</style>\n",
       "<table border=\"1\" class=\"dataframe\">\n",
       "  <thead>\n",
       "    <tr style=\"text-align: right;\">\n",
       "      <th></th>\n",
       "      <th>Date</th>\n",
       "      <th>mkt_excess</th>\n",
       "      <th>SMB</th>\n",
       "      <th>HML</th>\n",
       "      <th>RMW</th>\n",
       "      <th>CMA</th>\n",
       "      <th>RF</th>\n",
       "    </tr>\n",
       "  </thead>\n",
       "  <tbody>\n",
       "    <tr>\n",
       "      <th>0</th>\n",
       "      <td>2019-01-02</td>\n",
       "      <td>0.0023</td>\n",
       "      <td>0.0072</td>\n",
       "      <td>0.0110</td>\n",
       "      <td>-0.0012</td>\n",
       "      <td>0.0026</td>\n",
       "      <td>0.0001</td>\n",
       "    </tr>\n",
       "    <tr>\n",
       "      <th>1</th>\n",
       "      <td>2019-01-03</td>\n",
       "      <td>-0.0245</td>\n",
       "      <td>0.0052</td>\n",
       "      <td>0.0121</td>\n",
       "      <td>-0.0025</td>\n",
       "      <td>0.0091</td>\n",
       "      <td>0.0001</td>\n",
       "    </tr>\n",
       "    <tr>\n",
       "      <th>2</th>\n",
       "      <td>2019-01-04</td>\n",
       "      <td>0.0355</td>\n",
       "      <td>0.0037</td>\n",
       "      <td>-0.0070</td>\n",
       "      <td>-0.0008</td>\n",
       "      <td>-0.0058</td>\n",
       "      <td>0.0001</td>\n",
       "    </tr>\n",
       "    <tr>\n",
       "      <th>3</th>\n",
       "      <td>2019-01-07</td>\n",
       "      <td>0.0094</td>\n",
       "      <td>0.0084</td>\n",
       "      <td>-0.0077</td>\n",
       "      <td>-0.0069</td>\n",
       "      <td>-0.0041</td>\n",
       "      <td>0.0001</td>\n",
       "    </tr>\n",
       "    <tr>\n",
       "      <th>4</th>\n",
       "      <td>2019-01-08</td>\n",
       "      <td>0.0101</td>\n",
       "      <td>0.0045</td>\n",
       "      <td>-0.0064</td>\n",
       "      <td>0.0036</td>\n",
       "      <td>-0.0009</td>\n",
       "      <td>0.0001</td>\n",
       "    </tr>\n",
       "    <tr>\n",
       "      <th>...</th>\n",
       "      <td>...</td>\n",
       "      <td>...</td>\n",
       "      <td>...</td>\n",
       "      <td>...</td>\n",
       "      <td>...</td>\n",
       "      <td>...</td>\n",
       "      <td>...</td>\n",
       "    </tr>\n",
       "    <tr>\n",
       "      <th>500</th>\n",
       "      <td>2020-12-24</td>\n",
       "      <td>0.0021</td>\n",
       "      <td>-0.0043</td>\n",
       "      <td>-0.0017</td>\n",
       "      <td>0.0024</td>\n",
       "      <td>-0.0005</td>\n",
       "      <td>0.0000</td>\n",
       "    </tr>\n",
       "    <tr>\n",
       "      <th>501</th>\n",
       "      <td>2020-12-28</td>\n",
       "      <td>0.0046</td>\n",
       "      <td>-0.0065</td>\n",
       "      <td>0.0032</td>\n",
       "      <td>0.0146</td>\n",
       "      <td>0.0050</td>\n",
       "      <td>0.0000</td>\n",
       "    </tr>\n",
       "    <tr>\n",
       "      <th>502</th>\n",
       "      <td>2020-12-29</td>\n",
       "      <td>-0.0040</td>\n",
       "      <td>-0.0142</td>\n",
       "      <td>0.0024</td>\n",
       "      <td>0.0075</td>\n",
       "      <td>-0.0028</td>\n",
       "      <td>0.0000</td>\n",
       "    </tr>\n",
       "    <tr>\n",
       "      <th>503</th>\n",
       "      <td>2020-12-30</td>\n",
       "      <td>0.0027</td>\n",
       "      <td>0.0103</td>\n",
       "      <td>0.0004</td>\n",
       "      <td>-0.0067</td>\n",
       "      <td>-0.0006</td>\n",
       "      <td>0.0000</td>\n",
       "    </tr>\n",
       "    <tr>\n",
       "      <th>504</th>\n",
       "      <td>2020-12-31</td>\n",
       "      <td>0.0039</td>\n",
       "      <td>-0.0069</td>\n",
       "      <td>0.0045</td>\n",
       "      <td>0.0056</td>\n",
       "      <td>-0.0020</td>\n",
       "      <td>0.0000</td>\n",
       "    </tr>\n",
       "  </tbody>\n",
       "</table>\n",
       "<p>505 rows × 7 columns</p>\n",
       "</div>"
      ],
      "text/plain": [
       "          Date  mkt_excess     SMB     HML     RMW     CMA      RF\n",
       "0   2019-01-02      0.0023  0.0072  0.0110 -0.0012  0.0026  0.0001\n",
       "1   2019-01-03     -0.0245  0.0052  0.0121 -0.0025  0.0091  0.0001\n",
       "2   2019-01-04      0.0355  0.0037 -0.0070 -0.0008 -0.0058  0.0001\n",
       "3   2019-01-07      0.0094  0.0084 -0.0077 -0.0069 -0.0041  0.0001\n",
       "4   2019-01-08      0.0101  0.0045 -0.0064  0.0036 -0.0009  0.0001\n",
       "..         ...         ...     ...     ...     ...     ...     ...\n",
       "500 2020-12-24      0.0021 -0.0043 -0.0017  0.0024 -0.0005  0.0000\n",
       "501 2020-12-28      0.0046 -0.0065  0.0032  0.0146  0.0050  0.0000\n",
       "502 2020-12-29     -0.0040 -0.0142  0.0024  0.0075 -0.0028  0.0000\n",
       "503 2020-12-30      0.0027  0.0103  0.0004 -0.0067 -0.0006  0.0000\n",
       "504 2020-12-31      0.0039 -0.0069  0.0045  0.0056 -0.0020  0.0000\n",
       "\n",
       "[505 rows x 7 columns]"
      ]
     },
     "execution_count": 139,
     "metadata": {},
     "output_type": "execute_result"
    }
   ],
   "source": [
    "# factors = reader.DataReader('F-F_Research_Data_Factors','famafrench',start,end)\n",
    "# factors = factors[0]\n",
    "# factors\n",
    "\n",
    "ff = pdr.get_data_famafrench('F-F_Research_Data_5_Factors_2x3_daily',start=2019,end=2021)[0] # the [0] is because the imported obect is a dictionary, and key=0 is the dataframe\n",
    "ff = ff.reset_index().rename(columns={\"Mkt-RF\":\"mkt_excess\"}) \n",
    "ff[['mkt_excess', 'SMB', 'HML', 'RMW', 'CMA', 'RF']] = ff[['mkt_excess', 'SMB', 'HML', 'RMW', 'CMA', 'RF']] / 100 #convert to decimal format \n",
    "ff"
   ]
  },
  {
   "cell_type": "code",
   "execution_count": 151,
   "metadata": {},
   "outputs": [
    {
     "data": {
      "text/html": [
       "<div>\n",
       "<style scoped>\n",
       "    .dataframe tbody tr th:only-of-type {\n",
       "        vertical-align: middle;\n",
       "    }\n",
       "\n",
       "    .dataframe tbody tr th {\n",
       "        vertical-align: top;\n",
       "    }\n",
       "\n",
       "    .dataframe thead th {\n",
       "        text-align: right;\n",
       "    }\n",
       "</style>\n",
       "<table border=\"1\" class=\"dataframe\">\n",
       "  <thead>\n",
       "    <tr style=\"text-align: right;\">\n",
       "      <th></th>\n",
       "      <th>Date</th>\n",
       "      <th>Adj Close</th>\n",
       "      <th>VIVAX ret_daily</th>\n",
       "      <th>VIVAX log_ret_daily</th>\n",
       "      <th>mkt_excess</th>\n",
       "      <th>SMB</th>\n",
       "      <th>HML</th>\n",
       "      <th>RMW</th>\n",
       "      <th>CMA</th>\n",
       "      <th>RF</th>\n",
       "      <th>VIVAX_excess</th>\n",
       "    </tr>\n",
       "  </thead>\n",
       "  <tbody>\n",
       "    <tr>\n",
       "      <th>0</th>\n",
       "      <td>2020-01-03</td>\n",
       "      <td>45.058971</td>\n",
       "      <td>-0.007450</td>\n",
       "      <td>-0.007478</td>\n",
       "      <td>-0.0067</td>\n",
       "      <td>0.0028</td>\n",
       "      <td>0.0002</td>\n",
       "      <td>-0.0018</td>\n",
       "      <td>-0.0015</td>\n",
       "      <td>0.00006</td>\n",
       "      <td>-0.007510</td>\n",
       "    </tr>\n",
       "    <tr>\n",
       "      <th>1</th>\n",
       "      <td>2020-01-06</td>\n",
       "      <td>45.107285</td>\n",
       "      <td>0.001072</td>\n",
       "      <td>0.001072</td>\n",
       "      <td>0.0036</td>\n",
       "      <td>-0.0022</td>\n",
       "      <td>-0.0056</td>\n",
       "      <td>-0.0019</td>\n",
       "      <td>-0.0032</td>\n",
       "      <td>0.00006</td>\n",
       "      <td>0.001012</td>\n",
       "    </tr>\n",
       "    <tr>\n",
       "      <th>2</th>\n",
       "      <td>2020-01-07</td>\n",
       "      <td>44.923683</td>\n",
       "      <td>-0.004070</td>\n",
       "      <td>-0.004079</td>\n",
       "      <td>-0.0019</td>\n",
       "      <td>-0.0004</td>\n",
       "      <td>-0.0021</td>\n",
       "      <td>-0.0011</td>\n",
       "      <td>-0.0031</td>\n",
       "      <td>0.00006</td>\n",
       "      <td>-0.004130</td>\n",
       "    </tr>\n",
       "    <tr>\n",
       "      <th>3</th>\n",
       "      <td>2020-01-08</td>\n",
       "      <td>45.039642</td>\n",
       "      <td>0.002581</td>\n",
       "      <td>0.002578</td>\n",
       "      <td>0.0047</td>\n",
       "      <td>-0.0017</td>\n",
       "      <td>-0.0063</td>\n",
       "      <td>-0.0017</td>\n",
       "      <td>-0.0012</td>\n",
       "      <td>0.00006</td>\n",
       "      <td>0.002521</td>\n",
       "    </tr>\n",
       "    <tr>\n",
       "      <th>4</th>\n",
       "      <td>2020-01-09</td>\n",
       "      <td>45.242569</td>\n",
       "      <td>0.004506</td>\n",
       "      <td>0.004495</td>\n",
       "      <td>0.0065</td>\n",
       "      <td>-0.0071</td>\n",
       "      <td>-0.0048</td>\n",
       "      <td>-0.0014</td>\n",
       "      <td>0.0006</td>\n",
       "      <td>0.00006</td>\n",
       "      <td>0.004446</td>\n",
       "    </tr>\n",
       "  </tbody>\n",
       "</table>\n",
       "</div>"
      ],
      "text/plain": [
       "        Date  Adj Close  VIVAX ret_daily  VIVAX log_ret_daily  mkt_excess  \\\n",
       "0 2020-01-03  45.058971        -0.007450            -0.007478     -0.0067   \n",
       "1 2020-01-06  45.107285         0.001072             0.001072      0.0036   \n",
       "2 2020-01-07  44.923683        -0.004070            -0.004079     -0.0019   \n",
       "3 2020-01-08  45.039642         0.002581             0.002578      0.0047   \n",
       "4 2020-01-09  45.242569         0.004506             0.004495      0.0065   \n",
       "\n",
       "      SMB     HML     RMW     CMA       RF  VIVAX_excess  \n",
       "0  0.0028  0.0002 -0.0018 -0.0015  0.00006     -0.007510  \n",
       "1 -0.0022 -0.0056 -0.0019 -0.0032  0.00006      0.001012  \n",
       "2 -0.0004 -0.0021 -0.0011 -0.0031  0.00006     -0.004130  \n",
       "3 -0.0017 -0.0063 -0.0017 -0.0012  0.00006      0.002521  \n",
       "4 -0.0071 -0.0048 -0.0014  0.0006  0.00006      0.004446  "
      ]
     },
     "execution_count": 151,
     "metadata": {},
     "output_type": "execute_result"
    }
   ],
   "source": [
    "#fund_returns.index = factors.index\n",
    "\n",
    "\n",
    "full_dataset = pd.merge(fund_returns,ff,on='Date',how='inner')\n",
    "full_dataset\n",
    "full_dataset[fund + '_excess']= full_dataset[fund + ' ret_daily'] - full_dataset['RF'] #Excess Return = daily ret of fund - RF\n",
    "full_dataset\n",
    "train = (len(full_dataset)*.8)\n",
    "train = math.floor(train)\n",
    "train_data = full_dataset.iloc[0:train, :]\n",
    "test_data = full_dataset.iloc[train:, :]\n",
    "train_data.head()"
   ]
  },
  {
   "cell_type": "code",
   "execution_count": 163,
   "metadata": {},
   "outputs": [
    {
     "data": {
      "text/html": [
       "<div>\n",
       "<style scoped>\n",
       "    .dataframe tbody tr th:only-of-type {\n",
       "        vertical-align: middle;\n",
       "    }\n",
       "\n",
       "    .dataframe tbody tr th {\n",
       "        vertical-align: top;\n",
       "    }\n",
       "\n",
       "    .dataframe thead th {\n",
       "        text-align: right;\n",
       "    }\n",
       "</style>\n",
       "<table border=\"1\" class=\"dataframe\">\n",
       "  <thead>\n",
       "    <tr style=\"text-align: right;\">\n",
       "      <th></th>\n",
       "      <th>VIVAX_excess</th>\n",
       "      <th>mkt_excess</th>\n",
       "    </tr>\n",
       "  </thead>\n",
       "  <tbody>\n",
       "    <tr>\n",
       "      <th>count</th>\n",
       "      <td>189.000000</td>\n",
       "      <td>189.000000</td>\n",
       "    </tr>\n",
       "    <tr>\n",
       "      <th>mean</th>\n",
       "      <td>-0.000333</td>\n",
       "      <td>0.000668</td>\n",
       "    </tr>\n",
       "    <tr>\n",
       "      <th>std</th>\n",
       "      <td>0.024953</td>\n",
       "      <td>0.024430</td>\n",
       "    </tr>\n",
       "    <tr>\n",
       "      <th>min</th>\n",
       "      <td>-0.112846</td>\n",
       "      <td>-0.120000</td>\n",
       "    </tr>\n",
       "    <tr>\n",
       "      <th>25%</th>\n",
       "      <td>-0.008152</td>\n",
       "      <td>-0.007800</td>\n",
       "    </tr>\n",
       "    <tr>\n",
       "      <th>50%</th>\n",
       "      <td>0.000495</td>\n",
       "      <td>0.002700</td>\n",
       "    </tr>\n",
       "    <tr>\n",
       "      <th>75%</th>\n",
       "      <td>0.010248</td>\n",
       "      <td>0.010900</td>\n",
       "    </tr>\n",
       "    <tr>\n",
       "      <th>max</th>\n",
       "      <td>0.096800</td>\n",
       "      <td>0.093400</td>\n",
       "    </tr>\n",
       "  </tbody>\n",
       "</table>\n",
       "</div>"
      ],
      "text/plain": [
       "       VIVAX_excess  mkt_excess\n",
       "count    189.000000  189.000000\n",
       "mean      -0.000333    0.000668\n",
       "std        0.024953    0.024430\n",
       "min       -0.112846   -0.120000\n",
       "25%       -0.008152   -0.007800\n",
       "50%        0.000495    0.002700\n",
       "75%        0.010248    0.010900\n",
       "max        0.096800    0.093400"
      ]
     },
     "execution_count": 163,
     "metadata": {},
     "output_type": "execute_result"
    }
   ],
   "source": [
    "full_dataset[[fund + '_excess','mkt_excess']].describe()\n",
    "#full_dataset[fund + '_excess'].hist()\n",
    "\n",
    "#KS_Test = sm.stats.diagnostic.kstest_normal(full_dataset[fund + '_excess'],dist= 'norm')"
   ]
  },
  {
   "cell_type": "code",
   "execution_count": 165,
   "metadata": {},
   "outputs": [],
   "source": [
    "x_train = train_data[['mkt_excess','SMB','HML']]\n",
    "y_train = train_data['VIVAX_excess']\n",
    "x_test = test_data[['mkt_excess','SMB','HML']]\n",
    "y_test = test_data['VIVAX_excess']\n",
    "x = sm.add_constant(x_train) #add's a non-zero alpha into regression\n",
    "x_t = sm.add_constant(x_test) #add's a non-zero alpha into regression"
   ]
  },
  {
   "cell_type": "code",
   "execution_count": 174,
   "metadata": {},
   "outputs": [
    {
     "name": "stdout",
     "output_type": "stream",
     "text": [
      "                            OLS Regression Results                            \n",
      "==============================================================================\n",
      "Dep. Variable:           VIVAX_excess   R-squared:                       0.983\n",
      "Model:                            OLS   Adj. R-squared:                  0.982\n",
      "Method:                 Least Squares   F-statistic:                     2767.\n",
      "Date:                Tue, 06 Apr 2021   Prob (F-statistic):          4.67e-129\n",
      "Time:                        16:08:26   Log-Likelihood:                 634.75\n",
      "No. Observations:                 151   AIC:                            -1261.\n",
      "Df Residuals:                     147   BIC:                            -1249.\n",
      "Df Model:                           3                                         \n",
      "Covariance Type:            nonrobust                                         \n",
      "==============================================================================\n",
      "                 coef    std err          t      P>|t|      [0.025      0.975]\n",
      "------------------------------------------------------------------------------\n",
      "const         -0.0004      0.000     -1.347      0.180      -0.001       0.000\n",
      "mkt_excess     0.9408      0.012     76.474      0.000       0.917       0.965\n",
      "SMB           -0.1654      0.031     -5.261      0.000      -0.227      -0.103\n",
      "HML            0.3290      0.023     14.357      0.000       0.284       0.374\n",
      "==============================================================================\n",
      "Omnibus:                        6.750   Durbin-Watson:                   1.724\n",
      "Prob(Omnibus):                  0.034   Jarque-Bera (JB):               10.079\n",
      "Skew:                          -0.179   Prob(JB):                      0.00648\n",
      "Kurtosis:                       4.214   Cond. No.                         117.\n",
      "==============================================================================\n",
      "\n",
      "Notes:\n",
      "[1] Standard Errors assume that the covariance matrix of the errors is correctly specified.\n"
     ]
    },
    {
     "name": "stderr",
     "output_type": "stream",
     "text": [
      "/Users/Jordan/anaconda3/lib/python3.7/site-packages/ipykernel_launcher.py:13: MatplotlibDeprecationWarning: Adding an axes using the same arguments as a previous axes currently reuses the earlier instance.  In a future version, a new instance will always be created and returned.  Meanwhile, this warning can be suppressed, and the future behavior ensured, by passing a unique label to each axes instance.\n",
      "  del sys.path[0]\n"
     ]
    },
    {
     "data": {
      "text/plain": [
       "<matplotlib.legend.Legend at 0x7f9a8b74b110>"
      ]
     },
     "execution_count": 174,
     "metadata": {},
     "output_type": "execute_result"
    },
    {
     "data": {
      "image/png": "[encoded data removed]",
      "text/plain": [
       "<Figure size 432x288 with 1 Axes>"
      ]
     },
     "metadata": {
      "needs_background": "light"
     },
     "output_type": "display_data"
    }
   ],
   "source": [
    "#Modeling & Plotting Results\n",
    "model = sm.OLS(y_train,x)\n",
    "results = model.fit()\n",
    "print(results.summary())\n",
    "results.params \n",
    "results.rsquared\n",
    "y_hat_train = results.predict(x) #in sample prediction\n",
    "y_hat_test = results.predict(x_t) #out of sample prediction\n",
    "y_hat_train.plot(label = 'in sample prediction returns') #green, in-sample prediction \n",
    "y_train.plot(label = 'in sample actual returns ') #yellow, in-sample actual excess\n",
    "y_hat_test.plot(label = 'out of sample prediction returns') #blue, out of sample prediciton\n",
    "y_test.plot(label = 'out of sample actual returns') # red, out of sample actual excess\n",
    "ax = plt.subplot()\n",
    "#ax.plot(y_hat_train, label = \"In-Sample Prediction\")\n",
    "#ax.plot(y_hat_test, label = \"Out-of-Sample Prediction\")\n",
    "#ax.plot(y_train, label = 'In-Sample Actual')\n",
    "#ax.plot(y_test, label = 'Out-of-Sample Actual')\n",
    "ax.legend()"
   ]
  },
  {
   "cell_type": "code",
   "execution_count": 175,
   "metadata": {},
   "outputs": [],
   "source": [
    "#table = sm.stats.anova_lm(results, typ = 2)"
   ]
  },
  {
   "cell_type": "code",
   "execution_count": 168,
   "metadata": {},
   "outputs": [
    {
     "name": "stdout",
     "output_type": "stream",
     "text": [
      "The in-sample MSE is 1.0727462151620613e-36\n"
     ]
    },
    {
     "data": {
      "image/png": "[encoded data removed]",
      "text/plain": [
       "<Figure size 432x288 with 1 Axes>"
      ]
     },
     "metadata": {
      "needs_background": "light"
     },
     "output_type": "display_data"
    },
    {
     "data": {
      "image/png": "[encoded data removed]",
      "text/plain": [
       "<Figure size 432x288 with 1 Axes>"
      ]
     },
     "metadata": {
      "needs_background": "light"
     },
     "output_type": "display_data"
    },
    {
     "name": "stdout",
     "output_type": "stream",
     "text": [
      "0.0036153016411640056\n",
      "0.004518217284215781\n"
     ]
    }
   ],
   "source": [
    "# Residuals/Epsilon Analysis\n",
    "train_residuals = y_train - y_hat_train #residual in sample\n",
    "test_residuals =  y_test - y_hat_test #residuals out of sample  \n",
    "train_MSE = ((train_residuals.mean())**2)**1/2\n",
    "print(\"The in-sample MSE is \" +str(train_MSE))\n",
    "train_residuals.hist() #in-sample residual/noise aka unpredicted deviation (histogram)\n",
    "pplot = sm.ProbPlot(train_residuals,fit = True) #normal prob plot in-sample\n",
    "fig = pplot.qqplot(line = '45')\n",
    "plt.title(\"Normal Probabilty Plot of Residuals for Training\")\n",
    "plt.show()\n",
    "\n",
    "rmse_train = sqrt(mean_squared_error(y_train, y_hat_train))\n",
    "rmse_test = sqrt(mean_squared_error(y_test, y_hat_test))\n",
    "\n",
    "print(rmse_train) #~0.0054\n",
    "print(rmse_test) #~0.0121\n",
    "\n"
   ]
  },
  {
   "cell_type": "code",
   "execution_count": 173,
   "metadata": {},
   "outputs": [
    {
     "data": {
      "image/png": "[encoded data removed]",
      "text/plain": [
       "<Figure size 432x288 with 1 Axes>"
      ]
     },
     "metadata": {
      "needs_background": "light"
     },
     "output_type": "display_data"
    },
    {
     "data": {
      "image/png": "[encoded data removed]",
      "text/plain": [
       "<Figure size 432x288 with 1 Axes>"
      ]
     },
     "metadata": {
      "needs_background": "light"
     },
     "output_type": "display_data"
    }
   ],
   "source": [
    "#sns.regplot(full_dataset['SIZE - RF'],\n",
    "           # full_dataset['HML'],full_dataset['SMB'],)\n",
    "\n",
    "#plt.scatter,full_dataset['HML'])\n",
    "\n",
    "\n",
    "x_HML = full_dataset['HML']\n",
    "x_SMB = full_dataset['SMB']\n",
    "x_mkt_excess = full_dataset['mkt_excess']\n",
    "y_port = full_dataset['VIVAX_excess']\n",
    "x1=np.array(x_mkt_excess)\n",
    "x2=np.array(x_SMB)\n",
    "x3=np.array(x_HML)\n",
    "Y=y_port\n",
    "X = np.array([x1,x2,x3])\n",
    "\n",
    "#establising y intercept\n",
    "#m1, b1 = np.polyfit(x1, Y, 1)\n",
    "#m2, b2 = np.polyfit(x2, Y, 1)\n",
    "#m3, b3 = np.polyfit(x3, Y, 1)\n",
    "#print(b1,m1)\n",
    "#print(b2,m2)\n",
    "#print(b3,m3)\n",
    "\n",
    "'''''\n",
    "regression_line_x1 = []\n",
    "for x in x1:\n",
    "    regression_line_x1.append((m1*x1)+b1)\n",
    "\n",
    "regression_line_x2 = []\n",
    "for x in x2:\n",
    "    regression_line_x2.append((m1*x2)+b2)\n",
    "\n",
    "regression_line_x3 = []\n",
    "for x in x3:\n",
    "    regression_line_x3.append((m1*x3)+b3)\n",
    "    \n",
    "'''''\n",
    "\n",
    "fig =plt.figure()\n",
    "ax =plt.axes()\n",
    "plt.scatter(x1,Y,color=['black'], label = 'mkt_excess',) #Mkt-RF\n",
    "plt.scatter(x2,Y,color=['red'], label = 'SMB') #SMB\n",
    "plt.scatter(x3,Y,color=['blue'], label = 'HML') #HML\n",
    "\n",
    "#respective trend lines\n",
    "#plt.plot(x1, m1*x1 + b1, color = 'Blue') \n",
    "#plt.plot(x2, m2*x2 + b2, color = 'Green')\n",
    "#plt.plot(x3, m3*x3 + b3, color = 'Red')\n",
    "\n",
    "#don't know what this means but regression line is all over the place \n",
    "#plt.plot(x1,x2,x3, (m1*x1 + b1) + (m2*x2 + b2) + (m3*x3 + b3), color = 'Yellow')  #doesn't accoun for covariance\n",
    "\n",
    "\n",
    "plt.show()\n",
    "\n",
    "\n",
    "'''''\n",
    "for some reason its plotting numerous horizontal lines...\n",
    "#plt.plot(x1,regression_line_x1)\n",
    "#plt.plot(x2,regression_line_x2)\n",
    "#plt.plot(x3,regression_line_x3)\n",
    "'''''\n",
    "\n",
    "\n",
    "#scatterplot for SMB and SIZE \n",
    "ax1=full_dataset.plot(kind='scatter',x='SMB',y='VIVAX_excess',\n",
    "                  color='Blue', label = 'SMB')\n",
    "\n",
    "#scatterplot adding HML\n",
    "ax1= full_dataset.plot(kind='scatter',x='HML',y='VIVAX_excess',\n",
    "                  color='Green', label = 'HML', ax = ax1)\n",
    "\n",
    "#scatterplot for SMB and SIZE \n",
    "\n",
    "\n",
    "ax2= full_dataset.plot(kind='scatter',x='mkt_excess',y='VIVAX_excess',\n",
    "                  color='Red', label = 'Mkt_excess', ax = ax1)\n",
    "\n",
    "\n",
    "#want to grup by clusters by decade \n"
   ]
  },
  {
   "cell_type": "code",
   "execution_count": 152,
   "metadata": {},
   "outputs": [
    {
     "data": {
      "text/plain": [
       "'\\'\\'\\n#fitting curve\\ndef func(x, a, b): #a and b are parameters found using optimizer\\n    return a*np.exp(b*x)\\n    #return  a*x+b\\n\\nplt.plot(x1, y, \\'bo\\', label = \"linear\")\\n\\npopt, pcov = curve_fit(func, x1, y) #function fitting data \\nprint(popt)\\n\\nplt.plot(x1, func(x1, *popt), \\'r\\', label = \\'fit\\')\\n'"
      ]
     },
     "execution_count": 152,
     "metadata": {},
     "output_type": "execute_result"
    }
   ],
   "source": [
    "'''''\n",
    "#fitting curve\n",
    "def func(x, a, b): #a and b are parameters found using optimizer\n",
    "    return a*np.exp(b*x)\n",
    "    #return  a*x+b\n",
    "\n",
    "plt.plot(x1, y, 'bo', label = \"linear\")\n",
    "\n",
    "popt, pcov = curve_fit(func, x1, y) #function fitting data \n",
    "print(popt)\n",
    "\n",
    "plt.plot(x1, func(x1, *popt), 'r', label = 'fit')\n",
    "'''''\n"
   ]
  },
  {
   "cell_type": "code",
   "execution_count": 153,
   "metadata": {},
   "outputs": [
    {
     "data": {
      "text/plain": [
       "Index(['VIVAX Raw Returns', 'Mkt-RF', 'SMB', 'HML', 'RF', 'VIVAX - RF'], dtype='object')"
      ]
     },
     "execution_count": 153,
     "metadata": {},
     "output_type": "execute_result"
    }
   ],
   "source": [
    "full_dataset.columns"
   ]
  },
  {
   "cell_type": "code",
   "execution_count": 154,
   "metadata": {},
   "outputs": [
    {
     "name": "stdout",
     "output_type": "stream",
     "text": [
      "ADF Statistic: -11.699360\n",
      "P Value: 0.000000\n",
      "Critical Values:\n",
      "\t1%: -3.486\n",
      "\t5%: -2.886\n",
      "\t10%: -2.580\n"
     ]
    },
    {
     "data": {
      "image/png": "[encoded data removed]",
      "text/plain": [
       "<Figure size 432x288 with 1 Axes>"
      ]
     },
     "metadata": {
      "needs_background": "light"
     },
     "output_type": "display_data"
    },
    {
     "data": {
      "image/png": "[encoded data removed]",
      "text/plain": [
       "<Figure size 432x288 with 1 Axes>"
      ]
     },
     "metadata": {
      "needs_background": "light"
     },
     "output_type": "display_data"
    }
   ],
   "source": [
    "#autocorrelation\n",
    "sm.graphics.tsa.plot_acf(full_dataset['VIVAX - RF'],alpha = .01, title = 'Excess Returns ACF')\n",
    "sm.graphics.tsa.plot_pacf(full_dataset['VIVAX - RF'],alpha = .01, title = 'Excess Returns PACF')\n",
    "result_ADF = adfuller((full_dataset['VIVAX - RF']))\n",
    "print('ADF Statistic: %f' % result_ADF[0])\n",
    "print('P Value: %f' % result_ADF[1])\n",
    "print('Critical Values:')\n",
    "for key, value in result_ADF[4].items():\n",
    "    print('\\t%s: %.3f' % (key,value))"
   ]
  },
  {
   "cell_type": "code",
   "execution_count": 155,
   "metadata": {},
   "outputs": [
    {
     "data": {
      "text/html": [
       "<style  type=\"text/css\" >\n",
       "    #T_e01f8cd8_3bdb_11eb_b300_9801a7af91dfrow0_col0 {\n",
       "            background-color:  #b40426;\n",
       "            color:  #f1f1f1;\n",
       "        }    #T_e01f8cd8_3bdb_11eb_b300_9801a7af91dfrow0_col1 {\n",
       "            background-color:  #c0282f;\n",
       "            color:  #f1f1f1;\n",
       "        }    #T_e01f8cd8_3bdb_11eb_b300_9801a7af91dfrow0_col2 {\n",
       "            background-color:  #b9d0f9;\n",
       "            color:  #000000;\n",
       "        }    #T_e01f8cd8_3bdb_11eb_b300_9801a7af91dfrow0_col3 {\n",
       "            background-color:  #d5dbe5;\n",
       "            color:  #000000;\n",
       "        }    #T_e01f8cd8_3bdb_11eb_b300_9801a7af91dfrow0_col4 {\n",
       "            background-color:  #455cce;\n",
       "            color:  #f1f1f1;\n",
       "        }    #T_e01f8cd8_3bdb_11eb_b300_9801a7af91dfrow0_col5 {\n",
       "            background-color:  #b40426;\n",
       "            color:  #f1f1f1;\n",
       "        }    #T_e01f8cd8_3bdb_11eb_b300_9801a7af91dfrow1_col0 {\n",
       "            background-color:  #c0282f;\n",
       "            color:  #f1f1f1;\n",
       "        }    #T_e01f8cd8_3bdb_11eb_b300_9801a7af91dfrow1_col1 {\n",
       "            background-color:  #b40426;\n",
       "            color:  #f1f1f1;\n",
       "        }    #T_e01f8cd8_3bdb_11eb_b300_9801a7af91dfrow1_col2 {\n",
       "            background-color:  #c9d7f0;\n",
       "            color:  #000000;\n",
       "        }    #T_e01f8cd8_3bdb_11eb_b300_9801a7af91dfrow1_col3 {\n",
       "            background-color:  #a3c2fe;\n",
       "            color:  #000000;\n",
       "        }    #T_e01f8cd8_3bdb_11eb_b300_9801a7af91dfrow1_col4 {\n",
       "            background-color:  #445acc;\n",
       "            color:  #f1f1f1;\n",
       "        }    #T_e01f8cd8_3bdb_11eb_b300_9801a7af91dfrow1_col5 {\n",
       "            background-color:  #c0282f;\n",
       "            color:  #f1f1f1;\n",
       "        }    #T_e01f8cd8_3bdb_11eb_b300_9801a7af91dfrow2_col0 {\n",
       "            background-color:  #b6cefa;\n",
       "            color:  #000000;\n",
       "        }    #T_e01f8cd8_3bdb_11eb_b300_9801a7af91dfrow2_col1 {\n",
       "            background-color:  #c7d7f0;\n",
       "            color:  #000000;\n",
       "        }    #T_e01f8cd8_3bdb_11eb_b300_9801a7af91dfrow2_col2 {\n",
       "            background-color:  #b40426;\n",
       "            color:  #f1f1f1;\n",
       "        }    #T_e01f8cd8_3bdb_11eb_b300_9801a7af91dfrow2_col3 {\n",
       "            background-color:  #98b9ff;\n",
       "            color:  #000000;\n",
       "        }    #T_e01f8cd8_3bdb_11eb_b300_9801a7af91dfrow2_col4 {\n",
       "            background-color:  #4358cb;\n",
       "            color:  #f1f1f1;\n",
       "        }    #T_e01f8cd8_3bdb_11eb_b300_9801a7af91dfrow2_col5 {\n",
       "            background-color:  #bad0f8;\n",
       "            color:  #000000;\n",
       "        }    #T_e01f8cd8_3bdb_11eb_b300_9801a7af91dfrow3_col0 {\n",
       "            background-color:  #cedaeb;\n",
       "            color:  #000000;\n",
       "        }    #T_e01f8cd8_3bdb_11eb_b300_9801a7af91dfrow3_col1 {\n",
       "            background-color:  #9bbcff;\n",
       "            color:  #000000;\n",
       "        }    #T_e01f8cd8_3bdb_11eb_b300_9801a7af91dfrow3_col2 {\n",
       "            background-color:  #92b4fe;\n",
       "            color:  #000000;\n",
       "        }    #T_e01f8cd8_3bdb_11eb_b300_9801a7af91dfrow3_col3 {\n",
       "            background-color:  #b40426;\n",
       "            color:  #f1f1f1;\n",
       "        }    #T_e01f8cd8_3bdb_11eb_b300_9801a7af91dfrow3_col4 {\n",
       "            background-color:  #3b4cc0;\n",
       "            color:  #f1f1f1;\n",
       "        }    #T_e01f8cd8_3bdb_11eb_b300_9801a7af91dfrow3_col5 {\n",
       "            background-color:  #d2dbe8;\n",
       "            color:  #000000;\n",
       "        }    #T_e01f8cd8_3bdb_11eb_b300_9801a7af91dfrow4_col0 {\n",
       "            background-color:  #3b4cc0;\n",
       "            color:  #f1f1f1;\n",
       "        }    #T_e01f8cd8_3bdb_11eb_b300_9801a7af91dfrow4_col1 {\n",
       "            background-color:  #3b4cc0;\n",
       "            color:  #f1f1f1;\n",
       "        }    #T_e01f8cd8_3bdb_11eb_b300_9801a7af91dfrow4_col2 {\n",
       "            background-color:  #3b4cc0;\n",
       "            color:  #f1f1f1;\n",
       "        }    #T_e01f8cd8_3bdb_11eb_b300_9801a7af91dfrow4_col3 {\n",
       "            background-color:  #3b4cc0;\n",
       "            color:  #f1f1f1;\n",
       "        }    #T_e01f8cd8_3bdb_11eb_b300_9801a7af91dfrow4_col4 {\n",
       "            background-color:  #b40426;\n",
       "            color:  #f1f1f1;\n",
       "        }    #T_e01f8cd8_3bdb_11eb_b300_9801a7af91dfrow4_col5 {\n",
       "            background-color:  #3b4cc0;\n",
       "            color:  #f1f1f1;\n",
       "        }    #T_e01f8cd8_3bdb_11eb_b300_9801a7af91dfrow5_col0 {\n",
       "            background-color:  #b40426;\n",
       "            color:  #f1f1f1;\n",
       "        }    #T_e01f8cd8_3bdb_11eb_b300_9801a7af91dfrow5_col1 {\n",
       "            background-color:  #c0282f;\n",
       "            color:  #f1f1f1;\n",
       "        }    #T_e01f8cd8_3bdb_11eb_b300_9801a7af91dfrow5_col2 {\n",
       "            background-color:  #b9d0f9;\n",
       "            color:  #000000;\n",
       "        }    #T_e01f8cd8_3bdb_11eb_b300_9801a7af91dfrow5_col3 {\n",
       "            background-color:  #d5dbe5;\n",
       "            color:  #000000;\n",
       "        }    #T_e01f8cd8_3bdb_11eb_b300_9801a7af91dfrow5_col4 {\n",
       "            background-color:  #4055c8;\n",
       "            color:  #f1f1f1;\n",
       "        }    #T_e01f8cd8_3bdb_11eb_b300_9801a7af91dfrow5_col5 {\n",
       "            background-color:  #b40426;\n",
       "            color:  #f1f1f1;\n",
       "        }</style><table id=\"T_e01f8cd8_3bdb_11eb_b300_9801a7af91df\" ><thead>    <tr>        <th class=\"blank level0\" ></th>        <th class=\"col_heading level0 col0\" >VIVAX Raw Returns</th>        <th class=\"col_heading level0 col1\" >Mkt-RF</th>        <th class=\"col_heading level0 col2\" >SMB</th>        <th class=\"col_heading level0 col3\" >HML</th>        <th class=\"col_heading level0 col4\" >RF</th>        <th class=\"col_heading level0 col5\" >VIVAX - RF</th>    </tr></thead><tbody>\n",
       "                <tr>\n",
       "                        <th id=\"T_e01f8cd8_3bdb_11eb_b300_9801a7af91dflevel0_row0\" class=\"row_heading level0 row0\" >VIVAX Raw Returns</th>\n",
       "                        <td id=\"T_e01f8cd8_3bdb_11eb_b300_9801a7af91dfrow0_col0\" class=\"data row0 col0\" >1.000000</td>\n",
       "                        <td id=\"T_e01f8cd8_3bdb_11eb_b300_9801a7af91dfrow0_col1\" class=\"data row0 col1\" >0.962372</td>\n",
       "                        <td id=\"T_e01f8cd8_3bdb_11eb_b300_9801a7af91dfrow0_col2\" class=\"data row0 col2\" >0.294461</td>\n",
       "                        <td id=\"T_e01f8cd8_3bdb_11eb_b300_9801a7af91dfrow0_col3\" class=\"data row0 col3\" >0.383089</td>\n",
       "                        <td id=\"T_e01f8cd8_3bdb_11eb_b300_9801a7af91dfrow0_col4\" class=\"data row0 col4\" >-0.117846</td>\n",
       "                        <td id=\"T_e01f8cd8_3bdb_11eb_b300_9801a7af91dfrow0_col5\" class=\"data row0 col5\" >0.999853</td>\n",
       "            </tr>\n",
       "            <tr>\n",
       "                        <th id=\"T_e01f8cd8_3bdb_11eb_b300_9801a7af91dflevel0_row1\" class=\"row_heading level0 row1\" >Mkt-RF</th>\n",
       "                        <td id=\"T_e01f8cd8_3bdb_11eb_b300_9801a7af91dfrow1_col0\" class=\"data row1 col0\" >0.962372</td>\n",
       "                        <td id=\"T_e01f8cd8_3bdb_11eb_b300_9801a7af91dfrow1_col1\" class=\"data row1 col1\" >1.000000</td>\n",
       "                        <td id=\"T_e01f8cd8_3bdb_11eb_b300_9801a7af91dfrow1_col2\" class=\"data row1 col2\" >0.353362</td>\n",
       "                        <td id=\"T_e01f8cd8_3bdb_11eb_b300_9801a7af91dfrow1_col3\" class=\"data row1 col3\" >0.205007</td>\n",
       "                        <td id=\"T_e01f8cd8_3bdb_11eb_b300_9801a7af91dfrow1_col4\" class=\"data row1 col4\" >-0.120643</td>\n",
       "                        <td id=\"T_e01f8cd8_3bdb_11eb_b300_9801a7af91dfrow1_col5\" class=\"data row1 col5\" >0.962355</td>\n",
       "            </tr>\n",
       "            <tr>\n",
       "                        <th id=\"T_e01f8cd8_3bdb_11eb_b300_9801a7af91dflevel0_row2\" class=\"row_heading level0 row2\" >SMB</th>\n",
       "                        <td id=\"T_e01f8cd8_3bdb_11eb_b300_9801a7af91dfrow2_col0\" class=\"data row2 col0\" >0.294461</td>\n",
       "                        <td id=\"T_e01f8cd8_3bdb_11eb_b300_9801a7af91dfrow2_col1\" class=\"data row2 col1\" >0.353362</td>\n",
       "                        <td id=\"T_e01f8cd8_3bdb_11eb_b300_9801a7af91dfrow2_col2\" class=\"data row2 col2\" >1.000000</td>\n",
       "                        <td id=\"T_e01f8cd8_3bdb_11eb_b300_9801a7af91dfrow2_col3\" class=\"data row2 col3\" >0.167092</td>\n",
       "                        <td id=\"T_e01f8cd8_3bdb_11eb_b300_9801a7af91dfrow2_col4\" class=\"data row2 col4\" >-0.129067</td>\n",
       "                        <td id=\"T_e01f8cd8_3bdb_11eb_b300_9801a7af91dfrow2_col5\" class=\"data row2 col5\" >0.296045</td>\n",
       "            </tr>\n",
       "            <tr>\n",
       "                        <th id=\"T_e01f8cd8_3bdb_11eb_b300_9801a7af91dflevel0_row3\" class=\"row_heading level0 row3\" >HML</th>\n",
       "                        <td id=\"T_e01f8cd8_3bdb_11eb_b300_9801a7af91dfrow3_col0\" class=\"data row3 col0\" >0.383089</td>\n",
       "                        <td id=\"T_e01f8cd8_3bdb_11eb_b300_9801a7af91dfrow3_col1\" class=\"data row3 col1\" >0.205007</td>\n",
       "                        <td id=\"T_e01f8cd8_3bdb_11eb_b300_9801a7af91dfrow3_col2\" class=\"data row3 col2\" >0.167092</td>\n",
       "                        <td id=\"T_e01f8cd8_3bdb_11eb_b300_9801a7af91dfrow3_col3\" class=\"data row3 col3\" >1.000000</td>\n",
       "                        <td id=\"T_e01f8cd8_3bdb_11eb_b300_9801a7af91dfrow3_col4\" class=\"data row3 col4\" >-0.161391</td>\n",
       "                        <td id=\"T_e01f8cd8_3bdb_11eb_b300_9801a7af91dfrow3_col5\" class=\"data row3 col5\" >0.385037</td>\n",
       "            </tr>\n",
       "            <tr>\n",
       "                        <th id=\"T_e01f8cd8_3bdb_11eb_b300_9801a7af91dflevel0_row4\" class=\"row_heading level0 row4\" >RF</th>\n",
       "                        <td id=\"T_e01f8cd8_3bdb_11eb_b300_9801a7af91dfrow4_col0\" class=\"data row4 col0\" >-0.117846</td>\n",
       "                        <td id=\"T_e01f8cd8_3bdb_11eb_b300_9801a7af91dfrow4_col1\" class=\"data row4 col1\" >-0.120643</td>\n",
       "                        <td id=\"T_e01f8cd8_3bdb_11eb_b300_9801a7af91dfrow4_col2\" class=\"data row4 col2\" >-0.129067</td>\n",
       "                        <td id=\"T_e01f8cd8_3bdb_11eb_b300_9801a7af91dfrow4_col3\" class=\"data row4 col3\" >-0.161391</td>\n",
       "                        <td id=\"T_e01f8cd8_3bdb_11eb_b300_9801a7af91dfrow4_col4\" class=\"data row4 col4\" >1.000000</td>\n",
       "                        <td id=\"T_e01f8cd8_3bdb_11eb_b300_9801a7af91dfrow4_col5\" class=\"data row4 col5\" >-0.134826</td>\n",
       "            </tr>\n",
       "            <tr>\n",
       "                        <th id=\"T_e01f8cd8_3bdb_11eb_b300_9801a7af91dflevel0_row5\" class=\"row_heading level0 row5\" >VIVAX - RF</th>\n",
       "                        <td id=\"T_e01f8cd8_3bdb_11eb_b300_9801a7af91dfrow5_col0\" class=\"data row5 col0\" >0.999853</td>\n",
       "                        <td id=\"T_e01f8cd8_3bdb_11eb_b300_9801a7af91dfrow5_col1\" class=\"data row5 col1\" >0.962355</td>\n",
       "                        <td id=\"T_e01f8cd8_3bdb_11eb_b300_9801a7af91dfrow5_col2\" class=\"data row5 col2\" >0.296045</td>\n",
       "                        <td id=\"T_e01f8cd8_3bdb_11eb_b300_9801a7af91dfrow5_col3\" class=\"data row5 col3\" >0.385037</td>\n",
       "                        <td id=\"T_e01f8cd8_3bdb_11eb_b300_9801a7af91dfrow5_col4\" class=\"data row5 col4\" >-0.134826</td>\n",
       "                        <td id=\"T_e01f8cd8_3bdb_11eb_b300_9801a7af91dfrow5_col5\" class=\"data row5 col5\" >1.000000</td>\n",
       "            </tr>\n",
       "    </tbody></table>"
      ],
      "text/plain": [
       "<pandas.io.formats.style.Styler at 0x7ff63c578a10>"
      ]
     },
     "execution_count": 155,
     "metadata": {},
     "output_type": "execute_result"
    }
   ],
   "source": [
    "#10x10 correlation matrix \n",
    "\n",
    "#rs = np.random.RandomState(0)\n",
    "#df = pd.DataFrame(rs.rand(6,6))\n",
    "corr = full_dataset.corr()\n",
    "corr.style.background_gradient(cmap='coolwarm')"
   ]
  },
  {
   "cell_type": "code",
   "execution_count": 156,
   "metadata": {},
   "outputs": [
    {
     "name": "stdout",
     "output_type": "stream",
     "text": [
      "[[0.00158928 0.00032151 0.00021679 0.00145995]\n",
      " [0.00032151 0.00052091 0.00010116 0.00025712]\n",
      " [0.00021679 0.00010116 0.0007036  0.00038866]\n",
      " [0.00145995 0.00025712 0.00038866 0.00144812]]\n"
     ]
    },
    {
     "data": {
      "text/plain": [
       "<matplotlib.axes._subplots.AxesSubplot at 0x7ff63a3cd5d0>"
      ]
     },
     "execution_count": 156,
     "metadata": {},
     "output_type": "execute_result"
    },
    {
     "data": {
      "image/png": "[encoded data removed]",
      "text/plain": [
       "<Figure size 432x288 with 2 Axes>"
      ]
     },
     "metadata": {
      "needs_background": "light"
     },
     "output_type": "display_data"
    }
   ],
   "source": [
    "#covariance matrix (transposed where each columns is a variable and each row are observations)\n",
    "\n",
    "#bias=true allows you to calculate population covariance (not normalized)\n",
    "\n",
    "#creating covariance as a defined variable \n",
    "cov_matrix = np.cov(X, Y, bias=True)\n",
    "print(cov_matrix)\n",
    "\n",
    "#covariance heatmap\n",
    "labels = ['Portfolio', 'Mkt - RF', 'SMB', 'HML']\n",
    "sns.heatmap(cov_matrix, annot=True, fmt='g', xticklabels=labels, yticklabels=labels)\n",
    "\n"
   ]
  },
  {
   "cell_type": "code",
   "execution_count": 157,
   "metadata": {},
   "outputs": [
    {
     "data": {
      "text/plain": [
       "array([0.55238264])"
      ]
     },
     "execution_count": 157,
     "metadata": {},
     "output_type": "execute_result"
    }
   ],
   "source": [
    "#quicker way to run regression but need to reshape arrays into 2 dimentional to make it work\n",
    "\n",
    "regress = linear_model.LinearRegression()\n",
    "regress_x1 = regress.fit(x1.reshape(-1,1),Y)\n",
    "regress_x2 = regress.fit(x2.reshape(-1,1),Y)\n",
    "regress_x3 = regress.fit(x3.reshape(-1,1),Y) #outputs a 80% r correlation \n",
    "\n",
    "regress.coef_\n",
    "\n"
   ]
  },
  {
   "cell_type": "code",
   "execution_count": null,
   "metadata": {},
   "outputs": [],
   "source": []
  },
  {
   "cell_type": "code",
   "execution_count": null,
   "metadata": {},
   "outputs": [],
   "source": []
  },
  {
   "cell_type": "code",
   "execution_count": null,
   "metadata": {},
   "outputs": [],
   "source": []
  }
 ],
 "metadata": {
  "kernelspec": {
   "display_name": "Python 3",
   "language": "python",
   "name": "python3"
  },
  "language_info": {
   "codemirror_mode": {
    "name": "ipython",
    "version": 3
   },
   "file_extension": ".py",
   "mimetype": "text/x-python",
   "name": "python",
   "nbconvert_exporter": "python",
   "pygments_lexer": "ipython3",
   "version": "3.7.9"
  }
 },
 "nbformat": 4,
 "nbformat_minor": 4
}
