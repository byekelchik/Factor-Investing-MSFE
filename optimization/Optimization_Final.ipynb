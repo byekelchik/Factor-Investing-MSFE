{
 "cells": [
  {
   "cell_type": "markdown",
   "id": "regulated-glasgow",
   "metadata": {},
   "source": [
    "## Overview\n",
    "\n",
    "In this file, there are two different optimization techniques for determining the weights of a portfolio. One technique is one I created and the other is using a library that uses the efficient frontier to find the weights.\n",
    "\n",
    "The first is using a method that I created using the \"scipy.optimize\" library. I obtained the relevant data from Yahoo Finance, cleaned and organized into the correct format, defined the objective function, found all of the parameters from the data, and then optimized. From the weights, I then found the sharpe ratio of the portfolio.\n",
    "\n",
    "The second uses \"pypfopt.efficient_frontier\", which includes a built-in function to determine the optimal weights that give you the portfolio with the highest sharpe ratio. This works great and is how the optimization will be performed in this project.\n",
    "\n",
    "The two techniques are very similar, but there are some subtle differences. Here are some of the differences:\n",
    "- For the first one, it does not exactly find the result with the highest sharpe ratio. This is because you have to define a risk level factor, which I set to 1. This can also be thought of as a required return as this impacts the overall portfolio return.\n",
    "- Since the first technique is the one I created, it is able to be customized more than the efficient frontier technique. I would be able to more easily add a value-at-risk measure, use a risk parity approach, implement nested clustered optimization, use the Black Litterman model, etc. with the first approach.\n",
    "\n",
    "For the purposes of this assignment, we are going to continue with the second technique. This method is exactly what we are looking for as it allows us to easily implement the Markowitz approach and perform the necessary analysis on it. It will allow us to choose the most optimal portfolio that has the highest mean relative to the variance.\n",
    "\n",
    "### Now to discuss the theory:\n",
    "After performing significant research about Markowitz optimization, I have learned a lot about how it works and potential issues. The Markowitz Approach optimized a model by choosing the weights that have the highest sharpe ratio. There are many different modifications such as shorting stocks and taking into account transaction costs, as well as optimizing solely to minimize risk.\n",
    "\n",
    "The model was created in 1952 and won the Nobel Prize for Economics in 1990. It has been used widespread in the financial optimization and portfolio construction world. The model provides a quantitative and logically sound way to construct portfolios. It has many applications and modifications. It works by figuring out the risk factor, which is the variance of the portfolio, as well as the estimated portfolio return for each security that is being considered. The optimization will evaluate the different possible portfolio allocations and choose the one with the highest return relative to its risk, in other words, it will choose the one with the highest sharpe ratio. The other conditions are that the sum of the portfolio weights has to be 1 and that each weight is between 0 and 1 (which I narrowed to 0 and 0.5), although it is possible to have an allocation less than 0 to take into account shortselling. It is incredbily important to have the correct data in the right format as the model outputs are only as good as the inputs.\n",
    "\n",
    "The model appears to be simple, but under the hood, figuring out the correct risk measure and combining that to maximize the sharpe ratio gets very confusing. This is a quadratic optimization problem, which can be very difficult to solve even with the correct software. There are different tricks by introducing auxilliary variables in the model, but in the model that I created, I made a slightly simpler approach due to the complexity of the model. The model I made still maximizes return relative to risk, but it uses a predefined risk aversion level, so based on your opinions the model may vary very slightly. Overall, the model does have a relatively high sharpe ratio, it is just not necessarily the highest possible value. The second model does find the highest possible sharpe ratio value, which is why we decided to use that in this project.\n",
    "\n",
    "### My Progress\n",
    "Throughout this project, I spent a significant amount of time doing research about the model before I actually dived into the actual implementation. It was incredibly important to understand the theory so that I thoroughly understood what I was doing. I read through various publications and also spoke to professionals in the field for advice. There were many different websites, articles, journals, textbooks, etc. that I read through that mentioned portfolio construction. I even spoke with Reha Tutuncu, who is on the Industry Advisory Council and is very experienced with portfolio construction (he even wrote the textbook the we are using the the financial optimization class). He recommended some great resources and provided great advice.\n",
    "\n",
    "After obtaining a significant knowledge about the Markowitz model and its potential modifications, I constructed my own model in Python. I understood the theory, so that was now the difficult aspect, but it took a significant amount of time to figure out how to construct the model in Python. There were specific aspects in Python that I had to adopt to that I was not expecting, such as only being able to minimize an optimization problem, understanding how to optimize using the \"scipy.optimize\" library, and having the data in the right format while using the correct Python syntax. After I figured all of this out, I was able to easily construct the optimization model.\n",
    "\n",
    "The way I created the model, it works for any given stock, and all you have to do is indicate which securities you want to include in the code below as well as the start and end dates for the portfolio construction. The code works for any number stocks as long as they have stock price data for the entirety of the dates indicated. The model will also determine the portfolio returns based on the optimal weights and will give you the sharpe ratio as well.\n",
    "\n",
    "Through my various research, I have also learned not to make the common mistakes, such as having a misalignment between the return and risk models. The return and risk models need to use the same data in the same time period or else the model will be off. In addition, when using the model to rebalance, it is important to check the outputs and make sure the optimal weights have not changes too much as that could lead to large transaction costs. Making sure the portfolio is reasonable is very important.\n",
    "\n",
    "After constructing my own model, we wanted to take it one step further to make sure that the maximum sharpe ratio is used. We discovered the package \"pypfopt.efficient_frontier\", which has a built-in function to find the maximum sharpe ratio. You do not need to worry about having the optimization in the right form as this will do the optimization for you.\n",
    "\n",
    "Using this second model, the optimal portfolio weights are determined for the different predicted values. The model has three stocks, which are AAPL, COKE, and GOOGL. There are three different predictions used, and we determine the portfolio returns based on the optimal weights to maximiuze the sharpe ratio, and we compare each one with the actual returns so we can check to see how each one works.\n",
    "\n",
    "We can also graph the different models compared to the actual results, as we are also backtesting with historical data. We can see which predictions are best and use those when we optimize in the future for other portfolios.\n",
    "\n",
    "### Moving Forward\n",
    "There are some potential issues with the model, which are potential areas to improve upon.\n",
    "- The model works best if the securities are not correlated, but this is rarely the case in practice. Most stock prices move together, and this will shift the model towards choosing a higher allocation of those assets as it would results in lower variance, which is the risk measure.\n",
    "    - Nested Clustered Optimzation aims to minimize this risk by first separating the securities into clusters. The model will choose an allocation among the each cluster, and then it will provide allocations within each security within each cluster. This way, it will more efficiently allocate among different industries.\n",
    "- The model does not differentiate among the different distributions of the returns. Let us consider one stock that has returns that are skewed to the left meaning that it is possible for very large negative returns and another stock has returns that are skewed to the right meaning that it is possible for very large positive returns. We would prefer the stock that does not have the negative returns as most investors are risk averse. However, if these two stocks have returns that are otherwise the same, then the model would not differentiate between the two.\n",
    "    - This can be taken into account by adding a value-at-risk (VaR) measure or a conditional value-at-risk (CVaR) measure. These will figure out a cutoff for the returns and will only take into account those returns that are above the cutoff. The model will then be able to more appropriately choose among the returns and choose the stock that has a higher cutoff, meaning it will choose the stock with the returns that are more positive.\n",
    "- The model is uses entirely quantitative ideology based on the numerical returns. These values can be hard to predict, and in this case it is not an issue as there was a very large component dedicated towards estimating the returns. However, it would be nice to be able to take into account your own personal views on each stock. It would add a qualitative component to the model.\n",
    "    - This is accomplished by implementing a Black-Litterman Model. This is a different model than the Markowitz Model, but it would be interesting to compare results and see how the sharpe ratio differs.\n",
    "\n",
    "In this project, I chose to keep the Markowitz Model simple when finding the optimal weights. As I was performing research, I had many different directions to take the model and I was excited to be able to add a value-at-risk measure to improve on the model. When I got to the actual implementation, I realized how difficult it actually is to construct the model. I was able to make the basic model, and once I figured out the correct syntax it was not that difficult. However, adding a value-at-risk measure or implementing nested clustered optimization are very complicated techniques that require a very extensive knowledge of not only the theory, but also knowledge of Python as it relates to optimization. There is also a machine learning aspect, and overall, it exceeded what I was able to create. I was planning on performing these extra steps, but I  realized that I did not necessarily have the knowledge required to do so, as I would need to strong understanding of machine learning, among other things, as well. The most difficult part is the implementation in Python as I do believe I understand each of these modifications in theory, but I ran into much difficulty when it came to the implementation.\n",
    "\n",
    "If anyone works on this project further, which I hope is the case, I would recommend them to explore these ideas. I already have the basic Markowitz Model created, but if someone has the additional knowledge to tackle these modifications, that would help expand on the project. Having taking ISE 447:Financial Optimization would be very helpful for the project."
   ]
  },
  {
   "cell_type": "markdown",
   "id": "respected-michael",
   "metadata": {},
   "source": [
    " "
   ]
  },
  {
   "cell_type": "markdown",
   "id": "clean-patrol",
   "metadata": {},
   "source": [
    "Now we can get to the actual code for the optimization.\n",
    "\n",
    "## First Technique- My Own Model\n",
    "\n",
    "The model below is the one that I created. It uses \"scipy.optimize\" and defines its own objective function and performs its own optimization. It can be customized to include any number of stocks and for any time period. More details are below for anything to change."
   ]
  },
  {
   "cell_type": "code",
   "execution_count": 1,
   "id": "industrial-manor",
   "metadata": {},
   "outputs": [],
   "source": [
    "import numpy as np\n",
    "import pandas as pd\n",
    "#import matplotlib.pyplot as plt\n",
    "#from scipy.stats import norm\n",
    "#from scipy.stats import linregress\n",
    "#import statsmodels.formula.api as smf\n",
    "import csv\n",
    "import scipy.optimize as opt\n",
    "import pandas_datareader as pdr\n",
    "from datetime import datetime"
   ]
  },
  {
   "cell_type": "code",
   "execution_count": 2,
   "id": "appointed-ambassador",
   "metadata": {},
   "outputs": [],
   "source": [
    "# function to read in data from a csv\n",
    "def readPricesCSV(file):\n",
    "    df = pd.read_csv(file)\n",
    "    dfPrices = df[\"Adj Close\"]\n",
    "    return dfPrices"
   ]
  },
  {
   "cell_type": "code",
   "execution_count": 3,
   "id": "powerful-technician",
   "metadata": {},
   "outputs": [],
   "source": [
    "# function to read in stock prices from yahoo finance\n",
    "def readPricesYF(start_date, end_date, tickers):\n",
    "    stockPrices = pdr.get_data_yahoo(tickers, start=start_date, end=end_date)   # read in the data\n",
    "    stockPrices = stockPrices.filter(like='Adj Close')   # tickers are columns and data values are adjusted closing prices with the date as the index\n",
    "    stockPrices.columns = tickers   # change column names to be their tickers\n",
    "    stockPrices = stockPrices.stack().swaplevel().sort_index().reset_index()    # make the data tall and clean it up so it is easier to perform analysis on\n",
    "    stockPrices.columns = ['Firm','Date','Adj Close']     # rename the columns\n",
    "#    stockPrices['Return'] = stockPrices.groupby('Firm')['Adj Close'].pct_change()    # get the daily returns for each ticker\n",
    "    return stockPrices\n"
   ]
  },
  {
   "cell_type": "code",
   "execution_count": 4,
   "id": "photographic-health",
   "metadata": {},
   "outputs": [],
   "source": [
    "# the objective function\n",
    "def obj(weights):\n",
    "    \n",
    "    sum_return = np.dot(weights,means)     #get the return measure given by the weights and mean\n",
    "    num_stocks = len(means)\n",
    "    \n",
    "    #get the risk measure given by the weights\n",
    "    risk_measure = np.matmul(np.matmul(np.transpose(np.array(weights)), cov_matr), np.array(weights))\n",
    "    \n",
    "    #return the objective function value\n",
    "    return  -(sum_return - (risk_level * risk_measure))\n"
   ]
  },
  {
   "cell_type": "markdown",
   "id": "alert-whale",
   "metadata": {},
   "source": [
    "### What To Change:\n",
    "**The following block of code is the only one in this file that should be changed.**\n",
    "- Add more stocks by including them in the list of tickers\n",
    "- Change the starting and ending dates\n",
    "\n",
    "**If there are any changes made, rerun the entire code after making the changes**\n",
    "\n",
    "**Nothing else should be changed in this file**"
   ]
  },
  {
   "cell_type": "code",
   "execution_count": 5,
   "id": "greek-engineer",
   "metadata": {},
   "outputs": [
    {
     "data": {
      "text/html": [
       "<div>\n",
       "<style scoped>\n",
       "    .dataframe tbody tr th:only-of-type {\n",
       "        vertical-align: middle;\n",
       "    }\n",
       "\n",
       "    .dataframe tbody tr th {\n",
       "        vertical-align: top;\n",
       "    }\n",
       "\n",
       "    .dataframe thead th {\n",
       "        text-align: right;\n",
       "    }\n",
       "</style>\n",
       "<table border=\"1\" class=\"dataframe\">\n",
       "  <thead>\n",
       "    <tr style=\"text-align: right;\">\n",
       "      <th></th>\n",
       "      <th>Firm</th>\n",
       "      <th>Date</th>\n",
       "      <th>Adj Close</th>\n",
       "    </tr>\n",
       "  </thead>\n",
       "  <tbody>\n",
       "    <tr>\n",
       "      <th>0</th>\n",
       "      <td>AAPL</td>\n",
       "      <td>2020-08-25</td>\n",
       "      <td>124.213104</td>\n",
       "    </tr>\n",
       "    <tr>\n",
       "      <th>1</th>\n",
       "      <td>AAPL</td>\n",
       "      <td>2020-08-26</td>\n",
       "      <td>125.902283</td>\n",
       "    </tr>\n",
       "    <tr>\n",
       "      <th>2</th>\n",
       "      <td>AAPL</td>\n",
       "      <td>2020-08-27</td>\n",
       "      <td>124.397202</td>\n",
       "    </tr>\n",
       "    <tr>\n",
       "      <th>3</th>\n",
       "      <td>AAPL</td>\n",
       "      <td>2020-08-28</td>\n",
       "      <td>124.195694</td>\n",
       "    </tr>\n",
       "    <tr>\n",
       "      <th>4</th>\n",
       "      <td>AAPL</td>\n",
       "      <td>2020-08-31</td>\n",
       "      <td>128.407440</td>\n",
       "    </tr>\n",
       "    <tr>\n",
       "      <th>...</th>\n",
       "      <td>...</td>\n",
       "      <td>...</td>\n",
       "      <td>...</td>\n",
       "    </tr>\n",
       "    <tr>\n",
       "      <th>757</th>\n",
       "      <td>TSLA</td>\n",
       "      <td>2021-02-19</td>\n",
       "      <td>781.299988</td>\n",
       "    </tr>\n",
       "    <tr>\n",
       "      <th>758</th>\n",
       "      <td>TSLA</td>\n",
       "      <td>2021-02-22</td>\n",
       "      <td>714.500000</td>\n",
       "    </tr>\n",
       "    <tr>\n",
       "      <th>759</th>\n",
       "      <td>TSLA</td>\n",
       "      <td>2021-02-23</td>\n",
       "      <td>698.840027</td>\n",
       "    </tr>\n",
       "    <tr>\n",
       "      <th>760</th>\n",
       "      <td>TSLA</td>\n",
       "      <td>2021-02-24</td>\n",
       "      <td>742.020020</td>\n",
       "    </tr>\n",
       "    <tr>\n",
       "      <th>761</th>\n",
       "      <td>TSLA</td>\n",
       "      <td>2021-02-25</td>\n",
       "      <td>682.219971</td>\n",
       "    </tr>\n",
       "  </tbody>\n",
       "</table>\n",
       "<p>762 rows × 3 columns</p>\n",
       "</div>"
      ],
      "text/plain": [
       "     Firm       Date   Adj Close\n",
       "0    AAPL 2020-08-25  124.213104\n",
       "1    AAPL 2020-08-26  125.902283\n",
       "2    AAPL 2020-08-27  124.397202\n",
       "3    AAPL 2020-08-28  124.195694\n",
       "4    AAPL 2020-08-31  128.407440\n",
       "..    ...        ...         ...\n",
       "757  TSLA 2021-02-19  781.299988\n",
       "758  TSLA 2021-02-22  714.500000\n",
       "759  TSLA 2021-02-23  698.840027\n",
       "760  TSLA 2021-02-24  742.020020\n",
       "761  TSLA 2021-02-25  682.219971\n",
       "\n",
       "[762 rows x 3 columns]"
      ]
     },
     "execution_count": 5,
     "metadata": {},
     "output_type": "execute_result"
    }
   ],
   "source": [
    "#choose which stocks to include in the optimization of the portfolio (list the tickers)\n",
    "tickers = ['MSFT', 'AAPL', 'AMZN', 'NFLX', 'DIS', 'TSLA']\n",
    "tickers = sorted(tickers)\n",
    "\n",
    "#set the start and end dates- choose last six months in this case\n",
    "start_date = datetime(2020, 8, 25) #year, month, day\n",
    "end_date = datetime(2021,2,25) #year, month, day\n",
    "\n",
    "stockPrices = readPricesYF(start_date, end_date, tickers)    # use the function defined above to get data from Yahoo Finance\n",
    "#stockPrices['ret'] = stockPrices['Adj Close'].pct_change()\n",
    "stockPrices"
   ]
  },
  {
   "cell_type": "code",
   "execution_count": 6,
   "id": "forbidden-cradle",
   "metadata": {},
   "outputs": [
    {
     "data": {
      "text/html": [
       "<div>\n",
       "<style scoped>\n",
       "    .dataframe tbody tr th:only-of-type {\n",
       "        vertical-align: middle;\n",
       "    }\n",
       "\n",
       "    .dataframe tbody tr th {\n",
       "        vertical-align: top;\n",
       "    }\n",
       "\n",
       "    .dataframe thead th {\n",
       "        text-align: right;\n",
       "    }\n",
       "</style>\n",
       "<table border=\"1\" class=\"dataframe\">\n",
       "  <thead>\n",
       "    <tr style=\"text-align: right;\">\n",
       "      <th></th>\n",
       "      <th>AAPL</th>\n",
       "      <th>AMZN</th>\n",
       "      <th>DIS</th>\n",
       "      <th>MSFT</th>\n",
       "      <th>NFLX</th>\n",
       "      <th>TSLA</th>\n",
       "    </tr>\n",
       "    <tr>\n",
       "      <th>Date</th>\n",
       "      <th></th>\n",
       "      <th></th>\n",
       "      <th></th>\n",
       "      <th></th>\n",
       "      <th></th>\n",
       "      <th></th>\n",
       "    </tr>\n",
       "  </thead>\n",
       "  <tbody>\n",
       "    <tr>\n",
       "      <th>2020-08-26</th>\n",
       "      <td>0.013599</td>\n",
       "      <td>0.028496</td>\n",
       "      <td>0.018414</td>\n",
       "      <td>0.021620</td>\n",
       "      <td>0.116087</td>\n",
       "      <td>0.064166</td>\n",
       "    </tr>\n",
       "    <tr>\n",
       "      <th>2020-08-27</th>\n",
       "      <td>-0.011954</td>\n",
       "      <td>-0.012159</td>\n",
       "      <td>0.011726</td>\n",
       "      <td>0.024554</td>\n",
       "      <td>-0.038829</td>\n",
       "      <td>0.039746</td>\n",
       "    </tr>\n",
       "    <tr>\n",
       "      <th>2020-08-28</th>\n",
       "      <td>-0.001620</td>\n",
       "      <td>0.000529</td>\n",
       "      <td>0.013535</td>\n",
       "      <td>0.010283</td>\n",
       "      <td>-0.004522</td>\n",
       "      <td>-0.011323</td>\n",
       "    </tr>\n",
       "    <tr>\n",
       "      <th>2020-08-31</th>\n",
       "      <td>0.033912</td>\n",
       "      <td>0.014451</td>\n",
       "      <td>-0.027077</td>\n",
       "      <td>-0.014766</td>\n",
       "      <td>0.010823</td>\n",
       "      <td>0.125689</td>\n",
       "    </tr>\n",
       "    <tr>\n",
       "      <th>2020-09-01</th>\n",
       "      <td>0.039833</td>\n",
       "      <td>0.013956</td>\n",
       "      <td>0.012740</td>\n",
       "      <td>0.007715</td>\n",
       "      <td>0.050967</td>\n",
       "      <td>-0.046697</td>\n",
       "    </tr>\n",
       "    <tr>\n",
       "      <th>...</th>\n",
       "      <td>...</td>\n",
       "      <td>...</td>\n",
       "      <td>...</td>\n",
       "      <td>...</td>\n",
       "      <td>...</td>\n",
       "      <td>...</td>\n",
       "    </tr>\n",
       "    <tr>\n",
       "      <th>2021-02-19</th>\n",
       "      <td>0.001234</td>\n",
       "      <td>-0.023535</td>\n",
       "      <td>0.003552</td>\n",
       "      <td>-0.011567</td>\n",
       "      <td>-0.014593</td>\n",
       "      <td>-0.007722</td>\n",
       "    </tr>\n",
       "    <tr>\n",
       "      <th>2021-02-22</th>\n",
       "      <td>-0.029799</td>\n",
       "      <td>-0.021281</td>\n",
       "      <td>0.044160</td>\n",
       "      <td>-0.026808</td>\n",
       "      <td>-0.011921</td>\n",
       "      <td>-0.085499</td>\n",
       "    </tr>\n",
       "    <tr>\n",
       "      <th>2021-02-23</th>\n",
       "      <td>-0.001111</td>\n",
       "      <td>0.004326</td>\n",
       "      <td>0.027795</td>\n",
       "      <td>-0.005288</td>\n",
       "      <td>0.023174</td>\n",
       "      <td>-0.021917</td>\n",
       "    </tr>\n",
       "    <tr>\n",
       "      <th>2021-02-24</th>\n",
       "      <td>-0.004052</td>\n",
       "      <td>-0.010947</td>\n",
       "      <td>0.002131</td>\n",
       "      <td>0.005487</td>\n",
       "      <td>0.013293</td>\n",
       "      <td>0.061788</td>\n",
       "    </tr>\n",
       "    <tr>\n",
       "      <th>2021-02-25</th>\n",
       "      <td>-0.034783</td>\n",
       "      <td>-0.032400</td>\n",
       "      <td>-0.033062</td>\n",
       "      <td>-0.023705</td>\n",
       "      <td>-0.012125</td>\n",
       "      <td>-0.080591</td>\n",
       "    </tr>\n",
       "  </tbody>\n",
       "</table>\n",
       "<p>126 rows × 6 columns</p>\n",
       "</div>"
      ],
      "text/plain": [
       "                AAPL      AMZN       DIS      MSFT      NFLX      TSLA\n",
       "Date                                                                  \n",
       "2020-08-26  0.013599  0.028496  0.018414  0.021620  0.116087  0.064166\n",
       "2020-08-27 -0.011954 -0.012159  0.011726  0.024554 -0.038829  0.039746\n",
       "2020-08-28 -0.001620  0.000529  0.013535  0.010283 -0.004522 -0.011323\n",
       "2020-08-31  0.033912  0.014451 -0.027077 -0.014766  0.010823  0.125689\n",
       "2020-09-01  0.039833  0.013956  0.012740  0.007715  0.050967 -0.046697\n",
       "...              ...       ...       ...       ...       ...       ...\n",
       "2021-02-19  0.001234 -0.023535  0.003552 -0.011567 -0.014593 -0.007722\n",
       "2021-02-22 -0.029799 -0.021281  0.044160 -0.026808 -0.011921 -0.085499\n",
       "2021-02-23 -0.001111  0.004326  0.027795 -0.005288  0.023174 -0.021917\n",
       "2021-02-24 -0.004052 -0.010947  0.002131  0.005487  0.013293  0.061788\n",
       "2021-02-25 -0.034783 -0.032400 -0.033062 -0.023705 -0.012125 -0.080591\n",
       "\n",
       "[126 rows x 6 columns]"
      ]
     },
     "execution_count": 6,
     "metadata": {},
     "output_type": "execute_result"
    }
   ],
   "source": [
    "# reformat the data\n",
    "stock_prices_format = stockPrices.set_index(['Date', 'Firm']).unstack()   # change format so that date and each company are columns\n",
    "stock_prices_format.columns = tickers\n",
    "stock_prices_pct_change = stock_prices_format.pct_change()[1:]\n",
    "stock_prices_pct_change"
   ]
  },
  {
   "cell_type": "code",
   "execution_count": 7,
   "id": "through-extra",
   "metadata": {},
   "outputs": [],
   "source": [
    "# get the different number of stocks and the number of stock prices \n",
    "num_stocks = len(tickers)   # the number of stocks\n",
    "prices_per_stock = stock_prices_format.shape[0]   # the number of stock prices"
   ]
  },
  {
   "cell_type": "code",
   "execution_count": 8,
   "id": "similar-mobility",
   "metadata": {},
   "outputs": [
    {
     "data": {
      "text/plain": [
       "array([[ 5.59896290e-04,  3.73559102e-04,  4.32429540e-05,\n",
       "         3.05618601e-04,  3.38402256e-04,  5.54343292e-04],\n",
       "       [ 3.73559102e-04,  4.41159509e-04,  5.04481211e-05,\n",
       "         3.06976679e-04,  3.98375581e-04,  4.11422252e-04],\n",
       "       [ 4.32429540e-05,  5.04481211e-05,  5.77167770e-04,\n",
       "         8.61969935e-05,  1.64317959e-05, -3.94774403e-05],\n",
       "       [ 3.05618601e-04,  3.06976679e-04,  8.61969935e-05,\n",
       "         3.32178259e-04,  2.66808739e-04,  3.76651700e-04],\n",
       "       [ 3.38402256e-04,  3.98375581e-04,  1.64317959e-05,\n",
       "         2.66808739e-04,  9.12232700e-04,  4.15956589e-04],\n",
       "       [ 5.54343292e-04,  4.11422252e-04, -3.94774403e-05,\n",
       "         3.76651700e-04,  4.15956589e-04,  2.22980118e-03]])"
      ]
     },
     "execution_count": 8,
     "metadata": {},
     "output_type": "execute_result"
    }
   ],
   "source": [
    "# get the covariance matrix\n",
    "cov_matr = np.cov(np.array(stock_prices_pct_change.iloc[:,range(0,num_stocks)].T))   # get the columns and transpose it so it is in right format, then turn it into covariance matrix\n",
    "#corr_matr = stock_prices_pct_change.corr()\n",
    "cov_matr"
   ]
  },
  {
   "cell_type": "code",
   "execution_count": 9,
   "id": "extreme-cooperative",
   "metadata": {},
   "outputs": [
    {
     "data": {
      "text/plain": [
       "array([ 5.71133153e-05, -4.98897312e-04,  3.34623847e-03,  6.51091710e-04,\n",
       "        1.30126183e-03,  5.28170546e-03])"
      ]
     },
     "execution_count": 9,
     "metadata": {},
     "output_type": "execute_result"
    }
   ],
   "source": [
    "# get the mean price for each stock\n",
    "\n",
    "means = np.array(stock_prices_pct_change.mean().to_list())    # get means for each column, convert to a list, convert to a numpy array\n",
    "means"
   ]
  },
  {
   "cell_type": "code",
   "execution_count": 10,
   "id": "waiting-chase",
   "metadata": {},
   "outputs": [],
   "source": [
    "# set the risk level\n",
    "risk_level = 1   # risk loving < 0; risk neutral = 0; risk averse > 0"
   ]
  },
  {
   "cell_type": "code",
   "execution_count": 11,
   "id": "white-force",
   "metadata": {},
   "outputs": [],
   "source": [
    "# set an intial value for the weights\n",
    "weights = np.array([1/num_stocks]*num_stocks) # set an initial value for the weights, which is an even composition"
   ]
  },
  {
   "cell_type": "markdown",
   "id": "alert-kitty",
   "metadata": {},
   "source": [
    "### At this point, we have the following information:\n",
    " - **\"tickers\"** is a list of the tickers, and it is in alphabetical order\n",
    " - **\"num_stocks\"** is the number of different stocks\n",
    " - **\"prices_per_stock\"** is the different number of observations/the different number of stock prices obtained\n",
    "\n",
    "For the Optimization:\n",
    " - **\"cov_matr\"** is the covariance matrix\n",
    " - **\"means\"** is a numpy array that consists of the means of each stock price during the time frame **(in alphabetical order of the tickers)**\n",
    " - **\"risk_level\"** is the risk level\n",
    " - **\"weights\"** is a numpy array that consists of the initial value for the weights, which is just an even composition and will be changed later **(in alphabetical order of the tickers)**"
   ]
  },
  {
   "cell_type": "code",
   "execution_count": 12,
   "id": "confidential-legislature",
   "metadata": {},
   "outputs": [
    {
     "name": "stdout",
     "output_type": "stream",
     "text": [
      "0.0035937398363597435\n"
     ]
    },
    {
     "data": {
      "text/html": [
       "<div>\n",
       "<style scoped>\n",
       "    .dataframe tbody tr th:only-of-type {\n",
       "        vertical-align: middle;\n",
       "    }\n",
       "\n",
       "    .dataframe tbody tr th {\n",
       "        vertical-align: top;\n",
       "    }\n",
       "\n",
       "    .dataframe thead th {\n",
       "        text-align: right;\n",
       "    }\n",
       "</style>\n",
       "<table border=\"1\" class=\"dataframe\">\n",
       "  <thead>\n",
       "    <tr style=\"text-align: right;\">\n",
       "      <th></th>\n",
       "      <th>stock</th>\n",
       "      <th>weights</th>\n",
       "    </tr>\n",
       "  </thead>\n",
       "  <tbody>\n",
       "    <tr>\n",
       "      <th>0</th>\n",
       "      <td>AAPL</td>\n",
       "      <td>0.002650</td>\n",
       "    </tr>\n",
       "    <tr>\n",
       "      <th>1</th>\n",
       "      <td>AMZN</td>\n",
       "      <td>0.002229</td>\n",
       "    </tr>\n",
       "    <tr>\n",
       "      <th>2</th>\n",
       "      <td>DIS</td>\n",
       "      <td>0.491988</td>\n",
       "    </tr>\n",
       "    <tr>\n",
       "      <th>3</th>\n",
       "      <td>MSFT</td>\n",
       "      <td>0.003388</td>\n",
       "    </tr>\n",
       "    <tr>\n",
       "      <th>4</th>\n",
       "      <td>NFLX</td>\n",
       "      <td>0.005351</td>\n",
       "    </tr>\n",
       "    <tr>\n",
       "      <th>5</th>\n",
       "      <td>TSLA</td>\n",
       "      <td>0.494393</td>\n",
       "    </tr>\n",
       "  </tbody>\n",
       "</table>\n",
       "</div>"
      ],
      "text/plain": [
       "  stock   weights\n",
       "0  AAPL  0.002650\n",
       "1  AMZN  0.002229\n",
       "2   DIS  0.491988\n",
       "3  MSFT  0.003388\n",
       "4  NFLX  0.005351\n",
       "5  TSLA  0.494393"
      ]
     },
     "execution_count": 12,
     "metadata": {},
     "output_type": "execute_result"
    }
   ],
   "source": [
    "# perform the optimization!\n",
    "lin_constr = opt.LinearConstraint([1]*num_stocks, [1], [1])    # sum of all values are greater than or equal to 1 and less than or equal to 1, so the sum has to be equal to 1\n",
    "bounds = opt.Bounds([0]*num_stocks, [0.5]*num_stocks)     # each portfolio weight is greater than 0 and less than 0.5\n",
    "result = opt.minimize(obj, x0=[1/num_stocks]*num_stocks, method=\"trust-constr\", constraints = lin_constr, bounds=bounds)    # actually perform the optimization\n",
    "\n",
    "\n",
    "optimal_weights = pd.DataFrame({'stock': tickers, 'weights': result.x.tolist()})\n",
    "optimal_weights\n",
    "#sum(optimal_weights['weights'])\n",
    "np.dot(optimal_weights[\"weights\"],means) - (np.matmul(np.matmul(np.transpose(np.array(optimal_weights[\"weights\"])), cov_matr), np.array(optimal_weights[\"weights\"])))\n",
    "\n",
    "print(-1*result.fun) \n",
    "optimal_weights\n",
    "#print(result.x) "
   ]
  },
  {
   "cell_type": "code",
   "execution_count": 13,
   "id": "universal-canadian",
   "metadata": {},
   "outputs": [
    {
     "name": "stdout",
     "output_type": "stream",
     "text": [
      "Date\n",
      "2020-08-26    0.041577\n",
      "2020-08-27    0.025236\n",
      "2020-08-28    0.001068\n",
      "2020-08-31    0.048948\n",
      "2020-09-01   -0.016383\n",
      "                ...   \n",
      "2021-02-19   -0.002237\n",
      "2021-02-22   -0.020825\n",
      "2021-02-23    0.002952\n",
      "2021-02-24    0.031651\n",
      "2021-02-25   -0.056419\n",
      "Length: 126, dtype: float64\n",
      "\n",
      "\n",
      " 0.16455298468054466    0.004265757747744657    0.02592330826466622\n"
     ]
    }
   ],
   "source": [
    "opt_wghts = np.array(optimal_weights.set_index('stock')).flatten()\n",
    "\n",
    "weighted_rets = opt_wghts * stock_prices_pct_change\n",
    "weighted_rets\n",
    "\n",
    "port_rets = weighted_rets.sum(axis=1)#axis =1 tels pandas to add the rows \n",
    "print(port_rets)\n",
    "\n",
    "mean_ret = port_rets.mean()\n",
    "std_ret = port_rets.std()\n",
    "sharpe = mean_ret/std_ret\n",
    "print(\"\\n\\n\", sharpe, \"  \", mean_ret, \"  \", std_ret)\n"
   ]
  },
  {
   "cell_type": "markdown",
   "id": "intensive-behavior",
   "metadata": {},
   "source": [
    " "
   ]
  },
  {
   "cell_type": "markdown",
   "id": "passive-herald",
   "metadata": {},
   "source": [
    "Next steps:\n",
    "- Explore some of the modifications listed above\n",
    "    - Adding a (Conditional) Value at Risk measure\n",
    "    - Exploring Nested Clustered Optimization\n",
    "    - Look into the Black-Litterman Model"
   ]
  },
  {
   "cell_type": "markdown",
   "id": "passing-taxation",
   "metadata": {},
   "source": [
    " "
   ]
  },
  {
   "cell_type": "markdown",
   "id": "present-coverage",
   "metadata": {},
   "source": [
    " "
   ]
  },
  {
   "cell_type": "markdown",
   "id": "pleasant-glance",
   "metadata": {},
   "source": [
    "## Second Technique- Using \"pypfopt.efficient_frontier\" built-in function\n",
    "This second technique uses a built in function to maximize the sharpe ratio. [This is a link to a very helpful resource](https://towardsdatascience.com/automating-portfolio-optimization-using-python-9f344b9380b9#)"
   ]
  },
  {
   "cell_type": "markdown",
   "id": "handled-terrorism",
   "metadata": {},
   "source": [
    "#In order to install the necessary packages, you first need to run:\n",
    "```python\n",
    "#!pip install PyPortfolioOpt\n",
    "```\n",
    "If you receive an error, you need to install C++. This can be done in terminal for Mac users by running:\n",
    "```\n",
    "xcode-select --install\n",
    "```"
   ]
  },
  {
   "cell_type": "code",
   "execution_count": 14,
   "id": "fossil-allowance",
   "metadata": {},
   "outputs": [],
   "source": [
    "#only need to run this if you are using this code for the first time and \"PyPortfolioOpt\" has never been installed before on your machine\n",
    "#!pip install PyPortfolioOpt #need to install C++ first by doing (xcode-select --install) in terminal "
   ]
  },
  {
   "cell_type": "code",
   "execution_count": 15,
   "id": "rotary-devil",
   "metadata": {},
   "outputs": [],
   "source": [
    "from pypfopt.efficient_frontier import EfficientFrontier\n",
    "from pypfopt import risk_models\n",
    "from pypfopt import expected_returns\n",
    "from pypfopt.cla import CLA\n",
    "from pypfopt import plotting\n",
    "from matplotlib.ticker import FuncFormatter\n",
    "import matplotlib.pyplot as plt\n",
    "import numpy as np\n",
    "import pandas as pd\n",
    "import pandas_datareader as web\n",
    "from matplotlib.ticker import FuncFormatter"
   ]
  },
  {
   "cell_type": "code",
   "execution_count": null,
   "id": "editorial-caution",
   "metadata": {},
   "outputs": [],
   "source": []
  },
  {
   "cell_type": "code",
   "execution_count": null,
   "id": "political-shaft",
   "metadata": {},
   "outputs": [],
   "source": []
  },
  {
   "cell_type": "markdown",
   "id": "colonial-calibration",
   "metadata": {},
   "source": [
    "### First, use the Neural Network returns"
   ]
  },
  {
   "cell_type": "code",
   "execution_count": 16,
   "id": "atmospheric-assets",
   "metadata": {},
   "outputs": [
    {
     "data": {
      "text/html": [
       "<div>\n",
       "<style scoped>\n",
       "    .dataframe tbody tr th:only-of-type {\n",
       "        vertical-align: middle;\n",
       "    }\n",
       "\n",
       "    .dataframe tbody tr th {\n",
       "        vertical-align: top;\n",
       "    }\n",
       "\n",
       "    .dataframe thead th {\n",
       "        text-align: right;\n",
       "    }\n",
       "</style>\n",
       "<table border=\"1\" class=\"dataframe\">\n",
       "  <thead>\n",
       "    <tr style=\"text-align: right;\">\n",
       "      <th></th>\n",
       "      <th>AAPL_NN</th>\n",
       "      <th>COKE_NN</th>\n",
       "      <th>GOOGL_NN</th>\n",
       "    </tr>\n",
       "    <tr>\n",
       "      <th>Date</th>\n",
       "      <th></th>\n",
       "      <th></th>\n",
       "      <th></th>\n",
       "    </tr>\n",
       "  </thead>\n",
       "  <tbody>\n",
       "    <tr>\n",
       "      <th>2019-01</th>\n",
       "      <td>0.060652</td>\n",
       "      <td>-0.000458</td>\n",
       "      <td>0.021834</td>\n",
       "    </tr>\n",
       "    <tr>\n",
       "      <th>2019-02</th>\n",
       "      <td>-0.005493</td>\n",
       "      <td>-0.002889</td>\n",
       "      <td>-0.036394</td>\n",
       "    </tr>\n",
       "    <tr>\n",
       "      <th>2019-03</th>\n",
       "      <td>0.082441</td>\n",
       "      <td>-0.055919</td>\n",
       "      <td>0.041015</td>\n",
       "    </tr>\n",
       "    <tr>\n",
       "      <th>2019-04</th>\n",
       "      <td>-0.007477</td>\n",
       "      <td>-0.093085</td>\n",
       "      <td>-0.038141</td>\n",
       "    </tr>\n",
       "    <tr>\n",
       "      <th>2019-05</th>\n",
       "      <td>0.044749</td>\n",
       "      <td>-0.172228</td>\n",
       "      <td>0.007834</td>\n",
       "    </tr>\n",
       "    <tr>\n",
       "      <th>2019-06</th>\n",
       "      <td>0.149206</td>\n",
       "      <td>0.059261</td>\n",
       "      <td>0.099788</td>\n",
       "    </tr>\n",
       "    <tr>\n",
       "      <th>2019-07</th>\n",
       "      <td>0.107595</td>\n",
       "      <td>0.007572</td>\n",
       "      <td>0.063157</td>\n",
       "    </tr>\n",
       "    <tr>\n",
       "      <th>2019-08</th>\n",
       "      <td>0.031272</td>\n",
       "      <td>-0.007347</td>\n",
       "      <td>0.063157</td>\n",
       "    </tr>\n",
       "    <tr>\n",
       "      <th>2019-09</th>\n",
       "      <td>0.113121</td>\n",
       "      <td>0.001431</td>\n",
       "      <td>0.063157</td>\n",
       "    </tr>\n",
       "    <tr>\n",
       "      <th>2019-10</th>\n",
       "      <td>0.124122</td>\n",
       "      <td>0.018626</td>\n",
       "      <td>0.063157</td>\n",
       "    </tr>\n",
       "  </tbody>\n",
       "</table>\n",
       "</div>"
      ],
      "text/plain": [
       "          AAPL_NN   COKE_NN  GOOGL_NN\n",
       "Date                                 \n",
       "2019-01  0.060652 -0.000458  0.021834\n",
       "2019-02 -0.005493 -0.002889 -0.036394\n",
       "2019-03  0.082441 -0.055919  0.041015\n",
       "2019-04 -0.007477 -0.093085 -0.038141\n",
       "2019-05  0.044749 -0.172228  0.007834\n",
       "2019-06  0.149206  0.059261  0.099788\n",
       "2019-07  0.107595  0.007572  0.063157\n",
       "2019-08  0.031272 -0.007347  0.063157\n",
       "2019-09  0.113121  0.001431  0.063157\n",
       "2019-10  0.124122  0.018626  0.063157"
      ]
     },
     "execution_count": 16,
     "metadata": {},
     "output_type": "execute_result"
    }
   ],
   "source": [
    "ret_NN = pd.read_csv('returns/exp_returns_NN.csv').set_index('Date')\n",
    "stocks_NN = ret_NN.columns.to_list()\n",
    "ret_NN"
   ]
  },
  {
   "cell_type": "code",
   "execution_count": 17,
   "id": "complex-surveillance",
   "metadata": {},
   "outputs": [],
   "source": [
    "#Annualized Return\n",
    "#exp_rets = expected_returns.mean_historical_return(ret)\n",
    "#Sample Variance of Portfolio\n",
    "#cov_matrix = risk_models.sample_cov(ret)\n",
    "\n",
    "#print(type(exp_rets))\n",
    "#print(type(cov_matrix))\n",
    "\n",
    "exp_returns_NN = ret_NN.mean()\n",
    "#exp_returns_NN = (ret_NN+1).prod()-1   # get annualized mean by adding one to each return, multiplying, then subtracting one for each stock\n",
    "\n",
    "#Covariance Matrix\n",
    "cov_matr_NN = np.cov(np.array(ret_NN.iloc[:,range(0,len(stocks_NN))].T))   # get the columns and transpose it so it is in right format, then turn it into covariance matrix\n",
    "cov_matr_NN = pd.DataFrame(cov_matr_NN,columns=stocks_NN)   # convert to a dataframe\n"
   ]
  },
  {
   "cell_type": "code",
   "execution_count": 18,
   "id": "color-saying",
   "metadata": {},
   "outputs": [
    {
     "data": {
      "text/plain": [
       "OrderedDict([('AAPL_NN', 0.45), ('COKE_NN', 0.1), ('GOOGL_NN', 0.45)])"
      ]
     },
     "execution_count": 18,
     "metadata": {},
     "output_type": "execute_result"
    }
   ],
   "source": [
    "ef_NN = EfficientFrontier(exp_returns_NN, cov_matr_NN, weight_bounds=(0,0.45)) #weight bounds in negative allows shorting of stocks\n",
    "sharpe_port_NN=ef_NN.max_sharpe() #May use add objective to ensure minimum zero weighting to individual stocks\n",
    "#sharpe_port\n",
    "sharpe_weights_NN=ef_NN.clean_weights()\n",
    "sharpe_weights_NN\n"
   ]
  },
  {
   "cell_type": "code",
   "execution_count": 19,
   "id": "exempt-telling",
   "metadata": {},
   "outputs": [
    {
     "data": {
      "text/plain": [
       "Date\n",
       "2019-01    0.037073\n",
       "2019-02   -0.019138\n",
       "2019-03    0.049963\n",
       "2019-04   -0.029837\n",
       "2019-05    0.006440\n",
       "2019-06    0.117973\n",
       "2019-07    0.077596\n",
       "2019-08    0.041758\n",
       "2019-09    0.079468\n",
       "2019-10    0.086138\n",
       "dtype: float64"
      ]
     },
     "execution_count": 19,
     "metadata": {},
     "output_type": "execute_result"
    }
   ],
   "source": [
    "weighted_returns_NN = sharpe_weights_NN * ret_NN\n",
    "#weighted_returns\n",
    "port_ret_NN = weighted_returns_NN.sum(axis=1)#axis =1 tels pandas to add the rows \n",
    "port_ret_NN"
   ]
  },
  {
   "cell_type": "code",
   "execution_count": 20,
   "id": "protecting-scratch",
   "metadata": {},
   "outputs": [
    {
     "name": "stdout",
     "output_type": "stream",
     "text": [
      "The optimal weights are: OrderedDict([('AAPL_NN', 0.45), ('COKE_NN', 0.1), ('GOOGL_NN', 0.45)])\n",
      "The optimal mean return is: 0.04474348\n",
      "\n",
      "The optimal standard deviation of the returns is: 0.04780333837257487\n",
      "\n",
      "The maximum sharpe ratio is: 0.935990696952447\n"
     ]
    }
   ],
   "source": [
    "mean_ret_NN = port_ret_NN.mean()\n",
    "std_ret_NN = port_ret_NN.std()\n",
    "sharpe_NN = mean_ret_NN/std_ret_NN\n",
    "print(\"The optimal weights are:\", sharpe_weights_NN)\n",
    "print(\"The optimal mean return is:\", mean_ret_NN)\n",
    "print(\"\\nThe optimal standard deviation of the returns is:\", std_ret_NN)\n",
    "print(\"\\nThe maximum sharpe ratio is:\", sharpe_NN)\n"
   ]
  },
  {
   "cell_type": "markdown",
   "id": "alternative-zimbabwe",
   "metadata": {},
   "source": [
    " "
   ]
  },
  {
   "cell_type": "markdown",
   "id": "organized-court",
   "metadata": {},
   "source": [
    " "
   ]
  },
  {
   "cell_type": "markdown",
   "id": "vital-passing",
   "metadata": {},
   "source": [
    "### Second, use the Functional Form returns"
   ]
  },
  {
   "cell_type": "code",
   "execution_count": 21,
   "id": "refined-stock",
   "metadata": {},
   "outputs": [
    {
     "data": {
      "text/html": [
       "<div>\n",
       "<style scoped>\n",
       "    .dataframe tbody tr th:only-of-type {\n",
       "        vertical-align: middle;\n",
       "    }\n",
       "\n",
       "    .dataframe tbody tr th {\n",
       "        vertical-align: top;\n",
       "    }\n",
       "\n",
       "    .dataframe thead th {\n",
       "        text-align: right;\n",
       "    }\n",
       "</style>\n",
       "<table border=\"1\" class=\"dataframe\">\n",
       "  <thead>\n",
       "    <tr style=\"text-align: right;\">\n",
       "      <th></th>\n",
       "      <th>AAPL_FF</th>\n",
       "      <th>COKE_FF</th>\n",
       "      <th>GOOGL_FF</th>\n",
       "    </tr>\n",
       "    <tr>\n",
       "      <th>Date</th>\n",
       "      <th></th>\n",
       "      <th></th>\n",
       "      <th></th>\n",
       "    </tr>\n",
       "  </thead>\n",
       "  <tbody>\n",
       "    <tr>\n",
       "      <th>2019-01</th>\n",
       "      <td>0.118725</td>\n",
       "      <td>0.062926</td>\n",
       "      <td>0.108028</td>\n",
       "    </tr>\n",
       "    <tr>\n",
       "      <th>2019-02</th>\n",
       "      <td>0.058304</td>\n",
       "      <td>0.006292</td>\n",
       "      <td>0.065197</td>\n",
       "    </tr>\n",
       "    <tr>\n",
       "      <th>2019-03</th>\n",
       "      <td>0.073873</td>\n",
       "      <td>-0.021219</td>\n",
       "      <td>0.072216</td>\n",
       "    </tr>\n",
       "    <tr>\n",
       "      <th>2019-04</th>\n",
       "      <td>0.061748</td>\n",
       "      <td>-0.086411</td>\n",
       "      <td>0.125285</td>\n",
       "    </tr>\n",
       "    <tr>\n",
       "      <th>2019-05</th>\n",
       "      <td>-0.196038</td>\n",
       "      <td>0.021094</td>\n",
       "      <td>-0.018166</td>\n",
       "    </tr>\n",
       "    <tr>\n",
       "      <th>2019-06</th>\n",
       "      <td>0.090399</td>\n",
       "      <td>0.007694</td>\n",
       "      <td>0.024276</td>\n",
       "    </tr>\n",
       "    <tr>\n",
       "      <th>2019-07</th>\n",
       "      <td>0.025279</td>\n",
       "      <td>0.010908</td>\n",
       "      <td>0.005439</td>\n",
       "    </tr>\n",
       "    <tr>\n",
       "      <th>2019-08</th>\n",
       "      <td>-0.037081</td>\n",
       "      <td>0.096283</td>\n",
       "      <td>0.004448</td>\n",
       "    </tr>\n",
       "    <tr>\n",
       "      <th>2019-09</th>\n",
       "      <td>0.047141</td>\n",
       "      <td>-0.054500</td>\n",
       "      <td>0.019642</td>\n",
       "    </tr>\n",
       "    <tr>\n",
       "      <th>2019-10</th>\n",
       "      <td>0.014991</td>\n",
       "      <td>0.037657</td>\n",
       "      <td>0.030869</td>\n",
       "    </tr>\n",
       "  </tbody>\n",
       "</table>\n",
       "</div>"
      ],
      "text/plain": [
       "          AAPL_FF   COKE_FF  GOOGL_FF\n",
       "Date                                 \n",
       "2019-01  0.118725  0.062926  0.108028\n",
       "2019-02  0.058304  0.006292  0.065197\n",
       "2019-03  0.073873 -0.021219  0.072216\n",
       "2019-04  0.061748 -0.086411  0.125285\n",
       "2019-05 -0.196038  0.021094 -0.018166\n",
       "2019-06  0.090399  0.007694  0.024276\n",
       "2019-07  0.025279  0.010908  0.005439\n",
       "2019-08 -0.037081  0.096283  0.004448\n",
       "2019-09  0.047141 -0.054500  0.019642\n",
       "2019-10  0.014991  0.037657  0.030869"
      ]
     },
     "execution_count": 21,
     "metadata": {},
     "output_type": "execute_result"
    }
   ],
   "source": [
    "ret_FF = pd.read_csv('returns/exp_returns_FF.csv').set_index('Date')\n",
    "stocks_FF = ret_FF.columns.to_list()\n",
    "ret_FF"
   ]
  },
  {
   "cell_type": "code",
   "execution_count": 22,
   "id": "southern-scholarship",
   "metadata": {},
   "outputs": [],
   "source": [
    "#Annualized Return\n",
    "exp_returns_FF = ret_FF.mean()\n",
    "#exp_returns_FF = (ret_FF+1).prod()-1   # get annualized mean by adding one to each return, multiplying, then subtracting one for each stock\n",
    "\n",
    "#Covariance Matrix\n",
    "cov_matr_FF = np.cov(np.array(ret_FF.iloc[:,range(0,len(stocks_FF))].T))   # get the columns and transpose it so it is in right format, then turn it into covariance matrix\n",
    "cov_matr_FF = pd.DataFrame(cov_matr_FF,columns=stocks_FF)   # convert to a dataframe\n"
   ]
  },
  {
   "cell_type": "code",
   "execution_count": 23,
   "id": "impressed-brain",
   "metadata": {},
   "outputs": [
    {
     "data": {
      "text/plain": [
       "OrderedDict([('AAPL_FF', 0.27599), ('COKE_FF', 0.27401), ('GOOGL_FF', 0.45)])"
      ]
     },
     "execution_count": 23,
     "metadata": {},
     "output_type": "execute_result"
    }
   ],
   "source": [
    "ef_FF = EfficientFrontier(exp_returns_FF, cov_matr_FF, weight_bounds=(0,0.45)) #weight bounds in negative allows shorting of stocks\n",
    "sharpe_port_FF=ef_FF.max_sharpe() #May use add objective to ensure minimum zero weighting to individual stocks\n",
    "#sharpe_port\n",
    "sharpe_weights_FF=ef_FF.clean_weights()\n",
    "sharpe_weights_FF\n"
   ]
  },
  {
   "cell_type": "code",
   "execution_count": 24,
   "id": "coral-pittsburgh",
   "metadata": {},
   "outputs": [
    {
     "data": {
      "text/plain": [
       "Date\n",
       "2019-01    0.098622\n",
       "2019-02    0.047154\n",
       "2019-03    0.047071\n",
       "2019-04    0.049743\n",
       "2019-05   -0.056499\n",
       "2019-06    0.037982\n",
       "2019-07    0.012413\n",
       "2019-08    0.018150\n",
       "2019-09    0.006916\n",
       "2019-10    0.028347\n",
       "dtype: float64"
      ]
     },
     "execution_count": 24,
     "metadata": {},
     "output_type": "execute_result"
    }
   ],
   "source": [
    "weighted_returns_FF = sharpe_weights_FF * ret_FF\n",
    "#weighted_returns\n",
    "port_ret_FF = weighted_returns_FF.sum(axis=1)#axis =1 tels pandas to add the rows \n",
    "port_ret_FF"
   ]
  },
  {
   "cell_type": "code",
   "execution_count": 25,
   "id": "labeled-microwave",
   "metadata": {},
   "outputs": [
    {
     "name": "stdout",
     "output_type": "stream",
     "text": [
      "The optimal weights are: OrderedDict([('AAPL_FF', 0.27599), ('COKE_FF', 0.27401), ('GOOGL_FF', 0.45)])\n",
      "\n",
      "The optimal mean return is: 0.028989802583\n",
      "\n",
      "The optimal standard deviation of the returns is: 0.03972876080780467\n",
      "\n",
      "The maximum sharpe ratio is: 0.7296930987413276\n"
     ]
    }
   ],
   "source": [
    "mean_ret_FF = port_ret_FF.mean()\n",
    "std_ret_FF = port_ret_FF.std()\n",
    "sharpe_FF = mean_ret_FF/std_ret_FF\n",
    "print(\"The optimal weights are:\", sharpe_weights_FF)\n",
    "print(\"\\nThe optimal mean return is:\", mean_ret_FF)\n",
    "print(\"\\nThe optimal standard deviation of the returns is:\", std_ret_FF)\n",
    "print(\"\\nThe maximum sharpe ratio is:\", sharpe_FF)\n"
   ]
  },
  {
   "cell_type": "markdown",
   "id": "accurate-democrat",
   "metadata": {},
   "source": [
    " "
   ]
  },
  {
   "cell_type": "markdown",
   "id": "colored-patrick",
   "metadata": {},
   "source": [
    " "
   ]
  },
  {
   "cell_type": "markdown",
   "id": "smaller-cinema",
   "metadata": {},
   "source": [
    "### Third, use the \".predict()\" returns"
   ]
  },
  {
   "cell_type": "code",
   "execution_count": 26,
   "id": "absent-causing",
   "metadata": {},
   "outputs": [
    {
     "data": {
      "text/html": [
       "<div>\n",
       "<style scoped>\n",
       "    .dataframe tbody tr th:only-of-type {\n",
       "        vertical-align: middle;\n",
       "    }\n",
       "\n",
       "    .dataframe tbody tr th {\n",
       "        vertical-align: top;\n",
       "    }\n",
       "\n",
       "    .dataframe thead th {\n",
       "        text-align: right;\n",
       "    }\n",
       "</style>\n",
       "<table border=\"1\" class=\"dataframe\">\n",
       "  <thead>\n",
       "    <tr style=\"text-align: right;\">\n",
       "      <th></th>\n",
       "      <th>AAPL_pred</th>\n",
       "      <th>COKE_pred</th>\n",
       "      <th>GOOGL_pred</th>\n",
       "    </tr>\n",
       "    <tr>\n",
       "      <th>Date</th>\n",
       "      <th></th>\n",
       "      <th></th>\n",
       "      <th></th>\n",
       "    </tr>\n",
       "  </thead>\n",
       "  <tbody>\n",
       "    <tr>\n",
       "      <th>2019-01</th>\n",
       "      <td>0.150977</td>\n",
       "      <td>0.047987</td>\n",
       "      <td>0.078169</td>\n",
       "    </tr>\n",
       "    <tr>\n",
       "      <th>2019-02</th>\n",
       "      <td>0.100294</td>\n",
       "      <td>0.024013</td>\n",
       "      <td>0.034194</td>\n",
       "    </tr>\n",
       "    <tr>\n",
       "      <th>2019-03</th>\n",
       "      <td>0.060720</td>\n",
       "      <td>0.014569</td>\n",
       "      <td>0.033077</td>\n",
       "    </tr>\n",
       "    <tr>\n",
       "      <th>2019-04</th>\n",
       "      <td>0.086689</td>\n",
       "      <td>0.017221</td>\n",
       "      <td>0.076161</td>\n",
       "    </tr>\n",
       "    <tr>\n",
       "      <th>2019-05</th>\n",
       "      <td>-0.093663</td>\n",
       "      <td>-0.031400</td>\n",
       "      <td>-0.087428</td>\n",
       "    </tr>\n",
       "    <tr>\n",
       "      <th>2019-06</th>\n",
       "      <td>0.120442</td>\n",
       "      <td>0.047969</td>\n",
       "      <td>0.068092</td>\n",
       "    </tr>\n",
       "    <tr>\n",
       "      <th>2019-07</th>\n",
       "      <td>0.016515</td>\n",
       "      <td>0.008042</td>\n",
       "      <td>0.017801</td>\n",
       "    </tr>\n",
       "    <tr>\n",
       "      <th>2019-08</th>\n",
       "      <td>0.013999</td>\n",
       "      <td>-0.008271</td>\n",
       "      <td>-0.006426</td>\n",
       "    </tr>\n",
       "    <tr>\n",
       "      <th>2019-09</th>\n",
       "      <td>-0.048274</td>\n",
       "      <td>0.015696</td>\n",
       "      <td>-0.014836</td>\n",
       "    </tr>\n",
       "    <tr>\n",
       "      <th>2019-10</th>\n",
       "      <td>0.067806</td>\n",
       "      <td>0.015314</td>\n",
       "      <td>0.026203</td>\n",
       "    </tr>\n",
       "  </tbody>\n",
       "</table>\n",
       "</div>"
      ],
      "text/plain": [
       "         AAPL_pred  COKE_pred  GOOGL_pred\n",
       "Date                                     \n",
       "2019-01   0.150977   0.047987    0.078169\n",
       "2019-02   0.100294   0.024013    0.034194\n",
       "2019-03   0.060720   0.014569    0.033077\n",
       "2019-04   0.086689   0.017221    0.076161\n",
       "2019-05  -0.093663  -0.031400   -0.087428\n",
       "2019-06   0.120442   0.047969    0.068092\n",
       "2019-07   0.016515   0.008042    0.017801\n",
       "2019-08   0.013999  -0.008271   -0.006426\n",
       "2019-09  -0.048274   0.015696   -0.014836\n",
       "2019-10   0.067806   0.015314    0.026203"
      ]
     },
     "execution_count": 26,
     "metadata": {},
     "output_type": "execute_result"
    }
   ],
   "source": [
    "ret_PRED = pd.read_csv('returns/exp_returns_PRED.csv').set_index('Date')\n",
    "stocks_PRED = ret_PRED.columns.to_list()\n",
    "ret_PRED"
   ]
  },
  {
   "cell_type": "code",
   "execution_count": 27,
   "id": "earned-kelly",
   "metadata": {},
   "outputs": [],
   "source": [
    "#Annualized Return\n",
    "exp_returns_PRED = ret_PRED.mean()\n",
    "#exp_returns_PRED = (ret_PRED+1).prod()-1   # get annualized mean by adding one to each return, multiplying, then subtracting one for each stock\n",
    "\n",
    "#Covariance Matrix\n",
    "cov_matr_PRED = np.cov(np.array(ret_PRED.iloc[:,range(0,len(stocks_PRED))].T))   # get the columns and transpose it so it is in right format, then turn it into covariance matrix\n",
    "cov_matr_PRED = pd.DataFrame(cov_matr_PRED,columns=stocks_PRED)   # convert to a dataframe\n"
   ]
  },
  {
   "cell_type": "code",
   "execution_count": 28,
   "id": "boring-respect",
   "metadata": {},
   "outputs": [
    {
     "data": {
      "text/plain": [
       "OrderedDict([('AAPL_pred', 0.45), ('COKE_pred', 0.1), ('GOOGL_pred', 0.45)])"
      ]
     },
     "execution_count": 28,
     "metadata": {},
     "output_type": "execute_result"
    }
   ],
   "source": [
    "ef_PRED = EfficientFrontier(exp_returns_PRED, cov_matr_PRED, weight_bounds=(0,0.45)) #weight bounds in negative allows shorting of stocks\n",
    "sharpe_port_PRED=ef_PRED.max_sharpe() #May use add objective to ensure minimum zero weighting to individual stocks\n",
    "#sharpe_port\n",
    "sharpe_weights_PRED=ef_PRED.clean_weights()\n",
    "sharpe_weights_PRED\n"
   ]
  },
  {
   "cell_type": "code",
   "execution_count": 29,
   "id": "adapted-prisoner",
   "metadata": {},
   "outputs": [
    {
     "data": {
      "text/plain": [
       "Date\n",
       "2019-01    0.107914\n",
       "2019-02    0.062921\n",
       "2019-03    0.043666\n",
       "2019-04    0.075005\n",
       "2019-05   -0.084631\n",
       "2019-06    0.089637\n",
       "2019-07    0.016246\n",
       "2019-08    0.002581\n",
       "2019-09   -0.026830\n",
       "2019-10    0.043835\n",
       "dtype: float64"
      ]
     },
     "execution_count": 29,
     "metadata": {},
     "output_type": "execute_result"
    }
   ],
   "source": [
    "weighted_returns_PRED = sharpe_weights_PRED * ret_PRED\n",
    "#weighted_returns\n",
    "port_ret_PRED = weighted_returns_PRED.sum(axis=1)#axis =1 tels pandas to add the rows \n",
    "port_ret_PRED"
   ]
  },
  {
   "cell_type": "code",
   "execution_count": 30,
   "id": "hairy-fiction",
   "metadata": {},
   "outputs": [
    {
     "name": "stdout",
     "output_type": "stream",
     "text": [
      "The optimal weights are: OrderedDict([('AAPL_pred', 0.45), ('COKE_pred', 0.1), ('GOOGL_pred', 0.45)])\n",
      "\n",
      "The optimal mean return is: 0.033034440000000005\n",
      "\n",
      "The optimal standard deviation of the returns is: 0.05805496123595487\n",
      "\n",
      "The maximum sharpe ratio is: 0.5690201026185676\n"
     ]
    }
   ],
   "source": [
    "mean_ret_PRED = port_ret_PRED.mean()\n",
    "std_ret_PRED = port_ret_PRED.std()\n",
    "sharpe_PRED = mean_ret_PRED/std_ret_PRED\n",
    "print(\"The optimal weights are:\", sharpe_weights_PRED)\n",
    "print(\"\\nThe optimal mean return is:\", mean_ret_PRED)\n",
    "print(\"\\nThe optimal standard deviation of the returns is:\", std_ret_PRED)\n",
    "print(\"\\nThe maximum sharpe ratio is:\", sharpe_PRED)\n"
   ]
  },
  {
   "cell_type": "markdown",
   "id": "emerging-amber",
   "metadata": {},
   "source": [
    " "
   ]
  },
  {
   "cell_type": "markdown",
   "id": "protected-mining",
   "metadata": {},
   "source": [
    " "
   ]
  },
  {
   "cell_type": "markdown",
   "id": "given-acrobat",
   "metadata": {},
   "source": [
    "### Now use the actual returns and compare the results"
   ]
  },
  {
   "cell_type": "code",
   "execution_count": 31,
   "id": "sought-welsh",
   "metadata": {},
   "outputs": [
    {
     "data": {
      "text/html": [
       "<div>\n",
       "<style scoped>\n",
       "    .dataframe tbody tr th:only-of-type {\n",
       "        vertical-align: middle;\n",
       "    }\n",
       "\n",
       "    .dataframe tbody tr th {\n",
       "        vertical-align: top;\n",
       "    }\n",
       "\n",
       "    .dataframe thead th {\n",
       "        text-align: right;\n",
       "    }\n",
       "</style>\n",
       "<table border=\"1\" class=\"dataframe\">\n",
       "  <thead>\n",
       "    <tr style=\"text-align: right;\">\n",
       "      <th></th>\n",
       "      <th>AAPL_Act</th>\n",
       "      <th>COKE_Act</th>\n",
       "      <th>GOOGL_Act</th>\n",
       "    </tr>\n",
       "    <tr>\n",
       "      <th>Date</th>\n",
       "      <th></th>\n",
       "      <th></th>\n",
       "      <th></th>\n",
       "    </tr>\n",
       "  </thead>\n",
       "  <tbody>\n",
       "    <tr>\n",
       "      <th>2019-01</th>\n",
       "      <td>0.041913</td>\n",
       "      <td>0.210321</td>\n",
       "      <td>0.071222</td>\n",
       "    </tr>\n",
       "    <tr>\n",
       "      <th>2019-02</th>\n",
       "      <td>0.041859</td>\n",
       "      <td>0.138079</td>\n",
       "      <td>-0.002543</td>\n",
       "    </tr>\n",
       "    <tr>\n",
       "      <th>2019-03</th>\n",
       "      <td>0.092820</td>\n",
       "      <td>0.155301</td>\n",
       "      <td>0.041223</td>\n",
       "    </tr>\n",
       "    <tr>\n",
       "      <th>2019-04</th>\n",
       "      <td>0.053388</td>\n",
       "      <td>0.124132</td>\n",
       "      <td>0.012695</td>\n",
       "    </tr>\n",
       "    <tr>\n",
       "      <th>2019-05</th>\n",
       "      <td>-0.130714</td>\n",
       "      <td>-0.089290</td>\n",
       "      <td>-0.081378</td>\n",
       "    </tr>\n",
       "    <tr>\n",
       "      <th>2019-06</th>\n",
       "      <td>0.126298</td>\n",
       "      <td>-0.014086</td>\n",
       "      <td>-0.026337</td>\n",
       "    </tr>\n",
       "    <tr>\n",
       "      <th>2019-07</th>\n",
       "      <td>0.072938</td>\n",
       "      <td>-0.022080</td>\n",
       "      <td>0.117691</td>\n",
       "    </tr>\n",
       "    <tr>\n",
       "      <th>2019-08</th>\n",
       "      <td>-0.023698</td>\n",
       "      <td>0.131225</td>\n",
       "      <td>-0.027211</td>\n",
       "    </tr>\n",
       "    <tr>\n",
       "      <th>2019-09</th>\n",
       "      <td>0.069203</td>\n",
       "      <td>-0.103835</td>\n",
       "      <td>0.022682</td>\n",
       "    </tr>\n",
       "    <tr>\n",
       "      <th>2019-10</th>\n",
       "      <td>0.106606</td>\n",
       "      <td>-0.101545</td>\n",
       "      <td>0.027632</td>\n",
       "    </tr>\n",
       "  </tbody>\n",
       "</table>\n",
       "</div>"
      ],
      "text/plain": [
       "         AAPL_Act  COKE_Act  GOOGL_Act\n",
       "Date                                  \n",
       "2019-01  0.041913  0.210321   0.071222\n",
       "2019-02  0.041859  0.138079  -0.002543\n",
       "2019-03  0.092820  0.155301   0.041223\n",
       "2019-04  0.053388  0.124132   0.012695\n",
       "2019-05 -0.130714 -0.089290  -0.081378\n",
       "2019-06  0.126298 -0.014086  -0.026337\n",
       "2019-07  0.072938 -0.022080   0.117691\n",
       "2019-08 -0.023698  0.131225  -0.027211\n",
       "2019-09  0.069203 -0.103835   0.022682\n",
       "2019-10  0.106606 -0.101545   0.027632"
      ]
     },
     "execution_count": 31,
     "metadata": {},
     "output_type": "execute_result"
    }
   ],
   "source": [
    "ret_ACT = pd.read_csv('returns/exp_returns_ACT.csv').set_index('Date')\n",
    "stocks_ACT = ret_ACT.columns.to_list()\n",
    "ret_ACT"
   ]
  },
  {
   "cell_type": "code",
   "execution_count": 32,
   "id": "collected-marks",
   "metadata": {},
   "outputs": [],
   "source": [
    "#Annualized Return\n",
    "exp_returns_ACT = ret_ACT.mean()\n",
    "#exp_returns_ACT = (ret_ACT+1).prod()-1   # get annualized mean by adding one to each return, multiplying, then subtracting one for each stock\n",
    "\n",
    "#Covariance Matrix\n",
    "cov_matr_ACT = np.cov(np.array(ret_ACT.iloc[:,range(0,len(stocks_ACT))].T))   # get the columns and transpose it so it is in right format, then turn it into covariance matrix\n",
    "cov_matr_ACT = pd.DataFrame(cov_matr_ACT,columns=stocks_ACT)   # convert to a dataframe\n"
   ]
  },
  {
   "cell_type": "code",
   "execution_count": 33,
   "id": "british-navigation",
   "metadata": {},
   "outputs": [
    {
     "data": {
      "text/plain": [
       "OrderedDict([('AAPL_Act', 0.45), ('COKE_Act', 0.45), ('GOOGL_Act', 0.1)])"
      ]
     },
     "execution_count": 33,
     "metadata": {},
     "output_type": "execute_result"
    }
   ],
   "source": [
    "ef_ACT = EfficientFrontier(exp_returns_ACT, cov_matr_ACT, weight_bounds=(0,0.45)) #weight bounds in negative allows shorting of stocks\n",
    "sharpe_port_ACT=ef_ACT.max_sharpe() #May use add objective to ensure minimum zero weighting to individual stocks\n",
    "#sharpe_port\n",
    "sharpe_weights_ACT=ef_ACT.clean_weights()\n",
    "sharpe_weights_ACT\n"
   ]
  },
  {
   "cell_type": "code",
   "execution_count": 34,
   "id": "critical-creativity",
   "metadata": {},
   "outputs": [
    {
     "data": {
      "text/plain": [
       "Date\n",
       "2019-01    0.120627\n",
       "2019-02    0.080718\n",
       "2019-03    0.115777\n",
       "2019-04    0.081154\n",
       "2019-05   -0.107140\n",
       "2019-06    0.047862\n",
       "2019-07    0.034655\n",
       "2019-08    0.045666\n",
       "2019-09   -0.013316\n",
       "2019-10    0.005041\n",
       "dtype: float64"
      ]
     },
     "execution_count": 34,
     "metadata": {},
     "output_type": "execute_result"
    }
   ],
   "source": [
    "weighted_returns_ACT = sharpe_weights_ACT * ret_ACT\n",
    "#weighted_returns\n",
    "port_ret_ACT = weighted_returns_ACT.sum(axis=1)#axis =1 tels pandas to add the rows \n",
    "port_ret_ACT"
   ]
  },
  {
   "cell_type": "code",
   "execution_count": 35,
   "id": "attached-defense",
   "metadata": {},
   "outputs": [
    {
     "name": "stdout",
     "output_type": "stream",
     "text": [
      "The optimal weights are: OrderedDict([('AAPL_Act', 0.45), ('COKE_Act', 0.45), ('GOOGL_Act', 0.1)])\n",
      "\n",
      "The optimal mean return is: 0.041104335000000006\n",
      "\n",
      "The optimal standard deviation of the returns is: 0.06783933339355343\n",
      "\n",
      "The maximum sharpe ratio is: 0.6059071182427926\n"
     ]
    }
   ],
   "source": [
    "mean_ret_ACT = port_ret_ACT.mean()\n",
    "std_ret_ACT = port_ret_ACT.std()\n",
    "sharpe_ACT = mean_ret_ACT/std_ret_ACT\n",
    "print(\"The optimal weights are:\", sharpe_weights_ACT)\n",
    "print(\"\\nThe optimal mean return is:\", mean_ret_ACT)\n",
    "print(\"\\nThe optimal standard deviation of the returns is:\", std_ret_ACT)\n",
    "print(\"\\nThe maximum sharpe ratio is:\", sharpe_ACT)\n"
   ]
  },
  {
   "cell_type": "markdown",
   "id": "suspended-doctor",
   "metadata": {},
   "source": [
    " "
   ]
  },
  {
   "cell_type": "markdown",
   "id": "graduate-resident",
   "metadata": {},
   "source": [
    " "
   ]
  },
  {
   "cell_type": "markdown",
   "id": "raising-enlargement",
   "metadata": {},
   "source": [
    " "
   ]
  },
  {
   "cell_type": "markdown",
   "id": "bridal-indonesia",
   "metadata": {},
   "source": [
    "### Graph the portfolio returns"
   ]
  },
  {
   "cell_type": "code",
   "execution_count": 36,
   "id": "ruled-philippines",
   "metadata": {},
   "outputs": [],
   "source": [
    "import seaborn as sns\n"
   ]
  },
  {
   "cell_type": "code",
   "execution_count": 37,
   "id": "diagnostic-actor",
   "metadata": {},
   "outputs": [
    {
     "data": {
      "image/png": "[encoded data removed]",
      "text/plain": [
       "<Figure size 1008x576 with 1 Axes>"
      ]
     },
     "metadata": {
      "needs_background": "light"
     },
     "output_type": "display_data"
    }
   ],
   "source": [
    "#fig, axs = plt.subplots(2,1, figsize=(15,15))\n",
    "plt.subplots(figsize=(14,8))\n",
    "sns.lineplot(data=port_ret_ACT.to_frame().reset_index(), x='Date', y=0, label='Actual Returns').set(ylabel='Returns', title='Actual Returns') \n",
    "sns.lineplot(data=port_ret_NN.to_frame().reset_index(), x='Date', y=0, label='Neural Network').set(ylabel='Returns', title='Neural Network Returns') \n",
    "sns.lineplot(data=port_ret_FF.to_frame().reset_index(), x='Date', y=0, label='Function Form').set(ylabel='Returns', title='Functional Form Returns') \n",
    "sns.lineplot(data=port_ret_PRED.to_frame().reset_index(), x='Date', y=0, label='Basic Predictions').set(ylabel='Returns', title='Actual Returns and Neural Network, Function Form, and Basic Predicted Returns') \n",
    "plt.show()\n"
   ]
  }
 ],
 "metadata": {
  "kernelspec": {
   "display_name": "Python 3",
   "language": "python",
   "name": "python3"
  },
  "language_info": {
   "codemirror_mode": {
    "name": "ipython",
    "version": 3
   },
   "file_extension": ".py",
   "mimetype": "text/x-python",
   "name": "python",
   "nbconvert_exporter": "python",
   "pygments_lexer": "ipython3",
   "version": "3.8.5"
  }
 },
 "nbformat": 4,
 "nbformat_minor": 5
}
