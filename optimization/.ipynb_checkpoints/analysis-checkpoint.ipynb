{
 "cells": [
  {
   "cell_type": "code",
   "execution_count": 1,
   "id": "accepted-leadership",
   "metadata": {},
   "outputs": [],
   "source": [
    "import numpy as np\n",
    "import pandas as pd\n",
    "#import matplotlib.pyplot as plt\n",
    "#from scipy.stats import norm\n",
    "#from scipy.stats import linregress\n",
    "#import statsmodels.formula.api as smf\n",
    "import csv\n",
    "import scipy.optimize as opt\n",
    "import pandas_datareader as pdr\n",
    "from datetime import datetime"
   ]
  },
  {
   "cell_type": "code",
   "execution_count": 2,
   "id": "filled-contemporary",
   "metadata": {},
   "outputs": [],
   "source": [
    "# function to read in data from a csv\n",
    "def readPricesCSV(file):\n",
    "    df = pd.read_csv(file)\n",
    "    dfPrices = df[\"Adj Close\"]\n",
    "    return dfPrices"
   ]
  },
  {
   "cell_type": "code",
   "execution_count": 3,
   "id": "comic-valuation",
   "metadata": {},
   "outputs": [],
   "source": [
    "# function to read in stock prices from yahoo finance\n",
    "def readPricesYF(start_date, end_date, tickers):\n",
    "    stockPrices = pdr.get_data_yahoo(tickers, start=start_date, end=end_date)   # read in the data\n",
    "    stockPrices = stockPrices.filter(like='Adj Close')   # tickers are columns and data values are adjusted closing prices with the date as the index\n",
    "    stockPrices.columns = tickers   # change column names to be their tickers\n",
    "    stockPrices = stockPrices.stack().swaplevel().sort_index().reset_index()    # make the data tall and clean it up so it is easier to perform analysis on\n",
    "    stockPrices.columns = ['Firm','Date','Adj Close']     # rename the columns\n",
    "#    stockPrices['Return'] = stockPrices.groupby('Firm')['Adj Close'].pct_change()    # get the daily returns for each ticker\n",
    "    return stockPrices\n"
   ]
  },
  {
   "cell_type": "code",
   "execution_count": 4,
   "id": "alleged-greece",
   "metadata": {},
   "outputs": [],
   "source": [
    "# the objective function\n",
    "def obj(weights):\n",
    "    \n",
    "    sum_return = np.dot(weights,means)     #get the return measure given by the weights and mean\n",
    "    num_stocks = len(means)\n",
    "    \n",
    "    #get the risk measure given by the weights\n",
    "    risk_measure = np.matmul(np.matmul(np.transpose(np.array(weights)), cov_matr), np.array(weights))\n",
    "#    print(\"risk measure: \", risk_measure)\n",
    "    \n",
    "    #return the objective function value\n",
    "    return -(sum_return - (risk_level * risk_measure))\n"
   ]
  },
  {
   "cell_type": "markdown",
   "id": "horizontal-camcorder",
   "metadata": {},
   "source": [
    "### To Change:\n",
    "**The following block of code is the only one in this file that should be changed.**\n",
    "- Add more stocks by including them in the list of tickers\n",
    "- Change the starting and ending dates\n",
    "\n",
    "**If there are any changes made, rerun the entire code after making the changes**\n",
    "\n",
    "**Nothing else should be changed in this file**"
   ]
  },
  {
   "cell_type": "code",
   "execution_count": 5,
   "id": "hidden-accountability",
   "metadata": {},
   "outputs": [
    {
     "data": {
      "text/html": [
       "<div>\n",
       "<style scoped>\n",
       "    .dataframe tbody tr th:only-of-type {\n",
       "        vertical-align: middle;\n",
       "    }\n",
       "\n",
       "    .dataframe tbody tr th {\n",
       "        vertical-align: top;\n",
       "    }\n",
       "\n",
       "    .dataframe thead th {\n",
       "        text-align: right;\n",
       "    }\n",
       "</style>\n",
       "<table border=\"1\" class=\"dataframe\">\n",
       "  <thead>\n",
       "    <tr style=\"text-align: right;\">\n",
       "      <th></th>\n",
       "      <th>Firm</th>\n",
       "      <th>Date</th>\n",
       "      <th>Adj Close</th>\n",
       "    </tr>\n",
       "  </thead>\n",
       "  <tbody>\n",
       "    <tr>\n",
       "      <th>0</th>\n",
       "      <td>AAPL</td>\n",
       "      <td>2020-08-25</td>\n",
       "      <td>124.424088</td>\n",
       "    </tr>\n",
       "    <tr>\n",
       "      <th>1</th>\n",
       "      <td>AAPL</td>\n",
       "      <td>2020-08-26</td>\n",
       "      <td>126.116135</td>\n",
       "    </tr>\n",
       "    <tr>\n",
       "      <th>2</th>\n",
       "      <td>AAPL</td>\n",
       "      <td>2020-08-27</td>\n",
       "      <td>124.608498</td>\n",
       "    </tr>\n",
       "    <tr>\n",
       "      <th>3</th>\n",
       "      <td>AAPL</td>\n",
       "      <td>2020-08-28</td>\n",
       "      <td>124.406647</td>\n",
       "    </tr>\n",
       "    <tr>\n",
       "      <th>4</th>\n",
       "      <td>AAPL</td>\n",
       "      <td>2020-08-31</td>\n",
       "      <td>128.625549</td>\n",
       "    </tr>\n",
       "    <tr>\n",
       "      <th>...</th>\n",
       "      <td>...</td>\n",
       "      <td>...</td>\n",
       "      <td>...</td>\n",
       "    </tr>\n",
       "    <tr>\n",
       "      <th>757</th>\n",
       "      <td>TSLA</td>\n",
       "      <td>2021-02-19</td>\n",
       "      <td>781.299988</td>\n",
       "    </tr>\n",
       "    <tr>\n",
       "      <th>758</th>\n",
       "      <td>TSLA</td>\n",
       "      <td>2021-02-22</td>\n",
       "      <td>714.500000</td>\n",
       "    </tr>\n",
       "    <tr>\n",
       "      <th>759</th>\n",
       "      <td>TSLA</td>\n",
       "      <td>2021-02-23</td>\n",
       "      <td>698.840027</td>\n",
       "    </tr>\n",
       "    <tr>\n",
       "      <th>760</th>\n",
       "      <td>TSLA</td>\n",
       "      <td>2021-02-24</td>\n",
       "      <td>742.020020</td>\n",
       "    </tr>\n",
       "    <tr>\n",
       "      <th>761</th>\n",
       "      <td>TSLA</td>\n",
       "      <td>2021-02-25</td>\n",
       "      <td>682.219971</td>\n",
       "    </tr>\n",
       "  </tbody>\n",
       "</table>\n",
       "<p>762 rows × 3 columns</p>\n",
       "</div>"
      ],
      "text/plain": [
       "     Firm       Date   Adj Close\n",
       "0    AAPL 2020-08-25  124.424088\n",
       "1    AAPL 2020-08-26  126.116135\n",
       "2    AAPL 2020-08-27  124.608498\n",
       "3    AAPL 2020-08-28  124.406647\n",
       "4    AAPL 2020-08-31  128.625549\n",
       "..    ...        ...         ...\n",
       "757  TSLA 2021-02-19  781.299988\n",
       "758  TSLA 2021-02-22  714.500000\n",
       "759  TSLA 2021-02-23  698.840027\n",
       "760  TSLA 2021-02-24  742.020020\n",
       "761  TSLA 2021-02-25  682.219971\n",
       "\n",
       "[762 rows x 3 columns]"
      ]
     },
     "execution_count": 5,
     "metadata": {},
     "output_type": "execute_result"
    }
   ],
   "source": [
    "#choose which stocks to include in the optimization of the portfolio (list the tickers)\n",
    "tickers = ['MSFT', 'AAPL', 'AMZN', 'NFLX', 'DIS', 'TSLA']\n",
    "tickers = sorted(tickers)\n",
    "\n",
    "#set the start and end dates- choose last six months in this case\n",
    "start_date = datetime(2020, 8, 25) #year, month, day\n",
    "end_date = datetime(2021,2,25) #year, month, day\n",
    "\n",
    "stockPrices = readPricesYF(start_date, end_date, tickers)    # use the function defined above to get data from Yahoo Finance\n",
    "#stockPrices['ret'] = stockPrices['Adj Close'].pct_change()\n",
    "stockPrices"
   ]
  },
  {
   "cell_type": "code",
   "execution_count": 6,
   "id": "communist-cancellation",
   "metadata": {},
   "outputs": [],
   "source": [
    "#stockPrices"
   ]
  },
  {
   "cell_type": "code",
   "execution_count": 7,
   "id": "incomplete-monkey",
   "metadata": {},
   "outputs": [
    {
     "data": {
      "text/html": [
       "<div>\n",
       "<style scoped>\n",
       "    .dataframe tbody tr th:only-of-type {\n",
       "        vertical-align: middle;\n",
       "    }\n",
       "\n",
       "    .dataframe tbody tr th {\n",
       "        vertical-align: top;\n",
       "    }\n",
       "\n",
       "    .dataframe thead th {\n",
       "        text-align: right;\n",
       "    }\n",
       "</style>\n",
       "<table border=\"1\" class=\"dataframe\">\n",
       "  <thead>\n",
       "    <tr style=\"text-align: right;\">\n",
       "      <th></th>\n",
       "      <th>AAPL</th>\n",
       "      <th>AMZN</th>\n",
       "      <th>DIS</th>\n",
       "      <th>MSFT</th>\n",
       "      <th>NFLX</th>\n",
       "      <th>TSLA</th>\n",
       "    </tr>\n",
       "    <tr>\n",
       "      <th>Date</th>\n",
       "      <th></th>\n",
       "      <th></th>\n",
       "      <th></th>\n",
       "      <th></th>\n",
       "      <th></th>\n",
       "      <th></th>\n",
       "    </tr>\n",
       "  </thead>\n",
       "  <tbody>\n",
       "    <tr>\n",
       "      <th>2020-08-26</th>\n",
       "      <td>0.013599</td>\n",
       "      <td>0.028496</td>\n",
       "      <td>0.018414</td>\n",
       "      <td>0.021620</td>\n",
       "      <td>0.116087</td>\n",
       "      <td>0.064166</td>\n",
       "    </tr>\n",
       "    <tr>\n",
       "      <th>2020-08-27</th>\n",
       "      <td>-0.011954</td>\n",
       "      <td>-0.012159</td>\n",
       "      <td>0.011726</td>\n",
       "      <td>0.024554</td>\n",
       "      <td>-0.038829</td>\n",
       "      <td>0.039746</td>\n",
       "    </tr>\n",
       "    <tr>\n",
       "      <th>2020-08-28</th>\n",
       "      <td>-0.001620</td>\n",
       "      <td>0.000529</td>\n",
       "      <td>0.013535</td>\n",
       "      <td>0.010283</td>\n",
       "      <td>-0.004522</td>\n",
       "      <td>-0.011323</td>\n",
       "    </tr>\n",
       "    <tr>\n",
       "      <th>2020-08-31</th>\n",
       "      <td>0.033912</td>\n",
       "      <td>0.014451</td>\n",
       "      <td>-0.027077</td>\n",
       "      <td>-0.014766</td>\n",
       "      <td>0.010823</td>\n",
       "      <td>0.125689</td>\n",
       "    </tr>\n",
       "    <tr>\n",
       "      <th>2020-09-01</th>\n",
       "      <td>0.039833</td>\n",
       "      <td>0.013956</td>\n",
       "      <td>0.012740</td>\n",
       "      <td>0.007715</td>\n",
       "      <td>0.050967</td>\n",
       "      <td>-0.046697</td>\n",
       "    </tr>\n",
       "    <tr>\n",
       "      <th>...</th>\n",
       "      <td>...</td>\n",
       "      <td>...</td>\n",
       "      <td>...</td>\n",
       "      <td>...</td>\n",
       "      <td>...</td>\n",
       "      <td>...</td>\n",
       "    </tr>\n",
       "    <tr>\n",
       "      <th>2021-02-19</th>\n",
       "      <td>0.001233</td>\n",
       "      <td>-0.023535</td>\n",
       "      <td>0.003552</td>\n",
       "      <td>-0.011567</td>\n",
       "      <td>-0.014593</td>\n",
       "      <td>-0.007722</td>\n",
       "    </tr>\n",
       "    <tr>\n",
       "      <th>2021-02-22</th>\n",
       "      <td>-0.029799</td>\n",
       "      <td>-0.021281</td>\n",
       "      <td>0.044160</td>\n",
       "      <td>-0.026808</td>\n",
       "      <td>-0.011921</td>\n",
       "      <td>-0.085499</td>\n",
       "    </tr>\n",
       "    <tr>\n",
       "      <th>2021-02-23</th>\n",
       "      <td>-0.001111</td>\n",
       "      <td>0.004326</td>\n",
       "      <td>0.027795</td>\n",
       "      <td>-0.005288</td>\n",
       "      <td>0.023174</td>\n",
       "      <td>-0.021917</td>\n",
       "    </tr>\n",
       "    <tr>\n",
       "      <th>2021-02-24</th>\n",
       "      <td>-0.004052</td>\n",
       "      <td>-0.010947</td>\n",
       "      <td>0.002131</td>\n",
       "      <td>0.005487</td>\n",
       "      <td>0.013293</td>\n",
       "      <td>0.061788</td>\n",
       "    </tr>\n",
       "    <tr>\n",
       "      <th>2021-02-25</th>\n",
       "      <td>-0.034783</td>\n",
       "      <td>-0.032400</td>\n",
       "      <td>-0.033062</td>\n",
       "      <td>-0.023705</td>\n",
       "      <td>-0.012125</td>\n",
       "      <td>-0.080591</td>\n",
       "    </tr>\n",
       "  </tbody>\n",
       "</table>\n",
       "<p>126 rows × 6 columns</p>\n",
       "</div>"
      ],
      "text/plain": [
       "                AAPL      AMZN       DIS      MSFT      NFLX      TSLA\n",
       "Date                                                                  \n",
       "2020-08-26  0.013599  0.028496  0.018414  0.021620  0.116087  0.064166\n",
       "2020-08-27 -0.011954 -0.012159  0.011726  0.024554 -0.038829  0.039746\n",
       "2020-08-28 -0.001620  0.000529  0.013535  0.010283 -0.004522 -0.011323\n",
       "2020-08-31  0.033912  0.014451 -0.027077 -0.014766  0.010823  0.125689\n",
       "2020-09-01  0.039833  0.013956  0.012740  0.007715  0.050967 -0.046697\n",
       "...              ...       ...       ...       ...       ...       ...\n",
       "2021-02-19  0.001233 -0.023535  0.003552 -0.011567 -0.014593 -0.007722\n",
       "2021-02-22 -0.029799 -0.021281  0.044160 -0.026808 -0.011921 -0.085499\n",
       "2021-02-23 -0.001111  0.004326  0.027795 -0.005288  0.023174 -0.021917\n",
       "2021-02-24 -0.004052 -0.010947  0.002131  0.005487  0.013293  0.061788\n",
       "2021-02-25 -0.034783 -0.032400 -0.033062 -0.023705 -0.012125 -0.080591\n",
       "\n",
       "[126 rows x 6 columns]"
      ]
     },
     "execution_count": 7,
     "metadata": {},
     "output_type": "execute_result"
    }
   ],
   "source": [
    "# reformat the data\n",
    "stock_prices_format = stockPrices.set_index(['Date', 'Firm']).unstack()   # change format so that date and each company are columns\n",
    "stock_prices_format.columns = tickers\n",
    "stock_prices_pct_change = stock_prices_format.pct_change()[1:]\n",
    "stock_prices_pct_change"
   ]
  },
  {
   "cell_type": "code",
   "execution_count": null,
   "id": "infectious-corpus",
   "metadata": {},
   "outputs": [],
   "source": []
  },
  {
   "cell_type": "code",
   "execution_count": null,
   "id": "varying-middle",
   "metadata": {},
   "outputs": [],
   "source": []
  },
  {
   "cell_type": "code",
   "execution_count": 8,
   "id": "capable-remainder",
   "metadata": {},
   "outputs": [],
   "source": [
    "# get the different number of stocks and the number of stock prices \n",
    "num_stocks = len(tickers)   # the number of stocks\n",
    "prices_per_stock = stock_prices_format.shape[0]   # the number of stock prices"
   ]
  },
  {
   "cell_type": "code",
   "execution_count": 9,
   "id": "funky-experience",
   "metadata": {},
   "outputs": [
    {
     "data": {
      "text/plain": [
       "array([[ 5.59896149e-04,  3.73559042e-04,  4.32429351e-05,\n",
       "         3.05618489e-04,  3.38402153e-04,  5.54343209e-04],\n",
       "       [ 3.73559042e-04,  4.41159509e-04,  5.04481211e-05,\n",
       "         3.06976679e-04,  3.98375581e-04,  4.11422252e-04],\n",
       "       [ 4.32429351e-05,  5.04481211e-05,  5.77167770e-04,\n",
       "         8.61969935e-05,  1.64317959e-05, -3.94774403e-05],\n",
       "       [ 3.05618489e-04,  3.06976679e-04,  8.61969935e-05,\n",
       "         3.32178259e-04,  2.66808739e-04,  3.76651700e-04],\n",
       "       [ 3.38402153e-04,  3.98375581e-04,  1.64317959e-05,\n",
       "         2.66808739e-04,  9.12232700e-04,  4.15956589e-04],\n",
       "       [ 5.54343209e-04,  4.11422252e-04, -3.94774403e-05,\n",
       "         3.76651700e-04,  4.15956589e-04,  2.22980118e-03]])"
      ]
     },
     "execution_count": 9,
     "metadata": {},
     "output_type": "execute_result"
    }
   ],
   "source": [
    "# get the covariance matrix\n",
    "cov_matr = np.cov(np.array(stock_prices_pct_change.iloc[:,range(0,num_stocks)].T))   # get the columns and transpose it so it is in right format, then turn it into covariance matrix\n",
    "#corr_matr = stock_prices_pct_change.corr()\n",
    "cov_matr"
   ]
  },
  {
   "cell_type": "code",
   "execution_count": 10,
   "id": "plastic-collapse",
   "metadata": {},
   "outputs": [
    {
     "data": {
      "text/plain": [
       "array([ 5.71133647e-05, -4.98897312e-04,  3.34623847e-03,  6.51091710e-04,\n",
       "        1.30126183e-03,  5.28170546e-03])"
      ]
     },
     "execution_count": 10,
     "metadata": {},
     "output_type": "execute_result"
    }
   ],
   "source": [
    "# get the mean price for each stock\n",
    "\n",
    "means = np.array(stock_prices_pct_change.mean().to_list())    # get means for each column, convert to a list, convert to a numpy array\n",
    "means"
   ]
  },
  {
   "cell_type": "code",
   "execution_count": 11,
   "id": "optional-warrant",
   "metadata": {},
   "outputs": [],
   "source": [
    "# set the risk level\n",
    "risk_level = 1   # risk loving < 0; risk neutral = 0; risk averse > 0"
   ]
  },
  {
   "cell_type": "code",
   "execution_count": 12,
   "id": "informed-addiction",
   "metadata": {},
   "outputs": [],
   "source": [
    "# set an intial value for the weights\n",
    "weights = np.array([1/num_stocks]*num_stocks) # set an initial value for the weights, which is an even composition"
   ]
  },
  {
   "cell_type": "markdown",
   "id": "dried-salad",
   "metadata": {},
   "source": [
    "### At this point, we have the following information:\n",
    " - **\"tickers\"** is a list of the tickers, and it is in alphabetical order\n",
    " - **\"num_stocks\"** is the number of different stocks\n",
    " - **\"prices_per_stock\"** is the different number of observations/the different number of stock prices obtained\n",
    "\n",
    "For the Optimization:\n",
    " - **\"cov_matr\"** is the covariance matrix\n",
    " - **\"means\"** is a numpy array that consists of the means of each stock price during the time frame **(in alphabetical order of the tickers)**\n",
    " - **\"risk_level\"** is the risk level\n",
    " - **\"weights\"** is a numpy array that consists of the initial value for the weights, which is just an even composition and will be changed later **(in alphabetical order of the tickers)**"
   ]
  },
  {
   "cell_type": "code",
   "execution_count": 13,
   "id": "strategic-donna",
   "metadata": {},
   "outputs": [
    {
     "name": "stdout",
     "output_type": "stream",
     "text": [
      "0.0035937398352968823\n"
     ]
    },
    {
     "data": {
      "text/html": [
       "<div>\n",
       "<style scoped>\n",
       "    .dataframe tbody tr th:only-of-type {\n",
       "        vertical-align: middle;\n",
       "    }\n",
       "\n",
       "    .dataframe tbody tr th {\n",
       "        vertical-align: top;\n",
       "    }\n",
       "\n",
       "    .dataframe thead th {\n",
       "        text-align: right;\n",
       "    }\n",
       "</style>\n",
       "<table border=\"1\" class=\"dataframe\">\n",
       "  <thead>\n",
       "    <tr style=\"text-align: right;\">\n",
       "      <th></th>\n",
       "      <th>stock</th>\n",
       "      <th>weights</th>\n",
       "    </tr>\n",
       "  </thead>\n",
       "  <tbody>\n",
       "    <tr>\n",
       "      <th>0</th>\n",
       "      <td>AAPL</td>\n",
       "      <td>0.002650</td>\n",
       "    </tr>\n",
       "    <tr>\n",
       "      <th>1</th>\n",
       "      <td>AMZN</td>\n",
       "      <td>0.002229</td>\n",
       "    </tr>\n",
       "    <tr>\n",
       "      <th>2</th>\n",
       "      <td>DIS</td>\n",
       "      <td>0.491988</td>\n",
       "    </tr>\n",
       "    <tr>\n",
       "      <th>3</th>\n",
       "      <td>MSFT</td>\n",
       "      <td>0.003388</td>\n",
       "    </tr>\n",
       "    <tr>\n",
       "      <th>4</th>\n",
       "      <td>NFLX</td>\n",
       "      <td>0.005351</td>\n",
       "    </tr>\n",
       "    <tr>\n",
       "      <th>5</th>\n",
       "      <td>TSLA</td>\n",
       "      <td>0.494393</td>\n",
       "    </tr>\n",
       "  </tbody>\n",
       "</table>\n",
       "</div>"
      ],
      "text/plain": [
       "  stock   weights\n",
       "0  AAPL  0.002650\n",
       "1  AMZN  0.002229\n",
       "2   DIS  0.491988\n",
       "3  MSFT  0.003388\n",
       "4  NFLX  0.005351\n",
       "5  TSLA  0.494393"
      ]
     },
     "execution_count": 13,
     "metadata": {},
     "output_type": "execute_result"
    }
   ],
   "source": [
    "# perform the optimization!\n",
    "lin_constr = opt.LinearConstraint([1]*num_stocks, [1], [1])    # sum of all values are greater than or equal to 1 and less than or equal to 1, so the sum has to be equal to 1\n",
    "bounds = opt.Bounds([0]*num_stocks, [0.5]*num_stocks)    # each portfolio weight is greater than 0 and less than 0.5\n",
    "result = opt.minimize(obj, x0=[1/num_stocks]*num_stocks, method=\"trust-constr\", constraints = lin_constr, bounds=bounds)    # actually perform the optimization\n",
    "\n",
    "\n",
    "optimal_weights = pd.DataFrame({'stock': tickers, 'weights': result.x.tolist()})\n",
    "optimal_weights\n",
    "#sum(optimal_weights['weights'])\n",
    "np.dot(optimal_weights[\"weights\"],means) - (np.matmul(np.matmul(np.transpose(np.array(optimal_weights[\"weights\"])), cov_matr), np.array(optimal_weights[\"weights\"])))\n",
    "\n",
    "print(-1*result.fun) \n",
    "#print(result.x) \n",
    "optimal_weights"
   ]
  },
  {
   "cell_type": "markdown",
   "id": "peripheral-diameter",
   "metadata": {},
   "source": [
    "Next steps:\n",
    "- Tweak the model to use the predicted prices instead of historical prices\n",
    "- Test to see how well the portfolio works\n",
    "    - Active share\n",
    "        - take proportion from an existing index and tweak weights\n",
    "    - Compare to performance of S&P 500 or something like that\n",
    "    - Can create a graph to visualize the data\n",
    "    - Calculate the information ratio\n",
    "- Figure out how to add a Conditional Value at Risk measure\n",
    "- Explore Nested Clustered Optimization\n",
    "- Could incorporate elements from stochastic calculus about estimating stock prices"
   ]
  },
  {
   "cell_type": "code",
   "execution_count": 14,
   "id": "alleged-equity",
   "metadata": {},
   "outputs": [],
   "source": [
    "#!pip install PyPortfolioOpt #need to install C++ first by doing (xcode-select --install) in terminal \n",
    "\n",
    "#LINK to article: https://towardsdatascience.com/automating-portfolio-optimization-using-python-9f344b9380b9#"
   ]
  },
  {
   "cell_type": "code",
   "execution_count": 15,
   "id": "upper-hampshire",
   "metadata": {},
   "outputs": [
    {
     "ename": "ModuleNotFoundError",
     "evalue": "No module named 'pypfopt'",
     "output_type": "error",
     "traceback": [
      "\u001b[0;31m---------------------------------------------------------------------------\u001b[0m",
      "\u001b[0;31mModuleNotFoundError\u001b[0m                       Traceback (most recent call last)",
      "\u001b[0;32m<ipython-input-15-469fe38860a8>\u001b[0m in \u001b[0;36m<module>\u001b[0;34m\u001b[0m\n\u001b[0;32m----> 1\u001b[0;31m \u001b[0;32mfrom\u001b[0m \u001b[0mpypfopt\u001b[0m\u001b[0;34m.\u001b[0m\u001b[0mefficient_frontier\u001b[0m \u001b[0;32mimport\u001b[0m \u001b[0mEfficientFrontier\u001b[0m\u001b[0;34m\u001b[0m\u001b[0;34m\u001b[0m\u001b[0m\n\u001b[0m\u001b[1;32m      2\u001b[0m \u001b[0;32mfrom\u001b[0m \u001b[0mpypfopt\u001b[0m \u001b[0;32mimport\u001b[0m \u001b[0mrisk_models\u001b[0m\u001b[0;34m\u001b[0m\u001b[0;34m\u001b[0m\u001b[0m\n\u001b[1;32m      3\u001b[0m \u001b[0;32mfrom\u001b[0m \u001b[0mpypfopt\u001b[0m \u001b[0;32mimport\u001b[0m \u001b[0mexpected_returns\u001b[0m\u001b[0;34m\u001b[0m\u001b[0;34m\u001b[0m\u001b[0m\n\u001b[1;32m      4\u001b[0m \u001b[0;32mfrom\u001b[0m \u001b[0mpypfopt\u001b[0m\u001b[0;34m.\u001b[0m\u001b[0mcla\u001b[0m \u001b[0;32mimport\u001b[0m \u001b[0mCLA\u001b[0m\u001b[0;34m\u001b[0m\u001b[0;34m\u001b[0m\u001b[0m\n\u001b[1;32m      5\u001b[0m \u001b[0;32mfrom\u001b[0m \u001b[0mpypfopt\u001b[0m \u001b[0;32mimport\u001b[0m \u001b[0mplotting\u001b[0m\u001b[0;34m\u001b[0m\u001b[0;34m\u001b[0m\u001b[0m\n",
      "\u001b[0;31mModuleNotFoundError\u001b[0m: No module named 'pypfopt'"
     ]
    }
   ],
   "source": [
    "from pypfopt.efficient_frontier import EfficientFrontier\n",
    "from pypfopt import risk_models\n",
    "from pypfopt import expected_returns\n",
    "from pypfopt.cla import CLA\n",
    "from pypfopt import plotting\n",
    "from matplotlib.ticker import FuncFormatter\n",
    "import matplotlib.pyplot as plt\n",
    "import numpy as np\n",
    "import pandas as pd\n",
    "import pandas_datareader as web\n",
    "from matplotlib.ticker import FuncFormatter"
   ]
  },
  {
   "cell_type": "code",
   "execution_count": null,
   "id": "protecting-relaxation",
   "metadata": {},
   "outputs": [],
   "source": []
  },
  {
   "cell_type": "code",
   "execution_count": null,
   "id": "sonic-marriage",
   "metadata": {},
   "outputs": [],
   "source": [
    "nullin_df = pd.DataFrame(stock_prices_format)\n",
    "print(nullin_df.isnull().sum()) #no null values (good!)\n",
    " "
   ]
  },
  {
   "cell_type": "code",
   "execution_count": null,
   "id": "ancient-future",
   "metadata": {},
   "outputs": [],
   "source": [
    "#Annualized Return\n",
    "mu = expected_returns.mean_historical_return(stock_prices_format)\n",
    "#Sample Variance of Portfolio\n",
    "Sigma = risk_models.sample_cov(stock_prices_format)"
   ]
  },
  {
   "cell_type": "code",
   "execution_count": null,
   "id": "lined-slovakia",
   "metadata": {},
   "outputs": [],
   "source": [
    "#print(mu,Sigma)\n",
    "Sigma\n",
    "mu\n"
   ]
  },
  {
   "cell_type": "code",
   "execution_count": null,
   "id": "sixth-witness",
   "metadata": {},
   "outputs": [],
   "source": [
    "# #why doesn't this match up?\n",
    "# stock_firm = stockPrices.groupby(['Firm'])['ret'].mean()\n",
    "# stock_firm"
   ]
  },
  {
   "cell_type": "code",
   "execution_count": null,
   "id": "seven-slovak",
   "metadata": {},
   "outputs": [],
   "source": [
    "#Max Sharpe Ratio - Tangent to the EF\n",
    "ef = EfficientFrontier(mu, Sigma, weight_bounds=(0,1)) #weight bounds in negative allows shorting of stocks\n",
    "sharpe_pfolio=ef.max_sharpe() #May use add objective to ensure minimum zero weighting to individual stocks\n",
    "sharpe_pwt=ef.clean_weights()\n",
    "print(sharpe_pwt)"
   ]
  },
  {
   "cell_type": "code",
   "execution_count": null,
   "id": "common-bouquet",
   "metadata": {},
   "outputs": [],
   "source": [
    "sharpe_pfolio"
   ]
  },
  {
   "cell_type": "code",
   "execution_count": null,
   "id": "czech-acting",
   "metadata": {},
   "outputs": [],
   "source": []
  },
  {
   "cell_type": "code",
   "execution_count": null,
   "id": "seasonal-federal",
   "metadata": {},
   "outputs": [],
   "source": [
    "optimal_weights"
   ]
  },
  {
   "cell_type": "code",
   "execution_count": null,
   "id": "indoor-pillow",
   "metadata": {},
   "outputs": [],
   "source": []
  },
  {
   "cell_type": "code",
   "execution_count": null,
   "id": "stopped-thriller",
   "metadata": {},
   "outputs": [],
   "source": []
  },
  {
   "cell_type": "code",
   "execution_count": 16,
   "id": "finished-armor",
   "metadata": {},
   "outputs": [
    {
     "data": {
      "text/html": [
       "<div>\n",
       "<style scoped>\n",
       "    .dataframe tbody tr th:only-of-type {\n",
       "        vertical-align: middle;\n",
       "    }\n",
       "\n",
       "    .dataframe tbody tr th {\n",
       "        vertical-align: top;\n",
       "    }\n",
       "\n",
       "    .dataframe thead th {\n",
       "        text-align: right;\n",
       "    }\n",
       "</style>\n",
       "<table border=\"1\" class=\"dataframe\">\n",
       "  <thead>\n",
       "    <tr style=\"text-align: right;\">\n",
       "      <th></th>\n",
       "      <th>AAPL</th>\n",
       "      <th>AMZN</th>\n",
       "      <th>DIS</th>\n",
       "      <th>MSFT</th>\n",
       "      <th>NFLX</th>\n",
       "      <th>TSLA</th>\n",
       "    </tr>\n",
       "    <tr>\n",
       "      <th>Date</th>\n",
       "      <th></th>\n",
       "      <th></th>\n",
       "      <th></th>\n",
       "      <th></th>\n",
       "      <th></th>\n",
       "      <th></th>\n",
       "    </tr>\n",
       "  </thead>\n",
       "  <tbody>\n",
       "    <tr>\n",
       "      <th>2020-08-26</th>\n",
       "      <td>0.013599</td>\n",
       "      <td>0.028496</td>\n",
       "      <td>0.018414</td>\n",
       "      <td>0.021620</td>\n",
       "      <td>0.116087</td>\n",
       "      <td>0.064166</td>\n",
       "    </tr>\n",
       "    <tr>\n",
       "      <th>2020-08-27</th>\n",
       "      <td>-0.011954</td>\n",
       "      <td>-0.012159</td>\n",
       "      <td>0.011726</td>\n",
       "      <td>0.024554</td>\n",
       "      <td>-0.038829</td>\n",
       "      <td>0.039746</td>\n",
       "    </tr>\n",
       "    <tr>\n",
       "      <th>2020-08-28</th>\n",
       "      <td>-0.001620</td>\n",
       "      <td>0.000529</td>\n",
       "      <td>0.013535</td>\n",
       "      <td>0.010283</td>\n",
       "      <td>-0.004522</td>\n",
       "      <td>-0.011323</td>\n",
       "    </tr>\n",
       "    <tr>\n",
       "      <th>2020-08-31</th>\n",
       "      <td>0.033912</td>\n",
       "      <td>0.014451</td>\n",
       "      <td>-0.027077</td>\n",
       "      <td>-0.014766</td>\n",
       "      <td>0.010823</td>\n",
       "      <td>0.125689</td>\n",
       "    </tr>\n",
       "    <tr>\n",
       "      <th>2020-09-01</th>\n",
       "      <td>0.039833</td>\n",
       "      <td>0.013956</td>\n",
       "      <td>0.012740</td>\n",
       "      <td>0.007715</td>\n",
       "      <td>0.050967</td>\n",
       "      <td>-0.046697</td>\n",
       "    </tr>\n",
       "    <tr>\n",
       "      <th>...</th>\n",
       "      <td>...</td>\n",
       "      <td>...</td>\n",
       "      <td>...</td>\n",
       "      <td>...</td>\n",
       "      <td>...</td>\n",
       "      <td>...</td>\n",
       "    </tr>\n",
       "    <tr>\n",
       "      <th>2021-02-19</th>\n",
       "      <td>0.001233</td>\n",
       "      <td>-0.023535</td>\n",
       "      <td>0.003552</td>\n",
       "      <td>-0.011567</td>\n",
       "      <td>-0.014593</td>\n",
       "      <td>-0.007722</td>\n",
       "    </tr>\n",
       "    <tr>\n",
       "      <th>2021-02-22</th>\n",
       "      <td>-0.029799</td>\n",
       "      <td>-0.021281</td>\n",
       "      <td>0.044160</td>\n",
       "      <td>-0.026808</td>\n",
       "      <td>-0.011921</td>\n",
       "      <td>-0.085499</td>\n",
       "    </tr>\n",
       "    <tr>\n",
       "      <th>2021-02-23</th>\n",
       "      <td>-0.001111</td>\n",
       "      <td>0.004326</td>\n",
       "      <td>0.027795</td>\n",
       "      <td>-0.005288</td>\n",
       "      <td>0.023174</td>\n",
       "      <td>-0.021917</td>\n",
       "    </tr>\n",
       "    <tr>\n",
       "      <th>2021-02-24</th>\n",
       "      <td>-0.004052</td>\n",
       "      <td>-0.010947</td>\n",
       "      <td>0.002131</td>\n",
       "      <td>0.005487</td>\n",
       "      <td>0.013293</td>\n",
       "      <td>0.061788</td>\n",
       "    </tr>\n",
       "    <tr>\n",
       "      <th>2021-02-25</th>\n",
       "      <td>-0.034783</td>\n",
       "      <td>-0.032400</td>\n",
       "      <td>-0.033062</td>\n",
       "      <td>-0.023705</td>\n",
       "      <td>-0.012125</td>\n",
       "      <td>-0.080591</td>\n",
       "    </tr>\n",
       "  </tbody>\n",
       "</table>\n",
       "<p>126 rows × 6 columns</p>\n",
       "</div>"
      ],
      "text/plain": [
       "                AAPL      AMZN       DIS      MSFT      NFLX      TSLA\n",
       "Date                                                                  \n",
       "2020-08-26  0.013599  0.028496  0.018414  0.021620  0.116087  0.064166\n",
       "2020-08-27 -0.011954 -0.012159  0.011726  0.024554 -0.038829  0.039746\n",
       "2020-08-28 -0.001620  0.000529  0.013535  0.010283 -0.004522 -0.011323\n",
       "2020-08-31  0.033912  0.014451 -0.027077 -0.014766  0.010823  0.125689\n",
       "2020-09-01  0.039833  0.013956  0.012740  0.007715  0.050967 -0.046697\n",
       "...              ...       ...       ...       ...       ...       ...\n",
       "2021-02-19  0.001233 -0.023535  0.003552 -0.011567 -0.014593 -0.007722\n",
       "2021-02-22 -0.029799 -0.021281  0.044160 -0.026808 -0.011921 -0.085499\n",
       "2021-02-23 -0.001111  0.004326  0.027795 -0.005288  0.023174 -0.021917\n",
       "2021-02-24 -0.004052 -0.010947  0.002131  0.005487  0.013293  0.061788\n",
       "2021-02-25 -0.034783 -0.032400 -0.033062 -0.023705 -0.012125 -0.080591\n",
       "\n",
       "[126 rows x 6 columns]"
      ]
     },
     "execution_count": 16,
     "metadata": {},
     "output_type": "execute_result"
    }
   ],
   "source": [
    "stock_returns = stock_prices_format.pct_change()[1:]\n",
    "stock_returns\n",
    "\n",
    "weighted_returns = weights * stock_returns\n",
    "stock_returns"
   ]
  },
  {
   "cell_type": "code",
   "execution_count": 17,
   "id": "robust-connectivity",
   "metadata": {},
   "outputs": [],
   "source": [
    "#port returns are the sum of the weighted returns \n",
    "\n",
    "port_ret = weighted_returns.sum(axis=1)#axis =1 tels pandas to add the rows \n",
    "#port_ret"
   ]
  },
  {
   "cell_type": "code",
   "execution_count": 18,
   "id": "insured-horse",
   "metadata": {},
   "outputs": [],
   "source": [
    "#Portfolio statistics (equal weighted)\n",
    "mean_ret = port_ret.mean()\n",
    "std_ret = port_ret.std()\n",
    "sharpe = mean_ret/std_ret\n",
    "\n",
    "#std_ret\n",
    "#mean_ret\n",
    "\n"
   ]
  },
  {
   "cell_type": "code",
   "execution_count": 19,
   "id": "arbitrary-brooklyn",
   "metadata": {},
   "outputs": [
    {
     "data": {
      "text/plain": [
       "Date\n",
       "2020-08-26    0.041577\n",
       "2020-08-27    0.025236\n",
       "2020-08-28    0.001068\n",
       "2020-08-31    0.048948\n",
       "2020-09-01   -0.016383\n",
       "                ...   \n",
       "2021-02-19   -0.002237\n",
       "2021-02-22   -0.020825\n",
       "2021-02-23    0.002952\n",
       "2021-02-24    0.031651\n",
       "2021-02-25   -0.056419\n",
       "Length: 126, dtype: float64"
      ]
     },
     "execution_count": 19,
     "metadata": {},
     "output_type": "execute_result"
    }
   ],
   "source": [
    "opt_weights = optimal_weights['weights'].to_list()\n",
    "weighted_ret_opt = opt_weights * stock_returns\n",
    "weighted_ret_opt\n",
    "\n",
    "port_ret_opt = weighted_ret_opt.sum(axis=1)#axis =1 tels pandas to add the rows \n",
    "port_ret_opt"
   ]
  },
  {
   "cell_type": "code",
   "execution_count": 20,
   "id": "hollywood-association",
   "metadata": {},
   "outputs": [
    {
     "name": "stdout",
     "output_type": "stream",
     "text": [
      "0.00257600549084323 0.007021258647309833\n",
      "0.07515779791680535\n"
     ]
    }
   ],
   "source": [
    "#Portfolio statistics (optimally weighted)\n",
    "mean_ret_opt = port_ret_opt.mean()\n",
    "std_ret_opt = port_ret_opt.std()\n",
    "#std_ret\n",
    "#mean_ret\n",
    "sharpe_opt = mean_ret_opt/std_ret_opt\n",
    "\n",
    "mean_diff = mean_ret_opt - mean_ret #want this number to be '+'\n",
    "sigma_diff = std_ret_opt - std_ret #want this number to be '-' (but doesn't have to be)\n",
    "\n",
    "sharpe_diff = sharpe_opt - sharpe #DEFINITELY want this number to be '+'\n",
    "print(mean_diff, sigma_diff)\n",
    "print(sharpe_diff) #our sharpe ratio is now lower after adjusting optimal weights BAD "
   ]
  },
  {
   "cell_type": "code",
   "execution_count": null,
   "id": "colonial-somalia",
   "metadata": {},
   "outputs": [],
   "source": []
  },
  {
   "cell_type": "code",
   "execution_count": null,
   "id": "dirty-laugh",
   "metadata": {},
   "outputs": [],
   "source": []
  }
 ],
 "metadata": {
  "kernelspec": {
   "display_name": "Python 3",
   "language": "python",
   "name": "python3"
  },
  "language_info": {
   "codemirror_mode": {
    "name": "ipython",
    "version": 3
   },
   "file_extension": ".py",
   "mimetype": "text/x-python",
   "name": "python",
   "nbconvert_exporter": "python",
   "pygments_lexer": "ipython3",
   "version": "3.8.5"
  }
 },
 "nbformat": 4,
 "nbformat_minor": 5
}
