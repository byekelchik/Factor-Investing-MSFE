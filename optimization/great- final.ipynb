{
 "cells": [
  {
   "cell_type": "markdown",
   "id": "fresh-refrigerator",
   "metadata": {},
   "source": [
    "## Overview\n",
    "\n",
    "In this file, there are two different optimization techniques for determining the weights of a portfolio. One technique is one I created and the other is using a library that uses the efficient frontier to find the weights.\n",
    "\n",
    "The first is using a method that I created using the \"scipy.optimize\" library. I obtained the relevant data from Yahoo Finance, cleaned and organized into the correct format, defined the objective function, found all of the parameters from the data, and then optimized. From the weights, I then found the sharpe ratio of the portfolio.\n",
    "\n",
    "The second uses \"pypfopt.efficient_frontier\", which includes a built-in function to determine the optimal weights that give you the portfolio with the highest sharpe ratio. This works great and is how the optimization will be performed in this project.\n",
    "\n",
    "The two techniques are very similar, but there are some subtle differences. Here are some of the differences:\n",
    "- For the first one, it does not exactly find the result with the highest sharpe ratio. This is because you have to define a risk level factor, which I set to 1. This can also be thought of as a required return as this impacts the overall portfolio return.\n",
    "- Since the first technique is the one I created, it is able to be customized more than the efficient frontier technique. I would be able to more easily add a value-at-risk measure, use a risk parity approach, implement nested clustered optimization, use the Black Litterman model, etc. with the first approach.\n",
    "\n",
    "For the purposes of this assignment, we are going to continue with the second technique. This method is exactly what we are looking for as it allows us to easily implement the Markowitz approach and perform the necessary analysis on it. It will allow us to choose the most optimal portfolio that has the highest mean relative to the variance.\n",
    "\n",
    "### Now to discuss the theory:\n",
    "After performing significant research about Markowitz optimization, I have learned a lot about how it works and potential issues. The Markowitz Approach optimized a model by choosing the weights that have the highest sharpe ratio. There are many different modifications such as shorting stocks and taking into account transaction costs, as well as optimizing solely to minimize risk.\n",
    "\n",
    "The model was created in 1952 and won the Nobel Prize for Economics in 1990. It has been used widespread in the financial optimization and portfolio construction world. The model provides a quantitative and logically sound way to construct portfolios. It has many applications and modifications. It works by figuring out the risk factor, which is the variance of the portfolio, as well as the estimated portfolio return for each security that is being considered. The optimization will evaluate the different possible portfolio allocations and choose the one with the highest return relative to its risk, in other words, it will choose the one with the highest sharpe ratio. The other conditions are that the sum of the portfolio weights has to be 1 and that each weight is between 0 and 1 (which I narrowed to 0 and 0.5), although it is possible to have an allocation less than 0 to take into account shortselling. It is incredbily important to have the correct data in the right format as the model outputs are only as good as the inputs.\n",
    "\n",
    "The model appears to be simple, but under the hood, figuring out the correct risk measure and combining that to maximize the sharpe ratio gets very confusing. This is a quadratic optimization problem, which can be very difficult to solve even with the correct software. There are different tricks by introducing auxilliary variables in the model, but in the model that I created, I made a slightly simpler approach due to the complexity of the model. The model I made still maximizes return relative to risk, but it uses a predefined risk aversion level, so based on your opinions the model may vary very slightly. Overall, the model does have a relatively high sharpe ratio, it is just not necessarily the highest possible value. The second model does find the highest possible sharpe ratio value, which is why we decided to use that in this project.\n",
    "\n",
    "### My Progress\n",
    "Throughout this project, I spent a significant amount of time doing research about the model before I actually dived into the actual implementation. It was incredibly important to understand the theory so that I thoroughly understood what I was doing. I read through various publications and also spoke to professionals in the field for advice. There were many different websites, articles, journals, textbooks, etc. that I read through that mentioned portfolio construction. I even spoke with Reha Tutuncu, who is on the Industry Advisory Council and is very experienced with portfolio construction (he even wrote the textbook the we are using the the financial optimization class). He recommended some great resources and provided great advice.\n",
    "\n",
    "After obtaining a significant knowledge about the Markowitz model and its potential modifications, I constructed my own model in Python. I understood the theory, so that was now the difficult aspect, but it took a significant amount of time to figure out how to construct the model in Python. There were specific aspects in Python that I had to adopt to that I was not expecting, such as only being able to minimize an optimization problem, understanding how to optimize using the \"scipy.optimize\" library, and having the data in the right format while using the correct Python syntax. After I figured all of this out, I was able to easily construct the optimization model.\n",
    "\n",
    "The way I created the model, it works for any given stock, and all you have to do is indicate which securities you want to include in the code below as well as the start and end dates for the portfolio construction. The code works for any number stocks as long as they have stock price data for the entirety of the dates indicated. The model will also determine the portfolio returns based on the optimal weights and will give you the sharpe ratio as well.\n",
    "\n",
    "Through my various research, I have also learned not to make the common mistakes, such as having a misalignment between the return and risk models. The return and risk models need to use the same data in the same time period or else the model will be off. In addition, when using the model to rebalance, it is important to check the outputs and make sure the optimal weights have not changes too much as that could lead to large transaction costs. Making sure the portfolio is reasonable is very important.\n",
    "\n",
    "After constructing my own model, we wanted to take it one step further to make sure that the maximum sharpe ratio is used. We discovered the package \"pypfopt.efficient_frontier\", which has a built-in function to find the maximum sharpe ratio. You do not need to worry about having the optimization in the right form as this will do the optimization for you.\n",
    "\n",
    "Using this second model, the optimal portfolio weights are determined for the different predicted values. The model has three stocks, which are AAPL, COKE, and GOOGL. There are three different predictions used, and we determine the portfolio returns based on the optimal weights to maximiuze the sharpe ratio, and we compare each one with the actual returns so we can check to see how each one works.\n",
    "\n",
    "We can also graph the different models compared to the actual results, as we are also backtesting with historical data. We can see which predictions are best and use those when we optimize in the future for other portfolios.\n",
    "\n",
    "### Moving Forward\n",
    "There are some potential issues with the model, which are potential areas to improve upon.\n",
    "- The model works best if the securities are not correlated, but this is rarely the case in practice. Most stock prices move together, and this will shift the model towards choosing a higher allocation of those assets as it would results in lower variance, which is the risk measure.\n",
    "    - Nested Clustered Optimzation aims to minimize this risk by first separating the securities into clusters. The model will choose an allocation among the each cluster, and then it will provide allocations within each security within each cluster. This way, it will more efficiently allocate among different industries.\n",
    "- The model does not differentiate among the different distributions of the returns. Let us consider one stock that has returns that are skewed to the left meaning that it is possible for very large negative returns and another stock has returns that are skewed to the right meaning that it is possible for very large positive returns. We would prefer the stock that does not have the negative returns as most investors are risk averse. However, if these two stocks have returns that are otherwise the same, then the model would not differentiate between the two.\n",
    "    - This can be taken into account by adding a value-at-risk (VaR) measure or a conditional value-at-risk (CVaR) measure. These will figure out a cutoff for the returns and will only take into account those returns that are above the cutoff. The model will then be able to more appropriately choose among the returns and choose the stock that has a higher cutoff, meaning it will choose the stock with the returns that are more positive.\n",
    "- The model is uses entirely quantitative ideology based on the numerical returns. These values can be hard to predict, and in this case it is not an issue as there was a very large component dedicated towards estimating the returns. However, it would be nice to be able to take into account your own personal views on each stock. It would add a qualitative component to the model.\n",
    "    - This is accomplished by implementing a Black-Litterman Model. This is a different model than the Markowitz Model, but it would be interesting to compare results and see how the sharpe ratio differs.\n",
    "\n",
    "In this project, I chose to keep the Markowitz Model simple when finding the optimal weights. As I was performing research, I had many different directions to take the model and I was excited to be able to add a value-at-risk measure to improve on the model. When I got to the actual implementation, I realized how difficult it actually is to construct the model. I was able to make the basic model, and once I figured out the correct syntax it was not that difficult. However, adding a value-at-risk measure or implementing nested clustered optimization are very complicated techniques that require a very extensive knowledge of not only the theory, but also knowledge of Python as it relates to optimization. There is also a machine learning aspect, and overall, it exceeded what I was able to create. I was planning on performing these extra steps, but I  realized that I did not necessarily have the knowledge required to do so, as I would need to strong understanding of machine learning, among other things, as well. The most difficult part is the implementation in Python as I do believe I understand each of these modifications in theory, but I ran into much difficulty when it came to the implementation.\n",
    "\n",
    "If anyone works on this project further, which I hope is the case, I would recommend them to explore these ideas. I already have the basic Markowitz Model created, but if someone has the additional knowledge to tackle these modifications, that would help expand on the project. Having taking ISE 447:Financial Optimization would be very helpful for the project."
   ]
  },
  {
   "cell_type": "code",
   "execution_count": 1,
   "id": "solved-frontier",
   "metadata": {},
   "outputs": [],
   "source": [
    "import numpy as np\n",
    "import pandas as pd\n",
    "#import matplotlib.pyplot as plt\n",
    "#from scipy.stats import norm\n",
    "#from scipy.stats import linregress\n",
    "#import statsmodels.formula.api as smf\n",
    "import csv\n",
    "import scipy.optimize as opt\n",
    "import pandas_datareader as pdr\n",
    "from datetime import datetime"
   ]
  },
  {
   "cell_type": "code",
   "execution_count": 2,
   "id": "twenty-slope",
   "metadata": {},
   "outputs": [],
   "source": [
    "# function to read in data from a csv\n",
    "def readPricesCSV(file):\n",
    "    df = pd.read_csv(file)\n",
    "    dfPrices = df[\"Adj Close\"]\n",
    "    return dfPrices"
   ]
  },
  {
   "cell_type": "code",
   "execution_count": 3,
   "id": "rapid-trademark",
   "metadata": {},
   "outputs": [],
   "source": [
    "# function to read in stock prices from yahoo finance\n",
    "def readPricesYF(start_date, end_date, tickers):\n",
    "    stockPrices = pdr.get_data_yahoo(tickers, start=start_date, end=end_date)   # read in the data\n",
    "    stockPrices = stockPrices.filter(like='Adj Close')   # tickers are columns and data values are adjusted closing prices with the date as the index\n",
    "    stockPrices.columns = tickers   # change column names to be their tickers\n",
    "    stockPrices = stockPrices.stack().swaplevel().sort_index().reset_index()    # make the data tall and clean it up so it is easier to perform analysis on\n",
    "    stockPrices.columns = ['Firm','Date','Adj Close']     # rename the columns\n",
    "#    stockPrices['Return'] = stockPrices.groupby('Firm')['Adj Close'].pct_change()    # get the daily returns for each ticker\n",
    "    return stockPrices\n"
   ]
  },
  {
   "cell_type": "code",
   "execution_count": 59,
   "id": "confidential-concern",
   "metadata": {},
   "outputs": [],
   "source": [
    "# the objective function\n",
    "def obj(weights):\n",
    "    \n",
    "    sum_return = np.dot(weights,means)     #get the return measure given by the weights and mean\n",
    "    num_stocks = len(means)\n",
    "    \n",
    "    #get the risk measure given by the weights\n",
    "    risk_measure = np.matmul(np.matmul(np.transpose(np.array(weights)), cov_matr), np.array(weights))\n",
    "#    print(\"risk measure: \", risk_measure)\n",
    "    \n",
    "    #return the objective function value\n",
    "    return  -(sum_return - (risk_level * risk_measure))\n"
   ]
  },
  {
   "cell_type": "markdown",
   "id": "indian-superintendent",
   "metadata": {},
   "source": [
    "### To Change:\n",
    "**The following block of code is the only one in this file that should be changed.**\n",
    "- Add more stocks by including them in the list of tickers\n",
    "- Change the starting and ending dates\n",
    "\n",
    "**If there are any changes made, rerun the entire code after making the changes**\n",
    "\n",
    "**Nothing else should be changed in this file**"
   ]
  },
  {
   "cell_type": "code",
   "execution_count": 5,
   "id": "center-argument",
   "metadata": {},
   "outputs": [
    {
     "data": {
      "text/html": [
       "<div>\n",
       "<style scoped>\n",
       "    .dataframe tbody tr th:only-of-type {\n",
       "        vertical-align: middle;\n",
       "    }\n",
       "\n",
       "    .dataframe tbody tr th {\n",
       "        vertical-align: top;\n",
       "    }\n",
       "\n",
       "    .dataframe thead th {\n",
       "        text-align: right;\n",
       "    }\n",
       "</style>\n",
       "<table border=\"1\" class=\"dataframe\">\n",
       "  <thead>\n",
       "    <tr style=\"text-align: right;\">\n",
       "      <th></th>\n",
       "      <th>Firm</th>\n",
       "      <th>Date</th>\n",
       "      <th>Adj Close</th>\n",
       "    </tr>\n",
       "  </thead>\n",
       "  <tbody>\n",
       "    <tr>\n",
       "      <th>0</th>\n",
       "      <td>AAPL</td>\n",
       "      <td>2020-08-25</td>\n",
       "      <td>124.213104</td>\n",
       "    </tr>\n",
       "    <tr>\n",
       "      <th>1</th>\n",
       "      <td>AAPL</td>\n",
       "      <td>2020-08-26</td>\n",
       "      <td>125.902283</td>\n",
       "    </tr>\n",
       "    <tr>\n",
       "      <th>2</th>\n",
       "      <td>AAPL</td>\n",
       "      <td>2020-08-27</td>\n",
       "      <td>124.397202</td>\n",
       "    </tr>\n",
       "    <tr>\n",
       "      <th>3</th>\n",
       "      <td>AAPL</td>\n",
       "      <td>2020-08-28</td>\n",
       "      <td>124.195694</td>\n",
       "    </tr>\n",
       "    <tr>\n",
       "      <th>4</th>\n",
       "      <td>AAPL</td>\n",
       "      <td>2020-08-31</td>\n",
       "      <td>128.407440</td>\n",
       "    </tr>\n",
       "    <tr>\n",
       "      <th>...</th>\n",
       "      <td>...</td>\n",
       "      <td>...</td>\n",
       "      <td>...</td>\n",
       "    </tr>\n",
       "    <tr>\n",
       "      <th>757</th>\n",
       "      <td>TSLA</td>\n",
       "      <td>2021-02-19</td>\n",
       "      <td>781.299988</td>\n",
       "    </tr>\n",
       "    <tr>\n",
       "      <th>758</th>\n",
       "      <td>TSLA</td>\n",
       "      <td>2021-02-22</td>\n",
       "      <td>714.500000</td>\n",
       "    </tr>\n",
       "    <tr>\n",
       "      <th>759</th>\n",
       "      <td>TSLA</td>\n",
       "      <td>2021-02-23</td>\n",
       "      <td>698.840027</td>\n",
       "    </tr>\n",
       "    <tr>\n",
       "      <th>760</th>\n",
       "      <td>TSLA</td>\n",
       "      <td>2021-02-24</td>\n",
       "      <td>742.020020</td>\n",
       "    </tr>\n",
       "    <tr>\n",
       "      <th>761</th>\n",
       "      <td>TSLA</td>\n",
       "      <td>2021-02-25</td>\n",
       "      <td>682.219971</td>\n",
       "    </tr>\n",
       "  </tbody>\n",
       "</table>\n",
       "<p>762 rows × 3 columns</p>\n",
       "</div>"
      ],
      "text/plain": [
       "     Firm       Date   Adj Close\n",
       "0    AAPL 2020-08-25  124.213104\n",
       "1    AAPL 2020-08-26  125.902283\n",
       "2    AAPL 2020-08-27  124.397202\n",
       "3    AAPL 2020-08-28  124.195694\n",
       "4    AAPL 2020-08-31  128.407440\n",
       "..    ...        ...         ...\n",
       "757  TSLA 2021-02-19  781.299988\n",
       "758  TSLA 2021-02-22  714.500000\n",
       "759  TSLA 2021-02-23  698.840027\n",
       "760  TSLA 2021-02-24  742.020020\n",
       "761  TSLA 2021-02-25  682.219971\n",
       "\n",
       "[762 rows x 3 columns]"
      ]
     },
     "execution_count": 5,
     "metadata": {},
     "output_type": "execute_result"
    }
   ],
   "source": [
    "#choose which stocks to include in the optimization of the portfolio (list the tickers)\n",
    "tickers = ['MSFT', 'AAPL', 'AMZN', 'NFLX', 'DIS', 'TSLA']\n",
    "tickers = sorted(tickers)\n",
    "\n",
    "#set the start and end dates- choose last six months in this case\n",
    "start_date = datetime(2020, 8, 25) #year, month, day\n",
    "end_date = datetime(2021,2,25) #year, month, day\n",
    "\n",
    "stockPrices = readPricesYF(start_date, end_date, tickers)    # use the function defined above to get data from Yahoo Finance\n",
    "#stockPrices['ret'] = stockPrices['Adj Close'].pct_change()\n",
    "stockPrices"
   ]
  },
  {
   "cell_type": "code",
   "execution_count": 6,
   "id": "rough-challenge",
   "metadata": {},
   "outputs": [],
   "source": [
    "#stockPrices"
   ]
  },
  {
   "cell_type": "code",
   "execution_count": 6,
   "id": "social-headline",
   "metadata": {},
   "outputs": [
    {
     "data": {
      "text/html": [
       "<div>\n",
       "<style scoped>\n",
       "    .dataframe tbody tr th:only-of-type {\n",
       "        vertical-align: middle;\n",
       "    }\n",
       "\n",
       "    .dataframe tbody tr th {\n",
       "        vertical-align: top;\n",
       "    }\n",
       "\n",
       "    .dataframe thead th {\n",
       "        text-align: right;\n",
       "    }\n",
       "</style>\n",
       "<table border=\"1\" class=\"dataframe\">\n",
       "  <thead>\n",
       "    <tr style=\"text-align: right;\">\n",
       "      <th></th>\n",
       "      <th>AAPL</th>\n",
       "      <th>AMZN</th>\n",
       "      <th>DIS</th>\n",
       "      <th>MSFT</th>\n",
       "      <th>NFLX</th>\n",
       "      <th>TSLA</th>\n",
       "    </tr>\n",
       "    <tr>\n",
       "      <th>Date</th>\n",
       "      <th></th>\n",
       "      <th></th>\n",
       "      <th></th>\n",
       "      <th></th>\n",
       "      <th></th>\n",
       "      <th></th>\n",
       "    </tr>\n",
       "  </thead>\n",
       "  <tbody>\n",
       "    <tr>\n",
       "      <th>2020-08-26</th>\n",
       "      <td>0.013599</td>\n",
       "      <td>0.028496</td>\n",
       "      <td>0.018414</td>\n",
       "      <td>0.021620</td>\n",
       "      <td>0.116087</td>\n",
       "      <td>0.064166</td>\n",
       "    </tr>\n",
       "    <tr>\n",
       "      <th>2020-08-27</th>\n",
       "      <td>-0.011954</td>\n",
       "      <td>-0.012159</td>\n",
       "      <td>0.011726</td>\n",
       "      <td>0.024554</td>\n",
       "      <td>-0.038829</td>\n",
       "      <td>0.039746</td>\n",
       "    </tr>\n",
       "    <tr>\n",
       "      <th>2020-08-28</th>\n",
       "      <td>-0.001620</td>\n",
       "      <td>0.000529</td>\n",
       "      <td>0.013535</td>\n",
       "      <td>0.010283</td>\n",
       "      <td>-0.004522</td>\n",
       "      <td>-0.011323</td>\n",
       "    </tr>\n",
       "    <tr>\n",
       "      <th>2020-08-31</th>\n",
       "      <td>0.033912</td>\n",
       "      <td>0.014451</td>\n",
       "      <td>-0.027077</td>\n",
       "      <td>-0.014766</td>\n",
       "      <td>0.010823</td>\n",
       "      <td>0.125689</td>\n",
       "    </tr>\n",
       "    <tr>\n",
       "      <th>2020-09-01</th>\n",
       "      <td>0.039833</td>\n",
       "      <td>0.013956</td>\n",
       "      <td>0.012740</td>\n",
       "      <td>0.007715</td>\n",
       "      <td>0.050967</td>\n",
       "      <td>-0.046697</td>\n",
       "    </tr>\n",
       "    <tr>\n",
       "      <th>...</th>\n",
       "      <td>...</td>\n",
       "      <td>...</td>\n",
       "      <td>...</td>\n",
       "      <td>...</td>\n",
       "      <td>...</td>\n",
       "      <td>...</td>\n",
       "    </tr>\n",
       "    <tr>\n",
       "      <th>2021-02-19</th>\n",
       "      <td>0.001234</td>\n",
       "      <td>-0.023535</td>\n",
       "      <td>0.003552</td>\n",
       "      <td>-0.011567</td>\n",
       "      <td>-0.014593</td>\n",
       "      <td>-0.007722</td>\n",
       "    </tr>\n",
       "    <tr>\n",
       "      <th>2021-02-22</th>\n",
       "      <td>-0.029799</td>\n",
       "      <td>-0.021281</td>\n",
       "      <td>0.044160</td>\n",
       "      <td>-0.026808</td>\n",
       "      <td>-0.011921</td>\n",
       "      <td>-0.085499</td>\n",
       "    </tr>\n",
       "    <tr>\n",
       "      <th>2021-02-23</th>\n",
       "      <td>-0.001111</td>\n",
       "      <td>0.004326</td>\n",
       "      <td>0.027795</td>\n",
       "      <td>-0.005288</td>\n",
       "      <td>0.023174</td>\n",
       "      <td>-0.021917</td>\n",
       "    </tr>\n",
       "    <tr>\n",
       "      <th>2021-02-24</th>\n",
       "      <td>-0.004052</td>\n",
       "      <td>-0.010947</td>\n",
       "      <td>0.002131</td>\n",
       "      <td>0.005487</td>\n",
       "      <td>0.013293</td>\n",
       "      <td>0.061788</td>\n",
       "    </tr>\n",
       "    <tr>\n",
       "      <th>2021-02-25</th>\n",
       "      <td>-0.034783</td>\n",
       "      <td>-0.032400</td>\n",
       "      <td>-0.033062</td>\n",
       "      <td>-0.023705</td>\n",
       "      <td>-0.012125</td>\n",
       "      <td>-0.080591</td>\n",
       "    </tr>\n",
       "  </tbody>\n",
       "</table>\n",
       "<p>126 rows × 6 columns</p>\n",
       "</div>"
      ],
      "text/plain": [
       "                AAPL      AMZN       DIS      MSFT      NFLX      TSLA\n",
       "Date                                                                  \n",
       "2020-08-26  0.013599  0.028496  0.018414  0.021620  0.116087  0.064166\n",
       "2020-08-27 -0.011954 -0.012159  0.011726  0.024554 -0.038829  0.039746\n",
       "2020-08-28 -0.001620  0.000529  0.013535  0.010283 -0.004522 -0.011323\n",
       "2020-08-31  0.033912  0.014451 -0.027077 -0.014766  0.010823  0.125689\n",
       "2020-09-01  0.039833  0.013956  0.012740  0.007715  0.050967 -0.046697\n",
       "...              ...       ...       ...       ...       ...       ...\n",
       "2021-02-19  0.001234 -0.023535  0.003552 -0.011567 -0.014593 -0.007722\n",
       "2021-02-22 -0.029799 -0.021281  0.044160 -0.026808 -0.011921 -0.085499\n",
       "2021-02-23 -0.001111  0.004326  0.027795 -0.005288  0.023174 -0.021917\n",
       "2021-02-24 -0.004052 -0.010947  0.002131  0.005487  0.013293  0.061788\n",
       "2021-02-25 -0.034783 -0.032400 -0.033062 -0.023705 -0.012125 -0.080591\n",
       "\n",
       "[126 rows x 6 columns]"
      ]
     },
     "execution_count": 6,
     "metadata": {},
     "output_type": "execute_result"
    }
   ],
   "source": [
    "# reformat the data\n",
    "stock_prices_format = stockPrices.set_index(['Date', 'Firm']).unstack()   # change format so that date and each company are columns\n",
    "stock_prices_format.columns = tickers\n",
    "stock_prices_pct_change = stock_prices_format.pct_change()[1:]\n",
    "stock_prices_pct_change"
   ]
  },
  {
   "cell_type": "code",
   "execution_count": null,
   "id": "greenhouse-bidding",
   "metadata": {},
   "outputs": [],
   "source": []
  },
  {
   "cell_type": "code",
   "execution_count": null,
   "id": "purple-pocket",
   "metadata": {},
   "outputs": [],
   "source": []
  },
  {
   "cell_type": "code",
   "execution_count": 7,
   "id": "oriental-inspiration",
   "metadata": {},
   "outputs": [],
   "source": [
    "# get the different number of stocks and the number of stock prices \n",
    "num_stocks = len(tickers)   # the number of stocks\n",
    "prices_per_stock = stock_prices_format.shape[0]   # the number of stock prices"
   ]
  },
  {
   "cell_type": "code",
   "execution_count": 8,
   "id": "vocational-childhood",
   "metadata": {},
   "outputs": [
    {
     "data": {
      "text/plain": [
       "array([[ 5.59896290e-04,  3.73559102e-04,  4.32429540e-05,\n",
       "         3.05618601e-04,  3.38402256e-04,  5.54343292e-04],\n",
       "       [ 3.73559102e-04,  4.41159509e-04,  5.04481211e-05,\n",
       "         3.06976679e-04,  3.98375581e-04,  4.11422252e-04],\n",
       "       [ 4.32429540e-05,  5.04481211e-05,  5.77167770e-04,\n",
       "         8.61969935e-05,  1.64317959e-05, -3.94774403e-05],\n",
       "       [ 3.05618601e-04,  3.06976679e-04,  8.61969935e-05,\n",
       "         3.32178259e-04,  2.66808739e-04,  3.76651700e-04],\n",
       "       [ 3.38402256e-04,  3.98375581e-04,  1.64317959e-05,\n",
       "         2.66808739e-04,  9.12232700e-04,  4.15956589e-04],\n",
       "       [ 5.54343292e-04,  4.11422252e-04, -3.94774403e-05,\n",
       "         3.76651700e-04,  4.15956589e-04,  2.22980118e-03]])"
      ]
     },
     "execution_count": 8,
     "metadata": {},
     "output_type": "execute_result"
    }
   ],
   "source": [
    "# get the covariance matrix\n",
    "cov_matr = np.cov(np.array(stock_prices_pct_change.iloc[:,range(0,num_stocks)].T))   # get the columns and transpose it so it is in right format, then turn it into covariance matrix\n",
    "#corr_matr = stock_prices_pct_change.corr()\n",
    "cov_matr"
   ]
  },
  {
   "cell_type": "code",
   "execution_count": 9,
   "id": "naked-grenada",
   "metadata": {},
   "outputs": [
    {
     "data": {
      "text/plain": [
       "array([ 5.71133153e-05, -4.98897312e-04,  3.34623847e-03,  6.51091710e-04,\n",
       "        1.30126183e-03,  5.28170546e-03])"
      ]
     },
     "execution_count": 9,
     "metadata": {},
     "output_type": "execute_result"
    }
   ],
   "source": [
    "# get the mean price for each stock\n",
    "\n",
    "means = np.array(stock_prices_pct_change.mean().to_list())    # get means for each column, convert to a list, convert to a numpy array\n",
    "means"
   ]
  },
  {
   "cell_type": "code",
   "execution_count": 65,
   "id": "missing-radical",
   "metadata": {},
   "outputs": [],
   "source": [
    "# set the risk level\n",
    "risk_level = 1   # risk loving < 0; risk neutral = 0; risk averse > 0"
   ]
  },
  {
   "cell_type": "code",
   "execution_count": 11,
   "id": "ideal-footage",
   "metadata": {},
   "outputs": [],
   "source": [
    "# set an intial value for the weights\n",
    "weights = np.array([1/num_stocks]*num_stocks) # set an initial value for the weights, which is an even composition"
   ]
  },
  {
   "cell_type": "markdown",
   "id": "chubby-hanging",
   "metadata": {},
   "source": [
    "### At this point, we have the following information:\n",
    " - **\"tickers\"** is a list of the tickers, and it is in alphabetical order\n",
    " - **\"num_stocks\"** is the number of different stocks\n",
    " - **\"prices_per_stock\"** is the different number of observations/the different number of stock prices obtained\n",
    "\n",
    "For the Optimization:\n",
    " - **\"cov_matr\"** is the covariance matrix\n",
    " - **\"means\"** is a numpy array that consists of the means of each stock price during the time frame **(in alphabetical order of the tickers)**\n",
    " - **\"risk_level\"** is the risk level\n",
    " - **\"weights\"** is a numpy array that consists of the initial value for the weights, which is just an even composition and will be changed later **(in alphabetical order of the tickers)**"
   ]
  },
  {
   "cell_type": "code",
   "execution_count": 66,
   "id": "alive-torture",
   "metadata": {},
   "outputs": [
    {
     "name": "stdout",
     "output_type": "stream",
     "text": [
      "0.0035937398363597435\n"
     ]
    },
    {
     "data": {
      "text/html": [
       "<div>\n",
       "<style scoped>\n",
       "    .dataframe tbody tr th:only-of-type {\n",
       "        vertical-align: middle;\n",
       "    }\n",
       "\n",
       "    .dataframe tbody tr th {\n",
       "        vertical-align: top;\n",
       "    }\n",
       "\n",
       "    .dataframe thead th {\n",
       "        text-align: right;\n",
       "    }\n",
       "</style>\n",
       "<table border=\"1\" class=\"dataframe\">\n",
       "  <thead>\n",
       "    <tr style=\"text-align: right;\">\n",
       "      <th></th>\n",
       "      <th>stock</th>\n",
       "      <th>weights</th>\n",
       "    </tr>\n",
       "  </thead>\n",
       "  <tbody>\n",
       "    <tr>\n",
       "      <th>0</th>\n",
       "      <td>AAPL</td>\n",
       "      <td>0.002650</td>\n",
       "    </tr>\n",
       "    <tr>\n",
       "      <th>1</th>\n",
       "      <td>AMZN</td>\n",
       "      <td>0.002229</td>\n",
       "    </tr>\n",
       "    <tr>\n",
       "      <th>2</th>\n",
       "      <td>DIS</td>\n",
       "      <td>0.491988</td>\n",
       "    </tr>\n",
       "    <tr>\n",
       "      <th>3</th>\n",
       "      <td>MSFT</td>\n",
       "      <td>0.003388</td>\n",
       "    </tr>\n",
       "    <tr>\n",
       "      <th>4</th>\n",
       "      <td>NFLX</td>\n",
       "      <td>0.005351</td>\n",
       "    </tr>\n",
       "    <tr>\n",
       "      <th>5</th>\n",
       "      <td>TSLA</td>\n",
       "      <td>0.494393</td>\n",
       "    </tr>\n",
       "  </tbody>\n",
       "</table>\n",
       "</div>"
      ],
      "text/plain": [
       "  stock   weights\n",
       "0  AAPL  0.002650\n",
       "1  AMZN  0.002229\n",
       "2   DIS  0.491988\n",
       "3  MSFT  0.003388\n",
       "4  NFLX  0.005351\n",
       "5  TSLA  0.494393"
      ]
     },
     "execution_count": 66,
     "metadata": {},
     "output_type": "execute_result"
    }
   ],
   "source": [
    "# perform the optimization!\n",
    "lin_constr = opt.LinearConstraint([1]*num_stocks, [1], [1])    # sum of all values are greater than or equal to 1 and less than or equal to 1, so the sum has to be equal to 1\n",
    "bounds = opt.Bounds([0]*num_stocks, [0.5]*num_stocks)    # each portfolio weight is greater than 0 and less than 0.5\n",
    "result = opt.minimize(obj, x0=[1/num_stocks]*num_stocks, method=\"trust-constr\", constraints = lin_constr, bounds=bounds)    # actually perform the optimization\n",
    "\n",
    "\n",
    "optimal_weights = pd.DataFrame({'stock': tickers, 'weights': result.x.tolist()})\n",
    "optimal_weights\n",
    "#sum(optimal_weights['weights'])\n",
    "np.dot(optimal_weights[\"weights\"],means) - (np.matmul(np.matmul(np.transpose(np.array(optimal_weights[\"weights\"])), cov_matr), np.array(optimal_weights[\"weights\"])))\n",
    "\n",
    "print(-1*result.fun) \n",
    "optimal_weights\n",
    "#print(result.x) "
   ]
  },
  {
   "cell_type": "code",
   "execution_count": 67,
   "id": "statewide-encyclopedia",
   "metadata": {},
   "outputs": [
    {
     "name": "stdout",
     "output_type": "stream",
     "text": [
      "Date\n",
      "2020-08-26    0.041577\n",
      "2020-08-27    0.025236\n",
      "2020-08-28    0.001068\n",
      "2020-08-31    0.048948\n",
      "2020-09-01   -0.016383\n",
      "                ...   \n",
      "2021-02-19   -0.002237\n",
      "2021-02-22   -0.020825\n",
      "2021-02-23    0.002952\n",
      "2021-02-24    0.031651\n",
      "2021-02-25   -0.056419\n",
      "Length: 126, dtype: float64\n",
      "\n",
      "\n",
      " 0.16455298468054466    0.004265757747744657    0.02592330826466622\n"
     ]
    }
   ],
   "source": [
    "opt_wghts = np.array(optimal_weights.set_index('stock')).flatten()\n",
    "\n",
    "weighted_rets = opt_wghts * stock_prices_pct_change\n",
    "weighted_rets\n",
    "\n",
    "port_rets = weighted_rets.sum(axis=1)#axis =1 tels pandas to add the rows \n",
    "print(port_rets)\n",
    "\n",
    "mean_ret = port_rets.mean()\n",
    "std_ret = port_rets.std()\n",
    "sharpe = mean_ret/std_ret\n",
    "print(\"\\n\\n\", sharpe, \"  \", mean_ret, \"  \", std_ret)\n"
   ]
  },
  {
   "cell_type": "markdown",
   "id": "psychological-tooth",
   "metadata": {},
   "source": [
    "Next steps:\n",
    "- Tweak the model to use the predicted prices instead of historical prices\n",
    "- Test to see how well the portfolio works\n",
    "    - Active share\n",
    "        - take proportion from an existing index and tweak weights\n",
    "    - Compare to performance of S&P 500 or something like that\n",
    "    - Can create a graph to visualize the data\n",
    "    - Calculate the information ratio\n",
    "- Figure out how to add a Conditional Value at Risk measure\n",
    "- Explore Nested Clustered Optimization\n",
    "- Could incorporate elements from stochastic calculus about estimating stock prices"
   ]
  },
  {
   "cell_type": "code",
   "execution_count": 28,
   "id": "becoming-accreditation",
   "metadata": {},
   "outputs": [],
   "source": [
    "#!pip install PyPortfolioOpt #need to install C++ first by doing (xcode-select --install) in terminal \n",
    "\n",
    "#LINK to article: https://towardsdatascience.com/automating-portfolio-optimization-using-python-9f344b9380b9#"
   ]
  },
  {
   "cell_type": "code",
   "execution_count": 23,
   "id": "fifty-library",
   "metadata": {},
   "outputs": [],
   "source": [
    "from pypfopt.efficient_frontier import EfficientFrontier\n",
    "from pypfopt import risk_models\n",
    "from pypfopt import expected_returns\n",
    "from pypfopt.cla import CLA\n",
    "from pypfopt import plotting\n",
    "from matplotlib.ticker import FuncFormatter\n",
    "import matplotlib.pyplot as plt\n",
    "import numpy as np\n",
    "import pandas as pd\n",
    "import pandas_datareader as web\n",
    "from matplotlib.ticker import FuncFormatter"
   ]
  },
  {
   "cell_type": "code",
   "execution_count": null,
   "id": "opened-ladder",
   "metadata": {},
   "outputs": [],
   "source": []
  },
  {
   "cell_type": "code",
   "execution_count": 24,
   "id": "respiratory-marine",
   "metadata": {},
   "outputs": [
    {
     "name": "stdout",
     "output_type": "stream",
     "text": [
      "AAPL    0\n",
      "AMZN    0\n",
      "DIS     0\n",
      "MSFT    0\n",
      "NFLX    0\n",
      "TSLA    0\n",
      "dtype: int64\n"
     ]
    }
   ],
   "source": [
    "nullin_df = pd.DataFrame(stock_prices_format)\n",
    "print(nullin_df.isnull().sum()) #no null values (good!)\n",
    " "
   ]
  },
  {
   "cell_type": "code",
   "execution_count": 25,
   "id": "smart-participant",
   "metadata": {},
   "outputs": [],
   "source": [
    "#Annualized Return\n",
    "mu = expected_returns.mean_historical_return(stock_prices_format)\n",
    "#Sample Variance of Portfolio\n",
    "Sigma = risk_models.sample_cov(stock_prices_format)\n",
    "\n",
    "\n",
    "#mu = stock_returns.mean()    # get means for each column, convert to a list, convert to a numpy array\n",
    "#print(exp_returns)\n",
    "\n",
    "#Sigma = np.cov(np.array(stock_returns.iloc[:,range(0,len(tickers))].T))   # get the columns and transpose it so it is in right format, then turn it into covariance matrix\n",
    "#Sigma = pd.DataFrame(cov_matr,columns=tickers)\n",
    "\n"
   ]
  },
  {
   "cell_type": "code",
   "execution_count": 26,
   "id": "brutal-philip",
   "metadata": {},
   "outputs": [
    {
     "name": "stdout",
     "output_type": "stream",
     "text": [
      "AAPL   -0.054438\n",
      "AMZN   -0.165441\n",
      "DIS     1.165177\n",
      "MSFT    0.130074\n",
      "NFLX    0.241877\n",
      "TSLA    1.842177\n",
      "dtype: float64 \n",
      "\n",
      "           AAPL      AMZN       DIS      MSFT      NFLX      TSLA\n",
      "AAPL  0.141094  0.094137  0.010897  0.077016  0.085277  0.139695\n",
      "AMZN  0.094137  0.111172  0.012713  0.077358  0.100391  0.103678\n",
      "DIS   0.010897  0.012713  0.145446  0.021722  0.004141 -0.009948\n",
      "MSFT  0.077016  0.077358  0.021722  0.083709  0.067236  0.094916\n",
      "NFLX  0.085277  0.100391  0.004141  0.067236  0.229883  0.104821\n",
      "TSLA  0.139695  0.103678 -0.009948  0.094916  0.104821  0.561910\n"
     ]
    }
   ],
   "source": [
    "print(mu,\"\\n\\n\",Sigma)\n",
    "#Sigma\n",
    "#mu\n"
   ]
  },
  {
   "cell_type": "code",
   "execution_count": 19,
   "id": "compressed-tunnel",
   "metadata": {},
   "outputs": [],
   "source": [
    "# #why doesn't this match up?\n",
    "# stock_firm = stockPrices.groupby(['Firm'])['ret'].mean()\n",
    "# stock_firm"
   ]
  },
  {
   "cell_type": "code",
   "execution_count": 27,
   "id": "reserved-classification",
   "metadata": {},
   "outputs": [
    {
     "name": "stdout",
     "output_type": "stream",
     "text": [
      "OrderedDict([('AAPL', 0.0), ('AMZN', 0.0), ('DIS', 0.5), ('MSFT', 0.00984), ('NFLX', 0.09967), ('TSLA', 0.39049)])\n"
     ]
    }
   ],
   "source": [
    "#Max Sharpe Ratio - Tangent to the EF\n",
    "ef = EfficientFrontier(mu, Sigma, weight_bounds=(0,0.5)) #weight bounds in negative allows shorting of stocks\n",
    "sharpe_pfolio=ef.max_sharpe() #May use add objective to ensure minimum zero weighting to individual stocks\n",
    "sharpe_pwt=ef.clean_weights()\n",
    "print(sharpe_pwt)"
   ]
  },
  {
   "cell_type": "code",
   "execution_count": 28,
   "id": "norman-delay",
   "metadata": {},
   "outputs": [
    {
     "data": {
      "text/plain": [
       "OrderedDict([('AAPL', 0.0),\n",
       "             ('AMZN', 0.0),\n",
       "             ('DIS', 0.5),\n",
       "             ('MSFT', 0.0098416639777681),\n",
       "             ('NFLX', 0.0996682170432335),\n",
       "             ('TSLA', 0.3904901189789986)])"
      ]
     },
     "execution_count": 28,
     "metadata": {},
     "output_type": "execute_result"
    }
   ],
   "source": [
    "sharpe_pfolio"
   ]
  },
  {
   "cell_type": "code",
   "execution_count": null,
   "id": "premier-connection",
   "metadata": {},
   "outputs": [],
   "source": []
  },
  {
   "cell_type": "code",
   "execution_count": 29,
   "id": "fallen-trinidad",
   "metadata": {},
   "outputs": [
    {
     "data": {
      "text/html": [
       "<div>\n",
       "<style scoped>\n",
       "    .dataframe tbody tr th:only-of-type {\n",
       "        vertical-align: middle;\n",
       "    }\n",
       "\n",
       "    .dataframe tbody tr th {\n",
       "        vertical-align: top;\n",
       "    }\n",
       "\n",
       "    .dataframe thead th {\n",
       "        text-align: right;\n",
       "    }\n",
       "</style>\n",
       "<table border=\"1\" class=\"dataframe\">\n",
       "  <thead>\n",
       "    <tr style=\"text-align: right;\">\n",
       "      <th></th>\n",
       "      <th>stock</th>\n",
       "      <th>weights</th>\n",
       "    </tr>\n",
       "  </thead>\n",
       "  <tbody>\n",
       "    <tr>\n",
       "      <th>0</th>\n",
       "      <td>AAPL</td>\n",
       "      <td>0.002650</td>\n",
       "    </tr>\n",
       "    <tr>\n",
       "      <th>1</th>\n",
       "      <td>AMZN</td>\n",
       "      <td>0.002229</td>\n",
       "    </tr>\n",
       "    <tr>\n",
       "      <th>2</th>\n",
       "      <td>DIS</td>\n",
       "      <td>0.491988</td>\n",
       "    </tr>\n",
       "    <tr>\n",
       "      <th>3</th>\n",
       "      <td>MSFT</td>\n",
       "      <td>0.003388</td>\n",
       "    </tr>\n",
       "    <tr>\n",
       "      <th>4</th>\n",
       "      <td>NFLX</td>\n",
       "      <td>0.005351</td>\n",
       "    </tr>\n",
       "    <tr>\n",
       "      <th>5</th>\n",
       "      <td>TSLA</td>\n",
       "      <td>0.494393</td>\n",
       "    </tr>\n",
       "  </tbody>\n",
       "</table>\n",
       "</div>"
      ],
      "text/plain": [
       "  stock   weights\n",
       "0  AAPL  0.002650\n",
       "1  AMZN  0.002229\n",
       "2   DIS  0.491988\n",
       "3  MSFT  0.003388\n",
       "4  NFLX  0.005351\n",
       "5  TSLA  0.494393"
      ]
     },
     "execution_count": 29,
     "metadata": {},
     "output_type": "execute_result"
    }
   ],
   "source": [
    "optimal_weights"
   ]
  },
  {
   "cell_type": "code",
   "execution_count": null,
   "id": "occupied-thousand",
   "metadata": {},
   "outputs": [],
   "source": []
  },
  {
   "cell_type": "code",
   "execution_count": null,
   "id": "awful-eagle",
   "metadata": {},
   "outputs": [],
   "source": []
  },
  {
   "cell_type": "code",
   "execution_count": 30,
   "id": "durable-ecology",
   "metadata": {},
   "outputs": [
    {
     "data": {
      "text/html": [
       "<div>\n",
       "<style scoped>\n",
       "    .dataframe tbody tr th:only-of-type {\n",
       "        vertical-align: middle;\n",
       "    }\n",
       "\n",
       "    .dataframe tbody tr th {\n",
       "        vertical-align: top;\n",
       "    }\n",
       "\n",
       "    .dataframe thead th {\n",
       "        text-align: right;\n",
       "    }\n",
       "</style>\n",
       "<table border=\"1\" class=\"dataframe\">\n",
       "  <thead>\n",
       "    <tr style=\"text-align: right;\">\n",
       "      <th></th>\n",
       "      <th>AAPL</th>\n",
       "      <th>AMZN</th>\n",
       "      <th>DIS</th>\n",
       "      <th>MSFT</th>\n",
       "      <th>NFLX</th>\n",
       "      <th>TSLA</th>\n",
       "    </tr>\n",
       "    <tr>\n",
       "      <th>Date</th>\n",
       "      <th></th>\n",
       "      <th></th>\n",
       "      <th></th>\n",
       "      <th></th>\n",
       "      <th></th>\n",
       "      <th></th>\n",
       "    </tr>\n",
       "  </thead>\n",
       "  <tbody>\n",
       "    <tr>\n",
       "      <th>2020-08-26</th>\n",
       "      <td>0.013599</td>\n",
       "      <td>0.028496</td>\n",
       "      <td>0.018414</td>\n",
       "      <td>0.021620</td>\n",
       "      <td>0.116087</td>\n",
       "      <td>0.064166</td>\n",
       "    </tr>\n",
       "    <tr>\n",
       "      <th>2020-08-27</th>\n",
       "      <td>-0.011954</td>\n",
       "      <td>-0.012159</td>\n",
       "      <td>0.011726</td>\n",
       "      <td>0.024554</td>\n",
       "      <td>-0.038829</td>\n",
       "      <td>0.039746</td>\n",
       "    </tr>\n",
       "    <tr>\n",
       "      <th>2020-08-28</th>\n",
       "      <td>-0.001620</td>\n",
       "      <td>0.000529</td>\n",
       "      <td>0.013535</td>\n",
       "      <td>0.010283</td>\n",
       "      <td>-0.004522</td>\n",
       "      <td>-0.011323</td>\n",
       "    </tr>\n",
       "    <tr>\n",
       "      <th>2020-08-31</th>\n",
       "      <td>0.033912</td>\n",
       "      <td>0.014451</td>\n",
       "      <td>-0.027077</td>\n",
       "      <td>-0.014766</td>\n",
       "      <td>0.010823</td>\n",
       "      <td>0.125689</td>\n",
       "    </tr>\n",
       "    <tr>\n",
       "      <th>2020-09-01</th>\n",
       "      <td>0.039833</td>\n",
       "      <td>0.013956</td>\n",
       "      <td>0.012740</td>\n",
       "      <td>0.007715</td>\n",
       "      <td>0.050967</td>\n",
       "      <td>-0.046697</td>\n",
       "    </tr>\n",
       "    <tr>\n",
       "      <th>...</th>\n",
       "      <td>...</td>\n",
       "      <td>...</td>\n",
       "      <td>...</td>\n",
       "      <td>...</td>\n",
       "      <td>...</td>\n",
       "      <td>...</td>\n",
       "    </tr>\n",
       "    <tr>\n",
       "      <th>2021-02-19</th>\n",
       "      <td>0.001234</td>\n",
       "      <td>-0.023535</td>\n",
       "      <td>0.003552</td>\n",
       "      <td>-0.011567</td>\n",
       "      <td>-0.014593</td>\n",
       "      <td>-0.007722</td>\n",
       "    </tr>\n",
       "    <tr>\n",
       "      <th>2021-02-22</th>\n",
       "      <td>-0.029799</td>\n",
       "      <td>-0.021281</td>\n",
       "      <td>0.044160</td>\n",
       "      <td>-0.026808</td>\n",
       "      <td>-0.011921</td>\n",
       "      <td>-0.085499</td>\n",
       "    </tr>\n",
       "    <tr>\n",
       "      <th>2021-02-23</th>\n",
       "      <td>-0.001111</td>\n",
       "      <td>0.004326</td>\n",
       "      <td>0.027795</td>\n",
       "      <td>-0.005288</td>\n",
       "      <td>0.023174</td>\n",
       "      <td>-0.021917</td>\n",
       "    </tr>\n",
       "    <tr>\n",
       "      <th>2021-02-24</th>\n",
       "      <td>-0.004052</td>\n",
       "      <td>-0.010947</td>\n",
       "      <td>0.002131</td>\n",
       "      <td>0.005487</td>\n",
       "      <td>0.013293</td>\n",
       "      <td>0.061788</td>\n",
       "    </tr>\n",
       "    <tr>\n",
       "      <th>2021-02-25</th>\n",
       "      <td>-0.034783</td>\n",
       "      <td>-0.032400</td>\n",
       "      <td>-0.033062</td>\n",
       "      <td>-0.023705</td>\n",
       "      <td>-0.012125</td>\n",
       "      <td>-0.080591</td>\n",
       "    </tr>\n",
       "  </tbody>\n",
       "</table>\n",
       "<p>126 rows × 6 columns</p>\n",
       "</div>"
      ],
      "text/plain": [
       "                AAPL      AMZN       DIS      MSFT      NFLX      TSLA\n",
       "Date                                                                  \n",
       "2020-08-26  0.013599  0.028496  0.018414  0.021620  0.116087  0.064166\n",
       "2020-08-27 -0.011954 -0.012159  0.011726  0.024554 -0.038829  0.039746\n",
       "2020-08-28 -0.001620  0.000529  0.013535  0.010283 -0.004522 -0.011323\n",
       "2020-08-31  0.033912  0.014451 -0.027077 -0.014766  0.010823  0.125689\n",
       "2020-09-01  0.039833  0.013956  0.012740  0.007715  0.050967 -0.046697\n",
       "...              ...       ...       ...       ...       ...       ...\n",
       "2021-02-19  0.001234 -0.023535  0.003552 -0.011567 -0.014593 -0.007722\n",
       "2021-02-22 -0.029799 -0.021281  0.044160 -0.026808 -0.011921 -0.085499\n",
       "2021-02-23 -0.001111  0.004326  0.027795 -0.005288  0.023174 -0.021917\n",
       "2021-02-24 -0.004052 -0.010947  0.002131  0.005487  0.013293  0.061788\n",
       "2021-02-25 -0.034783 -0.032400 -0.033062 -0.023705 -0.012125 -0.080591\n",
       "\n",
       "[126 rows x 6 columns]"
      ]
     },
     "execution_count": 30,
     "metadata": {},
     "output_type": "execute_result"
    }
   ],
   "source": [
    "stock_returns = stock_prices_format.pct_change()[1:]\n",
    "stock_returns\n",
    "\n",
    "weighted_returns = weights * stock_returns\n",
    "stock_returns"
   ]
  },
  {
   "cell_type": "code",
   "execution_count": 31,
   "id": "clean-bankruptcy",
   "metadata": {},
   "outputs": [
    {
     "data": {
      "text/plain": [
       "Date\n",
       "2020-08-26    0.043730\n",
       "2020-08-27    0.002181\n",
       "2020-08-28    0.001147\n",
       "2020-08-31    0.023839\n",
       "2020-09-01    0.013086\n",
       "                ...   \n",
       "2021-02-19   -0.008772\n",
       "2021-02-22   -0.021858\n",
       "2021-02-23    0.004497\n",
       "2021-02-24    0.011283\n",
       "2021-02-25   -0.036111\n",
       "Length: 126, dtype: float64"
      ]
     },
     "execution_count": 31,
     "metadata": {},
     "output_type": "execute_result"
    }
   ],
   "source": [
    "#port returns are the sum of the weighted returns \n",
    "\n",
    "port_ret = weighted_returns.sum(axis=1)#axis =1 tels pandas to add the rows \n",
    "port_ret"
   ]
  },
  {
   "cell_type": "code",
   "execution_count": 32,
   "id": "welsh-consultation",
   "metadata": {},
   "outputs": [
    {
     "data": {
      "text/plain": [
       "0.08939518325928911"
      ]
     },
     "execution_count": 32,
     "metadata": {},
     "output_type": "execute_result"
    }
   ],
   "source": [
    "#Portfolio statistics (equal weighted)\n",
    "mean_ret = port_ret.mean()\n",
    "std_ret = port_ret.std()\n",
    "sharpe = mean_ret/std_ret\n",
    "sharpe\n",
    "\n",
    "#std_ret\n",
    "#mean_ret\n",
    "\n"
   ]
  },
  {
   "cell_type": "code",
   "execution_count": 39,
   "id": "front-executive",
   "metadata": {},
   "outputs": [
    {
     "data": {
      "text/plain": [
       "Date\n",
       "2020-08-26    0.041577\n",
       "2020-08-27    0.025236\n",
       "2020-08-28    0.001068\n",
       "2020-08-31    0.048948\n",
       "2020-09-01   -0.016383\n",
       "                ...   \n",
       "2021-02-19   -0.002237\n",
       "2021-02-22   -0.020825\n",
       "2021-02-23    0.002952\n",
       "2021-02-24    0.031651\n",
       "2021-02-25   -0.056419\n",
       "Length: 126, dtype: float64"
      ]
     },
     "execution_count": 39,
     "metadata": {},
     "output_type": "execute_result"
    }
   ],
   "source": [
    "opt_weights = optimal_weights['weights'].to_list()\n",
    "weighted_ret_opt = opt_weights * stock_returns\n",
    "weighted_ret_opt\n",
    "\n",
    "port_ret_opt = weighted_ret_opt.sum(axis=1)#axis =1 tels pandas to add the rows \n",
    "port_ret_opt"
   ]
  },
  {
   "cell_type": "code",
   "execution_count": 40,
   "id": "municipal-vietnam",
   "metadata": {},
   "outputs": [
    {
     "name": "stdout",
     "output_type": "stream",
     "text": [
      "mean diff: 0.0026 sigma diff: 0.007\n",
      "sharpe ratio equ weight: 0.0894, sharpe ratio optimal weight: 0.1646\n",
      "sharpe ratio diff: 0.0752\n"
     ]
    }
   ],
   "source": [
    "#Portfolio statistics (optimally weighted)\n",
    "mean_ret_opt = port_ret_opt.mean()\n",
    "std_ret_opt = port_ret_opt.std()\n",
    "#std_ret\n",
    "#mean_ret\n",
    "sharpe_opt = mean_ret_opt/std_ret_opt\n",
    "\n",
    "mean_diff = mean_ret_opt - mean_ret #want this number to be '+'\n",
    "sigma_diff = std_ret_opt - std_ret #want this number to be '-' (but doesn't have to be)\n",
    "\n",
    "sharpe_diff = sharpe_opt - sharpe #DEFINITELY want this number to be '+'\n",
    "print('mean diff: ' + str((round(mean_diff, 4))) + ' sigma diff: ' + str(round(sigma_diff,4)))\n",
    "print(\"sharpe ratio equ weight: \" + str(round(sharpe,4)) + \", sharpe ratio optimal weight: \" + str(round(sharpe_opt,4)))\n",
    "print('sharpe ratio diff: ' + str(round(sharpe_diff,4)))\n"
   ]
  },
  {
   "cell_type": "code",
   "execution_count": null,
   "id": "solved-television",
   "metadata": {},
   "outputs": [],
   "source": []
  },
  {
   "cell_type": "code",
   "execution_count": null,
   "id": "arbitrary-taste",
   "metadata": {},
   "outputs": [],
   "source": []
  },
  {
   "cell_type": "code",
   "execution_count": null,
   "id": "confused-plastic",
   "metadata": {},
   "outputs": [],
   "source": []
  },
  {
   "cell_type": "code",
   "execution_count": null,
   "id": "frank-external",
   "metadata": {},
   "outputs": [],
   "source": []
  },
  {
   "cell_type": "code",
   "execution_count": null,
   "id": "portuguese-integer",
   "metadata": {},
   "outputs": [],
   "source": []
  },
  {
   "cell_type": "code",
   "execution_count": null,
   "id": "early-talent",
   "metadata": {},
   "outputs": [],
   "source": []
  },
  {
   "cell_type": "code",
   "execution_count": null,
   "id": "dietary-pepper",
   "metadata": {},
   "outputs": [],
   "source": []
  },
  {
   "cell_type": "code",
   "execution_count": 102,
   "id": "imposed-river",
   "metadata": {},
   "outputs": [
    {
     "data": {
      "text/html": [
       "<div>\n",
       "<style scoped>\n",
       "    .dataframe tbody tr th:only-of-type {\n",
       "        vertical-align: middle;\n",
       "    }\n",
       "\n",
       "    .dataframe tbody tr th {\n",
       "        vertical-align: top;\n",
       "    }\n",
       "\n",
       "    .dataframe thead th {\n",
       "        text-align: right;\n",
       "    }\n",
       "</style>\n",
       "<table border=\"1\" class=\"dataframe\">\n",
       "  <thead>\n",
       "    <tr style=\"text-align: right;\">\n",
       "      <th></th>\n",
       "      <th>AAPL</th>\n",
       "      <th>AMZN</th>\n",
       "      <th>DIS</th>\n",
       "      <th>MSFT</th>\n",
       "      <th>NFLX</th>\n",
       "      <th>TSLA</th>\n",
       "    </tr>\n",
       "    <tr>\n",
       "      <th>Date</th>\n",
       "      <th></th>\n",
       "      <th></th>\n",
       "      <th></th>\n",
       "      <th></th>\n",
       "      <th></th>\n",
       "      <th></th>\n",
       "    </tr>\n",
       "  </thead>\n",
       "  <tbody>\n",
       "    <tr>\n",
       "      <th>2020-08-26</th>\n",
       "      <td>0.013599</td>\n",
       "      <td>0.028496</td>\n",
       "      <td>0.018414</td>\n",
       "      <td>0.021620</td>\n",
       "      <td>0.116087</td>\n",
       "      <td>0.064166</td>\n",
       "    </tr>\n",
       "    <tr>\n",
       "      <th>2020-08-27</th>\n",
       "      <td>-0.011954</td>\n",
       "      <td>-0.012159</td>\n",
       "      <td>0.011726</td>\n",
       "      <td>0.024554</td>\n",
       "      <td>-0.038829</td>\n",
       "      <td>0.039746</td>\n",
       "    </tr>\n",
       "    <tr>\n",
       "      <th>2020-08-28</th>\n",
       "      <td>-0.001620</td>\n",
       "      <td>0.000529</td>\n",
       "      <td>0.013535</td>\n",
       "      <td>0.010283</td>\n",
       "      <td>-0.004522</td>\n",
       "      <td>-0.011323</td>\n",
       "    </tr>\n",
       "    <tr>\n",
       "      <th>2020-08-31</th>\n",
       "      <td>0.033912</td>\n",
       "      <td>0.014451</td>\n",
       "      <td>-0.027077</td>\n",
       "      <td>-0.014766</td>\n",
       "      <td>0.010823</td>\n",
       "      <td>0.125689</td>\n",
       "    </tr>\n",
       "    <tr>\n",
       "      <th>2020-09-01</th>\n",
       "      <td>0.039833</td>\n",
       "      <td>0.013956</td>\n",
       "      <td>0.012740</td>\n",
       "      <td>0.007715</td>\n",
       "      <td>0.050967</td>\n",
       "      <td>-0.046697</td>\n",
       "    </tr>\n",
       "    <tr>\n",
       "      <th>...</th>\n",
       "      <td>...</td>\n",
       "      <td>...</td>\n",
       "      <td>...</td>\n",
       "      <td>...</td>\n",
       "      <td>...</td>\n",
       "      <td>...</td>\n",
       "    </tr>\n",
       "    <tr>\n",
       "      <th>2021-02-19</th>\n",
       "      <td>0.001234</td>\n",
       "      <td>-0.023535</td>\n",
       "      <td>0.003552</td>\n",
       "      <td>-0.011567</td>\n",
       "      <td>-0.014593</td>\n",
       "      <td>-0.007722</td>\n",
       "    </tr>\n",
       "    <tr>\n",
       "      <th>2021-02-22</th>\n",
       "      <td>-0.029799</td>\n",
       "      <td>-0.021281</td>\n",
       "      <td>0.044160</td>\n",
       "      <td>-0.026808</td>\n",
       "      <td>-0.011921</td>\n",
       "      <td>-0.085499</td>\n",
       "    </tr>\n",
       "    <tr>\n",
       "      <th>2021-02-23</th>\n",
       "      <td>-0.001111</td>\n",
       "      <td>0.004326</td>\n",
       "      <td>0.027795</td>\n",
       "      <td>-0.005288</td>\n",
       "      <td>0.023174</td>\n",
       "      <td>-0.021917</td>\n",
       "    </tr>\n",
       "    <tr>\n",
       "      <th>2021-02-24</th>\n",
       "      <td>-0.004052</td>\n",
       "      <td>-0.010947</td>\n",
       "      <td>0.002131</td>\n",
       "      <td>0.005487</td>\n",
       "      <td>0.013293</td>\n",
       "      <td>0.061788</td>\n",
       "    </tr>\n",
       "    <tr>\n",
       "      <th>2021-02-25</th>\n",
       "      <td>-0.034783</td>\n",
       "      <td>-0.032400</td>\n",
       "      <td>-0.033062</td>\n",
       "      <td>-0.023705</td>\n",
       "      <td>-0.012125</td>\n",
       "      <td>-0.080591</td>\n",
       "    </tr>\n",
       "  </tbody>\n",
       "</table>\n",
       "<p>126 rows × 6 columns</p>\n",
       "</div>"
      ],
      "text/plain": [
       "                AAPL      AMZN       DIS      MSFT      NFLX      TSLA\n",
       "Date                                                                  \n",
       "2020-08-26  0.013599  0.028496  0.018414  0.021620  0.116087  0.064166\n",
       "2020-08-27 -0.011954 -0.012159  0.011726  0.024554 -0.038829  0.039746\n",
       "2020-08-28 -0.001620  0.000529  0.013535  0.010283 -0.004522 -0.011323\n",
       "2020-08-31  0.033912  0.014451 -0.027077 -0.014766  0.010823  0.125689\n",
       "2020-09-01  0.039833  0.013956  0.012740  0.007715  0.050967 -0.046697\n",
       "...              ...       ...       ...       ...       ...       ...\n",
       "2021-02-19  0.001234 -0.023535  0.003552 -0.011567 -0.014593 -0.007722\n",
       "2021-02-22 -0.029799 -0.021281  0.044160 -0.026808 -0.011921 -0.085499\n",
       "2021-02-23 -0.001111  0.004326  0.027795 -0.005288  0.023174 -0.021917\n",
       "2021-02-24 -0.004052 -0.010947  0.002131  0.005487  0.013293  0.061788\n",
       "2021-02-25 -0.034783 -0.032400 -0.033062 -0.023705 -0.012125 -0.080591\n",
       "\n",
       "[126 rows x 6 columns]"
      ]
     },
     "execution_count": 102,
     "metadata": {},
     "output_type": "execute_result"
    }
   ],
   "source": [
    "stock_returns"
   ]
  },
  {
   "cell_type": "code",
   "execution_count": null,
   "id": "informal-tucson",
   "metadata": {},
   "outputs": [],
   "source": []
  },
  {
   "cell_type": "code",
   "execution_count": 104,
   "id": "studied-luxury",
   "metadata": {},
   "outputs": [],
   "source": [
    "#Annualized Return\n",
    "exp_rets = expected_returns.mean_historical_return(stock_prices_format)\n",
    "#Sample Variance of Portfolio\n",
    "cov_matrix = risk_models.sample_cov(stock_prices_format)"
   ]
  },
  {
   "cell_type": "code",
   "execution_count": 105,
   "id": "future-austin",
   "metadata": {},
   "outputs": [
    {
     "data": {
      "text/plain": [
       "OrderedDict([('AAPL', 0.0),\n",
       "             ('AMZN', 0.0),\n",
       "             ('DIS', 0.5),\n",
       "             ('MSFT', 0.00984),\n",
       "             ('NFLX', 0.09967),\n",
       "             ('TSLA', 0.39049)])"
      ]
     },
     "execution_count": 105,
     "metadata": {},
     "output_type": "execute_result"
    }
   ],
   "source": [
    "ef = EfficientFrontier(exp_rets, cov_matrix, weight_bounds=(0,0.5)) #weight bounds in negative allows shorting of stocks\n",
    "sharpe_port=ef.max_sharpe() #May use add objective to ensure minimum zero weighting to individual stocks\n",
    "#sharpe_port\n",
    "sharpe_weights=ef.clean_weights()\n",
    "sharpe_weights\n"
   ]
  },
  {
   "cell_type": "code",
   "execution_count": 106,
   "id": "choice-surgeon",
   "metadata": {},
   "outputs": [],
   "source": [
    "weighted_returns = sharpe_weights * stock_returns\n",
    "#weighted_returns"
   ]
  },
  {
   "cell_type": "code",
   "execution_count": 107,
   "id": "occasional-exercise",
   "metadata": {},
   "outputs": [
    {
     "data": {
      "text/plain": [
       "Date\n",
       "2020-08-26    0.046047\n",
       "2020-08-27    0.017755\n",
       "2020-08-28    0.001996\n",
       "2020-08-31    0.036475\n",
       "2020-09-01   -0.006709\n",
       "                ...   \n",
       "2021-02-19   -0.002808\n",
       "2021-02-22   -0.012758\n",
       "2021-02-23    0.007597\n",
       "2021-02-24    0.026572\n",
       "2021-02-25   -0.049442\n",
       "Length: 126, dtype: float64"
      ]
     },
     "execution_count": 107,
     "metadata": {},
     "output_type": "execute_result"
    }
   ],
   "source": [
    "port_ret = weighted_returns.sum(axis=1)#axis =1 tels pandas to add the rows \n",
    "port_ret"
   ]
  },
  {
   "cell_type": "code",
   "execution_count": 108,
   "id": "molecular-nudist",
   "metadata": {},
   "outputs": [
    {
     "data": {
      "text/plain": [
       "0.17039838911847183"
      ]
     },
     "execution_count": 108,
     "metadata": {},
     "output_type": "execute_result"
    }
   ],
   "source": [
    "mean_ret = port_ret.mean()\n",
    "std_ret = port_ret.std()\n",
    "sharpe = mean_ret/std_ret\n",
    "sharpe\n"
   ]
  },
  {
   "cell_type": "code",
   "execution_count": null,
   "id": "smart-monitoring",
   "metadata": {},
   "outputs": [],
   "source": []
  },
  {
   "cell_type": "code",
   "execution_count": null,
   "id": "previous-paraguay",
   "metadata": {},
   "outputs": [],
   "source": []
  },
  {
   "cell_type": "code",
   "execution_count": 162,
   "id": "cloudy-homework",
   "metadata": {},
   "outputs": [
    {
     "data": {
      "text/html": [
       "<div>\n",
       "<style scoped>\n",
       "    .dataframe tbody tr th:only-of-type {\n",
       "        vertical-align: middle;\n",
       "    }\n",
       "\n",
       "    .dataframe tbody tr th {\n",
       "        vertical-align: top;\n",
       "    }\n",
       "\n",
       "    .dataframe thead th {\n",
       "        text-align: right;\n",
       "    }\n",
       "</style>\n",
       "<table border=\"1\" class=\"dataframe\">\n",
       "  <thead>\n",
       "    <tr style=\"text-align: right;\">\n",
       "      <th></th>\n",
       "      <th>AAPL_NN</th>\n",
       "      <th>COKE_NN</th>\n",
       "      <th>GOOGL_NN</th>\n",
       "    </tr>\n",
       "    <tr>\n",
       "      <th>Date</th>\n",
       "      <th></th>\n",
       "      <th></th>\n",
       "      <th></th>\n",
       "    </tr>\n",
       "  </thead>\n",
       "  <tbody>\n",
       "    <tr>\n",
       "      <th>2019-01</th>\n",
       "      <td>0.060652</td>\n",
       "      <td>-0.000458</td>\n",
       "      <td>0.021834</td>\n",
       "    </tr>\n",
       "    <tr>\n",
       "      <th>2019-02</th>\n",
       "      <td>-0.005493</td>\n",
       "      <td>-0.002889</td>\n",
       "      <td>-0.036394</td>\n",
       "    </tr>\n",
       "    <tr>\n",
       "      <th>2019-03</th>\n",
       "      <td>0.082441</td>\n",
       "      <td>-0.055919</td>\n",
       "      <td>0.041015</td>\n",
       "    </tr>\n",
       "    <tr>\n",
       "      <th>2019-04</th>\n",
       "      <td>-0.007477</td>\n",
       "      <td>-0.093085</td>\n",
       "      <td>-0.038141</td>\n",
       "    </tr>\n",
       "    <tr>\n",
       "      <th>2019-05</th>\n",
       "      <td>0.044749</td>\n",
       "      <td>-0.172228</td>\n",
       "      <td>0.007834</td>\n",
       "    </tr>\n",
       "    <tr>\n",
       "      <th>2019-06</th>\n",
       "      <td>0.149206</td>\n",
       "      <td>0.059261</td>\n",
       "      <td>0.099788</td>\n",
       "    </tr>\n",
       "    <tr>\n",
       "      <th>2019-07</th>\n",
       "      <td>0.107595</td>\n",
       "      <td>0.007572</td>\n",
       "      <td>0.063157</td>\n",
       "    </tr>\n",
       "    <tr>\n",
       "      <th>2019-08</th>\n",
       "      <td>0.031272</td>\n",
       "      <td>-0.007347</td>\n",
       "      <td>0.063157</td>\n",
       "    </tr>\n",
       "    <tr>\n",
       "      <th>2019-09</th>\n",
       "      <td>0.113121</td>\n",
       "      <td>0.001431</td>\n",
       "      <td>0.063157</td>\n",
       "    </tr>\n",
       "    <tr>\n",
       "      <th>2019-10</th>\n",
       "      <td>0.124122</td>\n",
       "      <td>0.018626</td>\n",
       "      <td>0.063157</td>\n",
       "    </tr>\n",
       "  </tbody>\n",
       "</table>\n",
       "</div>"
      ],
      "text/plain": [
       "          AAPL_NN   COKE_NN  GOOGL_NN\n",
       "Date                                 \n",
       "2019-01  0.060652 -0.000458  0.021834\n",
       "2019-02 -0.005493 -0.002889 -0.036394\n",
       "2019-03  0.082441 -0.055919  0.041015\n",
       "2019-04 -0.007477 -0.093085 -0.038141\n",
       "2019-05  0.044749 -0.172228  0.007834\n",
       "2019-06  0.149206  0.059261  0.099788\n",
       "2019-07  0.107595  0.007572  0.063157\n",
       "2019-08  0.031272 -0.007347  0.063157\n",
       "2019-09  0.113121  0.001431  0.063157\n",
       "2019-10  0.124122  0.018626  0.063157"
      ]
     },
     "execution_count": 162,
     "metadata": {},
     "output_type": "execute_result"
    }
   ],
   "source": [
    "stocks = ['AAPL', 'COKE', 'GOOGL']\n",
    "ret = pd.read_csv('exp_returns3.csv').set_index('Date')\n",
    "ret"
   ]
  },
  {
   "cell_type": "code",
   "execution_count": 163,
   "id": "bulgarian-maker",
   "metadata": {},
   "outputs": [],
   "source": [
    "#Annualized Return\n",
    "#exp_rets = expected_returns.mean_historical_return(ret)\n",
    "#Sample Variance of Portfolio\n",
    "cov_matrix = risk_models.sample_cov(ret)\n",
    "\n",
    "#print(type(exp_rets))\n",
    "#print(type(cov_matrix))\n",
    "\n",
    "exp_returns = ret.mean()    # get means for each column, convert to a list, convert to a numpy array\n",
    "#print(exp_returns)\n",
    "\n",
    "cov_matr = np.cov(np.array(ret.iloc[:,range(0,len(stocks))].T))   # get the columns and transpose it so it is in right format, then turn it into covariance matrix\n",
    "cov_matr = pd.DataFrame(cov_matr,columns=stocks)\n",
    "\n",
    "\n"
   ]
  },
  {
   "cell_type": "code",
   "execution_count": 164,
   "id": "employed-sleep",
   "metadata": {},
   "outputs": [
    {
     "data": {
      "text/plain": [
       "OrderedDict([('AAPL_NN', 0.5), ('COKE_NN', 0.0), ('GOOGL_NN', 0.5)])"
      ]
     },
     "execution_count": 164,
     "metadata": {},
     "output_type": "execute_result"
    }
   ],
   "source": [
    "ef = EfficientFrontier(exp_returns, cov_matr, weight_bounds=(0,0.5)) #weight bounds in negative allows shorting of stocks\n",
    "sharpe_port=ef.max_sharpe() #May use add objective to ensure minimum zero weighting to individual stocks\n",
    "#sharpe_port\n",
    "sharpe_weights=ef.clean_weights()\n",
    "sharpe_weights\n"
   ]
  },
  {
   "cell_type": "code",
   "execution_count": 165,
   "id": "artistic-syndrome",
   "metadata": {},
   "outputs": [],
   "source": [
    "weighted_returns = sharpe_weights * ret\n",
    "#weighted_returns"
   ]
  },
  {
   "cell_type": "code",
   "execution_count": 166,
   "id": "impressed-practice",
   "metadata": {},
   "outputs": [
    {
     "data": {
      "text/plain": [
       "Date\n",
       "2019-01    0.041243\n",
       "2019-02   -0.020944\n",
       "2019-03    0.061728\n",
       "2019-04   -0.022809\n",
       "2019-05    0.026291\n",
       "2019-06    0.124497\n",
       "2019-07    0.085376\n",
       "2019-08    0.047215\n",
       "2019-09    0.088139\n",
       "2019-10    0.093640\n",
       "dtype: float64"
      ]
     },
     "execution_count": 166,
     "metadata": {},
     "output_type": "execute_result"
    }
   ],
   "source": [
    "port_ret = weighted_returns.sum(axis=1)#axis =1 tels pandas to add the rows \n",
    "port_ret"
   ]
  },
  {
   "cell_type": "code",
   "execution_count": 167,
   "id": "labeled-jacksonville",
   "metadata": {},
   "outputs": [
    {
     "data": {
      "text/plain": [
       "1.0799436849133355"
      ]
     },
     "execution_count": 167,
     "metadata": {},
     "output_type": "execute_result"
    }
   ],
   "source": [
    "mean_ret = port_ret.mean()\n",
    "std_ret = port_ret.std()\n",
    "sharpe = mean_ret/std_ret\n",
    "sharpe\n"
   ]
  },
  {
   "cell_type": "markdown",
   "id": "separated-vessel",
   "metadata": {},
   "source": [
    "Some notes after speaking with Reha Tutuncu:\n",
    "- look up paper\n",
    "    - about optimization\n",
    "    - http://faculty.london.edu/avmiguel/DeMiguel-Garlappi-Uppal-RFS.pdf\n",
    "    - enhanced portfolio optimization; author (Patterson, Arty Levine)\n",
    "        - one issue with mean-variance optimization is if the correlations are over estimated, then the optimization takes advantage of that, and that reallocates to the pairs with high correlation (on the positive side of negative side)\n",
    "        - shrink them towards 0 and put more emphasis on correlations \n",
    "    - nested clustered optimization\n",
    "        - may be useful with multi asset class optimization- useful with bonds and stuff\n",
    "        - may not be the most useful if just equities\n",
    "    - mistakes\n",
    "        - a misalignment between risk model and return model- portfolios may have very large rates as optimization may think there is arbitrage\n",
    "        - make sure to review optimal portfolio weights and how they change from one time period to the next- keep an eye out for big changes as transaction costs could be big; make sure numbers are reasonable\n",
    "        - look at results and make sure they do not change too much"
   ]
  }
 ],
 "metadata": {
  "kernelspec": {
   "display_name": "Python 3",
   "language": "python",
   "name": "python3"
  },
  "language_info": {
   "codemirror_mode": {
    "name": "ipython",
    "version": 3
   },
   "file_extension": ".py",
   "mimetype": "text/x-python",
   "name": "python",
   "nbconvert_exporter": "python",
   "pygments_lexer": "ipython3",
   "version": "3.8.5"
  }
 },
 "nbformat": 4,
 "nbformat_minor": 5
}
